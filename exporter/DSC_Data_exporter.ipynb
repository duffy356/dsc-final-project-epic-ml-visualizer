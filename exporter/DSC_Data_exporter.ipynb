{
 "cells": [
  {
   "cell_type": "markdown",
   "id": "d13d7913",
   "metadata": {},
   "source": [
    "# Data Extractor: Epic Moment\n",
    "\n",
    "This notebook extracts and anonymizes chat data for the dsc project.\n",
    "\n",
    "It reads the data and anomyzes them and stores them in a new folder.\n",
    "\n",
    "\n",
    "\n",
    "\n",
    "\n"
   ]
  },
  {
   "cell_type": "markdown",
   "id": "195298e5",
   "metadata": {},
   "source": [
    "<a id='content'></a>\n",
    "## High-Level-Contents of this Notebook\n",
    "\n",
    "[Step 1: Find matches from 2 players and export data](#exportmatchdata)  \n",
    " - Selects from database (and dump into encrypted pickles)\n",
    "\n",
    "[Step 2: Read Chat from matches of whole gaming session](#exportchats)  \n",
    " - Read chat data of matches\n",
    " - anonymize\n",
    " - dump into pickles"
   ]
  },
  {
   "cell_type": "markdown",
   "id": "9b0a97c1",
   "metadata": {},
   "source": [
    "## Imports and required libraries"
   ]
  },
  {
   "cell_type": "code",
   "execution_count": 1,
   "id": "e5bbd59a",
   "metadata": {
    "pycharm": {
     "name": "#%%\n"
    }
   },
   "outputs": [],
   "source": [
    "import os\n",
    "import sys\n",
    "import pickle\n",
    "import dotenv\n",
    "import pyAesCrypt\n",
    "\n",
    "import numpy as np\n",
    "import pandas as pd\n",
    "\n",
    "from pathlib import Path\n",
    "from datetime import datetime, timedelta\n",
    "from pymongo import MongoClient\n",
    "\n",
    "\n",
    "\n",
    "# Global pandas options\n",
    "pd.set_option('display.max_columns', 500)\n",
    "pd.set_option('display.max_rows', 100)\n"
   ]
  },
  {
   "cell_type": "markdown",
   "id": "62e2595a",
   "metadata": {},
   "source": [
    "### Utility Functions for writing data or reading data from the *prepared_data* folder"
   ]
  },
  {
   "cell_type": "code",
   "execution_count": 2,
   "id": "dabfe2de",
   "metadata": {
    "pycharm": {
     "name": "#%%\n"
    }
   },
   "outputs": [],
   "source": [
    "def get_password():\n",
    "    basedir = get_dsc_data_file_path().parent\n",
    "    dotenv.load_dotenv(os.path.join(basedir, '.env'))\n",
    "    return os.environ.get('PICKLE_PW')\n",
    "\n",
    "def get_dsc_data_file_path():\n",
    "    src_path = Path(os.getcwd())\n",
    "    parent_path = src_path.parent.absolute()\n",
    "    dsc_data_path = parent_path.joinpath('dsc_data')\n",
    "\n",
    "    if not os.path.exists(dsc_data_path):\n",
    "        os.makedirs(dsc_data_path)\n",
    "    return dsc_data_path\n",
    "\n",
    "def get_player_data_file_path(playername):\n",
    "    dsc_path = get_dsc_data_file_path()\n",
    "\n",
    "    player_path = dsc_path.joinpath(playername)\n",
    "\n",
    "    if not os.path.exists(player_path):\n",
    "        os.makedirs(player_path)\n",
    "    return player_path\n",
    "\n",
    "def get_file_path(playername, file):\n",
    "    player_path = get_player_data_file_path(playername)\n",
    "    filename = f'{file}.pkl'\n",
    "    aes_filename = f'{filename}.aes'\n",
    "    return player_path.joinpath(filename), player_path.joinpath(aes_filename)\n",
    "\n",
    "def read_prepared_file(playername, file):\n",
    "    destination_file, aes_file = get_file_path(playername, file)\n",
    "    pyAesCrypt.decryptFile(aes_file, destination_file, get_password())\n",
    "    with open(destination_file, \"rb\") as src:\n",
    "        obj = pickle.load(src)\n",
    "        print(f'read {destination_file}')\n",
    "    os.remove(destination_file)\n",
    "    return obj\n",
    "\n",
    "def read_prepared_df_file(playername, df_file, index_col):\n",
    "    destination_file, aes_file = get_file_path(playername, df_file)\n",
    "    pyAesCrypt.decryptFile(aes_file, destination_file, get_password())\n",
    "    df = pd.read_csv(destination_file,index_col = index_col)\n",
    "    print(f'read {destination_file}')\n",
    "    os.remove(destination_file)\n",
    "    return df\n",
    "\n",
    "def write_prepared_file(obj, playername, file):\n",
    "    destination_file, aes_file = get_file_path(playername, file)\n",
    "    with open(destination_file, \"wb\") as dst:\n",
    "        pickle.dump(obj, dst)\n",
    "        print(f'wrote {destination_file}')\n",
    "    pyAesCrypt.encryptFile(destination_file, aes_file, get_password())\n",
    "    os.remove(destination_file)\n",
    "\n",
    "def write_prepared_df_file(df, playername, file):\n",
    "    destination_file, aes_file = get_file_path(playername, file)\n",
    "    df.to_csv(destination_file)\n",
    "    print(f'wrote {destination_file}')\n",
    "    pyAesCrypt.encryptFile(destination_file, aes_file, get_password())\n",
    "    os.remove(destination_file)\n",
    "\n",
    "def delete_dsc_data():\n",
    "    dsc_path = get_dsc_data_file_path()\n",
    "    for d in os.listdir(dsc_path):\n",
    "        folder_path = dsc_path.joinpath(d)\n",
    "        if os.path.isdir(folder_path):\n",
    "            for f in os.listdir(folder_path):\n",
    "                file_path = folder_path.joinpath(f)\n",
    "                os.remove(file_path)\n",
    "            os.rmdir(folder_path)\n",
    "        else:\n",
    "            os.remove(folder_path)\n",
    "    os.rmdir(dsc_path)"
   ]
  },
  {
   "cell_type": "code",
   "execution_count": 3,
   "id": "39114a51",
   "metadata": {
    "pycharm": {
     "name": "#%%\n"
    }
   },
   "outputs": [],
   "source": [
    "delete_dsc_data()"
   ]
  },
  {
   "cell_type": "markdown",
   "id": "9624a4b4",
   "metadata": {},
   "source": [
    "<a id='exportmatchdata'></a>\n",
    "## Step 1: Find matches from 2 players and export data | ([Jump to Contents](#content))"
   ]
  },
  {
   "cell_type": "markdown",
   "id": "78863dac",
   "metadata": {},
   "source": [
    "### Establish Connection to local DB\n",
    "\n",
    "This is only required for running the notebook with database access."
   ]
  },
  {
   "cell_type": "code",
   "execution_count": 4,
   "id": "2e02302e",
   "metadata": {
    "pycharm": {
     "name": "#%%\n"
    }
   },
   "outputs": [],
   "source": [
    "\n",
    "#Creating a pymongo client\n",
    "client = MongoClient('localhost', 27017)\n",
    "\n",
    "#Getting the database instance\n",
    "db = client['epicml']"
   ]
  },
  {
   "cell_type": "markdown",
   "id": "e5351168",
   "metadata": {},
   "source": [
    "### Export Matches of Streamers: tobiasfate and noway4u_sir"
   ]
  },
  {
   "cell_type": "markdown",
   "id": "514c6512",
   "metadata": {},
   "source": [
    "noway4u_sir is a streamer from Germany and his chat language is usually in German.\n",
    "\n",
    "Tobiasfate is a streamer from Canada and his chat language is usually English."
   ]
  },
  {
   "cell_type": "code",
   "execution_count": 5,
   "id": "afb13ba0",
   "metadata": {
    "pycharm": {
     "name": "#%%\n"
    }
   },
   "outputs": [],
   "source": [
    "def write_50_lol_matches(username):\n",
    "    mappings = list(db['twitch_channel_summoner_mapping'].find({'twitch_channel': username, 'status': 'COMPLETED'}))\n",
    "    pks = [channel['summoner_id'] for channel in mappings]\n",
    "    summoners = list(db['lol_summoner'].find({'_id': {'$in': pks}}))\n",
    "    matches = list(db['lol_match_participant_summary'].find({\"puuid\": {'$in': [summoner['puuid'] for summoner in summoners]}}))\n",
    "    match_ids = [match['matchId'] for match in matches]\n",
    "    match_ids = match_ids[:50]\n",
    "\n",
    "    match_summaries = list(db['lol_match_summary'].find({\"matchId\": {'$in': match_ids}}))\n",
    "    match_participant_summaries = list(db['lol_match_participant_summary'].find({\"matchId\": {'$in': match_ids}}))\n",
    "    match_timelines = list(db['lol_match_timeline'].find({\"matchId\": {'$in': match_ids}}))\n",
    "\n",
    "    write_prepared_file(match_summaries, username, \"match_summaries\")\n",
    "\n",
    "    # resolve 1:n problem\n",
    "    for match_id in match_ids:\n",
    "        match_participants = []\n",
    "        for participant in match_participant_summaries:\n",
    "            if participant['matchId'] == match_id:\n",
    "                match_participants.append(participant)\n",
    "        filename = f\"match_participant_summaries_{match_id}\"\n",
    "        write_prepared_file(match_participants, username, filename)\n",
    "\n",
    "    for timeline in match_timelines:\n",
    "        match_id = timeline['matchId']\n",
    "        write_prepared_file(timeline, username, f\"match_timeline_{match_id}\")\n",
    "\n",
    "    return match_participant_summaries, match_summaries, match_timelines"
   ]
  },
  {
   "cell_type": "code",
   "execution_count": 6,
   "id": "c791f041",
   "metadata": {
    "pycharm": {
     "name": "#%%\n"
    }
   },
   "outputs": [
    {
     "name": "stdout",
     "output_type": "stream",
     "text": [
      "wrote /Users/doba/Documents/TechnikumWien/3. Semester/Solution Deployment & Communication/dsc-final-project-epic-ml-visualizer/dsc_data/tobiasfate/match_summaries.pkl\n",
      "wrote /Users/doba/Documents/TechnikumWien/3. Semester/Solution Deployment & Communication/dsc-final-project-epic-ml-visualizer/dsc_data/tobiasfate/match_participant_summaries_NA1_4047445107.pkl\n",
      "wrote /Users/doba/Documents/TechnikumWien/3. Semester/Solution Deployment & Communication/dsc-final-project-epic-ml-visualizer/dsc_data/tobiasfate/match_participant_summaries_NA1_4034134889.pkl\n",
      "wrote /Users/doba/Documents/TechnikumWien/3. Semester/Solution Deployment & Communication/dsc-final-project-epic-ml-visualizer/dsc_data/tobiasfate/match_participant_summaries_NA1_4033596036.pkl\n",
      "wrote /Users/doba/Documents/TechnikumWien/3. Semester/Solution Deployment & Communication/dsc-final-project-epic-ml-visualizer/dsc_data/tobiasfate/match_participant_summaries_NA1_4033488515.pkl\n",
      "wrote /Users/doba/Documents/TechnikumWien/3. Semester/Solution Deployment & Communication/dsc-final-project-epic-ml-visualizer/dsc_data/tobiasfate/match_participant_summaries_NA1_4031221294.pkl\n",
      "wrote /Users/doba/Documents/TechnikumWien/3. Semester/Solution Deployment & Communication/dsc-final-project-epic-ml-visualizer/dsc_data/tobiasfate/match_participant_summaries_NA1_4084522676.pkl\n",
      "wrote /Users/doba/Documents/TechnikumWien/3. Semester/Solution Deployment & Communication/dsc-final-project-epic-ml-visualizer/dsc_data/tobiasfate/match_participant_summaries_NA1_4086247142.pkl\n",
      "wrote /Users/doba/Documents/TechnikumWien/3. Semester/Solution Deployment & Communication/dsc-final-project-epic-ml-visualizer/dsc_data/tobiasfate/match_participant_summaries_NA1_4161383123.pkl\n",
      "wrote /Users/doba/Documents/TechnikumWien/3. Semester/Solution Deployment & Communication/dsc-final-project-epic-ml-visualizer/dsc_data/tobiasfate/match_participant_summaries_NA1_4161375973.pkl\n",
      "wrote /Users/doba/Documents/TechnikumWien/3. Semester/Solution Deployment & Communication/dsc-final-project-epic-ml-visualizer/dsc_data/tobiasfate/match_participant_summaries_NA1_4166761418.pkl\n",
      "wrote /Users/doba/Documents/TechnikumWien/3. Semester/Solution Deployment & Communication/dsc-final-project-epic-ml-visualizer/dsc_data/tobiasfate/match_participant_summaries_NA1_4166758441.pkl\n",
      "wrote /Users/doba/Documents/TechnikumWien/3. Semester/Solution Deployment & Communication/dsc-final-project-epic-ml-visualizer/dsc_data/tobiasfate/match_participant_summaries_NA1_4166754410.pkl\n",
      "wrote /Users/doba/Documents/TechnikumWien/3. Semester/Solution Deployment & Communication/dsc-final-project-epic-ml-visualizer/dsc_data/tobiasfate/match_participant_summaries_NA1_4166679015.pkl\n",
      "wrote /Users/doba/Documents/TechnikumWien/3. Semester/Solution Deployment & Communication/dsc-final-project-epic-ml-visualizer/dsc_data/tobiasfate/match_participant_summaries_NA1_4166666165.pkl\n",
      "wrote /Users/doba/Documents/TechnikumWien/3. Semester/Solution Deployment & Communication/dsc-final-project-epic-ml-visualizer/dsc_data/tobiasfate/match_participant_summaries_NA1_4166643581.pkl\n",
      "wrote /Users/doba/Documents/TechnikumWien/3. Semester/Solution Deployment & Communication/dsc-final-project-epic-ml-visualizer/dsc_data/tobiasfate/match_participant_summaries_NA1_4166639836.pkl\n",
      "wrote /Users/doba/Documents/TechnikumWien/3. Semester/Solution Deployment & Communication/dsc-final-project-epic-ml-visualizer/dsc_data/tobiasfate/match_participant_summaries_NA1_4166612138.pkl\n",
      "wrote /Users/doba/Documents/TechnikumWien/3. Semester/Solution Deployment & Communication/dsc-final-project-epic-ml-visualizer/dsc_data/tobiasfate/match_participant_summaries_NA1_4166576153.pkl\n",
      "wrote /Users/doba/Documents/TechnikumWien/3. Semester/Solution Deployment & Communication/dsc-final-project-epic-ml-visualizer/dsc_data/tobiasfate/match_participant_summaries_NA1_4166568236.pkl\n",
      "wrote /Users/doba/Documents/TechnikumWien/3. Semester/Solution Deployment & Communication/dsc-final-project-epic-ml-visualizer/dsc_data/tobiasfate/match_participant_summaries_NA1_4166563128.pkl\n",
      "wrote /Users/doba/Documents/TechnikumWien/3. Semester/Solution Deployment & Communication/dsc-final-project-epic-ml-visualizer/dsc_data/tobiasfate/match_participant_summaries_NA1_4166554911.pkl\n",
      "wrote /Users/doba/Documents/TechnikumWien/3. Semester/Solution Deployment & Communication/dsc-final-project-epic-ml-visualizer/dsc_data/tobiasfate/match_participant_summaries_NA1_4165927815.pkl\n",
      "wrote /Users/doba/Documents/TechnikumWien/3. Semester/Solution Deployment & Communication/dsc-final-project-epic-ml-visualizer/dsc_data/tobiasfate/match_participant_summaries_NA1_4165922398.pkl\n",
      "wrote /Users/doba/Documents/TechnikumWien/3. Semester/Solution Deployment & Communication/dsc-final-project-epic-ml-visualizer/dsc_data/tobiasfate/match_participant_summaries_NA1_4167141393.pkl\n",
      "wrote /Users/doba/Documents/TechnikumWien/3. Semester/Solution Deployment & Communication/dsc-final-project-epic-ml-visualizer/dsc_data/tobiasfate/match_participant_summaries_NA1_4167084198.pkl\n",
      "wrote /Users/doba/Documents/TechnikumWien/3. Semester/Solution Deployment & Communication/dsc-final-project-epic-ml-visualizer/dsc_data/tobiasfate/match_participant_summaries_NA1_4167078694.pkl\n",
      "wrote /Users/doba/Documents/TechnikumWien/3. Semester/Solution Deployment & Communication/dsc-final-project-epic-ml-visualizer/dsc_data/tobiasfate/match_participant_summaries_NA1_4167051417.pkl\n",
      "wrote /Users/doba/Documents/TechnikumWien/3. Semester/Solution Deployment & Communication/dsc-final-project-epic-ml-visualizer/dsc_data/tobiasfate/match_participant_summaries_NA1_4166941630.pkl\n",
      "wrote /Users/doba/Documents/TechnikumWien/3. Semester/Solution Deployment & Communication/dsc-final-project-epic-ml-visualizer/dsc_data/tobiasfate/match_participant_summaries_NA1_4166896812.pkl\n",
      "wrote /Users/doba/Documents/TechnikumWien/3. Semester/Solution Deployment & Communication/dsc-final-project-epic-ml-visualizer/dsc_data/tobiasfate/match_participant_summaries_NA1_4166832935.pkl\n",
      "wrote /Users/doba/Documents/TechnikumWien/3. Semester/Solution Deployment & Communication/dsc-final-project-epic-ml-visualizer/dsc_data/tobiasfate/match_participant_summaries_NA1_4166817965.pkl\n",
      "wrote /Users/doba/Documents/TechnikumWien/3. Semester/Solution Deployment & Communication/dsc-final-project-epic-ml-visualizer/dsc_data/tobiasfate/match_participant_summaries_NA1_4081624340.pkl\n",
      "wrote /Users/doba/Documents/TechnikumWien/3. Semester/Solution Deployment & Communication/dsc-final-project-epic-ml-visualizer/dsc_data/tobiasfate/match_participant_summaries_NA1_4081579604.pkl\n",
      "wrote /Users/doba/Documents/TechnikumWien/3. Semester/Solution Deployment & Communication/dsc-final-project-epic-ml-visualizer/dsc_data/tobiasfate/match_participant_summaries_NA1_4081375553.pkl\n",
      "wrote /Users/doba/Documents/TechnikumWien/3. Semester/Solution Deployment & Communication/dsc-final-project-epic-ml-visualizer/dsc_data/tobiasfate/match_participant_summaries_NA1_4081392599.pkl\n",
      "wrote /Users/doba/Documents/TechnikumWien/3. Semester/Solution Deployment & Communication/dsc-final-project-epic-ml-visualizer/dsc_data/tobiasfate/match_participant_summaries_NA1_4081370825.pkl\n",
      "wrote /Users/doba/Documents/TechnikumWien/3. Semester/Solution Deployment & Communication/dsc-final-project-epic-ml-visualizer/dsc_data/tobiasfate/match_participant_summaries_NA1_4081347519.pkl\n",
      "wrote /Users/doba/Documents/TechnikumWien/3. Semester/Solution Deployment & Communication/dsc-final-project-epic-ml-visualizer/dsc_data/tobiasfate/match_participant_summaries_NA1_4081307165.pkl\n",
      "wrote /Users/doba/Documents/TechnikumWien/3. Semester/Solution Deployment & Communication/dsc-final-project-epic-ml-visualizer/dsc_data/tobiasfate/match_participant_summaries_NA1_4081315391.pkl\n",
      "wrote /Users/doba/Documents/TechnikumWien/3. Semester/Solution Deployment & Communication/dsc-final-project-epic-ml-visualizer/dsc_data/tobiasfate/match_participant_summaries_NA1_4081362826.pkl\n",
      "wrote /Users/doba/Documents/TechnikumWien/3. Semester/Solution Deployment & Communication/dsc-final-project-epic-ml-visualizer/dsc_data/tobiasfate/match_participant_summaries_NA1_4081322273.pkl\n",
      "wrote /Users/doba/Documents/TechnikumWien/3. Semester/Solution Deployment & Communication/dsc-final-project-epic-ml-visualizer/dsc_data/tobiasfate/match_participant_summaries_NA1_4081350583.pkl\n"
     ]
    },
    {
     "name": "stdout",
     "output_type": "stream",
     "text": [
      "wrote /Users/doba/Documents/TechnikumWien/3. Semester/Solution Deployment & Communication/dsc-final-project-epic-ml-visualizer/dsc_data/tobiasfate/match_participant_summaries_NA1_4081298888.pkl\n",
      "wrote /Users/doba/Documents/TechnikumWien/3. Semester/Solution Deployment & Communication/dsc-final-project-epic-ml-visualizer/dsc_data/tobiasfate/match_participant_summaries_NA1_4080918526.pkl\n",
      "wrote /Users/doba/Documents/TechnikumWien/3. Semester/Solution Deployment & Communication/dsc-final-project-epic-ml-visualizer/dsc_data/tobiasfate/match_participant_summaries_NA1_4080885402.pkl\n",
      "wrote /Users/doba/Documents/TechnikumWien/3. Semester/Solution Deployment & Communication/dsc-final-project-epic-ml-visualizer/dsc_data/tobiasfate/match_participant_summaries_NA1_4080848287.pkl\n",
      "wrote /Users/doba/Documents/TechnikumWien/3. Semester/Solution Deployment & Communication/dsc-final-project-epic-ml-visualizer/dsc_data/tobiasfate/match_participant_summaries_NA1_4080660913.pkl\n",
      "wrote /Users/doba/Documents/TechnikumWien/3. Semester/Solution Deployment & Communication/dsc-final-project-epic-ml-visualizer/dsc_data/tobiasfate/match_participant_summaries_NA1_4080577212.pkl\n",
      "wrote /Users/doba/Documents/TechnikumWien/3. Semester/Solution Deployment & Communication/dsc-final-project-epic-ml-visualizer/dsc_data/tobiasfate/match_participant_summaries_NA1_4080573084.pkl\n",
      "wrote /Users/doba/Documents/TechnikumWien/3. Semester/Solution Deployment & Communication/dsc-final-project-epic-ml-visualizer/dsc_data/tobiasfate/match_participant_summaries_NA1_4080550359.pkl\n",
      "wrote /Users/doba/Documents/TechnikumWien/3. Semester/Solution Deployment & Communication/dsc-final-project-epic-ml-visualizer/dsc_data/tobiasfate/match_timeline_NA1_4031221294.pkl\n",
      "wrote /Users/doba/Documents/TechnikumWien/3. Semester/Solution Deployment & Communication/dsc-final-project-epic-ml-visualizer/dsc_data/tobiasfate/match_timeline_NA1_4033488515.pkl\n",
      "wrote /Users/doba/Documents/TechnikumWien/3. Semester/Solution Deployment & Communication/dsc-final-project-epic-ml-visualizer/dsc_data/tobiasfate/match_timeline_NA1_4033596036.pkl\n",
      "wrote /Users/doba/Documents/TechnikumWien/3. Semester/Solution Deployment & Communication/dsc-final-project-epic-ml-visualizer/dsc_data/tobiasfate/match_timeline_NA1_4034134889.pkl\n",
      "wrote /Users/doba/Documents/TechnikumWien/3. Semester/Solution Deployment & Communication/dsc-final-project-epic-ml-visualizer/dsc_data/tobiasfate/match_timeline_NA1_4047445107.pkl\n",
      "wrote /Users/doba/Documents/TechnikumWien/3. Semester/Solution Deployment & Communication/dsc-final-project-epic-ml-visualizer/dsc_data/tobiasfate/match_timeline_NA1_4080550359.pkl\n",
      "wrote /Users/doba/Documents/TechnikumWien/3. Semester/Solution Deployment & Communication/dsc-final-project-epic-ml-visualizer/dsc_data/tobiasfate/match_timeline_NA1_4080573084.pkl\n",
      "wrote /Users/doba/Documents/TechnikumWien/3. Semester/Solution Deployment & Communication/dsc-final-project-epic-ml-visualizer/dsc_data/tobiasfate/match_timeline_NA1_4080577212.pkl\n",
      "wrote /Users/doba/Documents/TechnikumWien/3. Semester/Solution Deployment & Communication/dsc-final-project-epic-ml-visualizer/dsc_data/tobiasfate/match_timeline_NA1_4080660913.pkl\n",
      "wrote /Users/doba/Documents/TechnikumWien/3. Semester/Solution Deployment & Communication/dsc-final-project-epic-ml-visualizer/dsc_data/tobiasfate/match_timeline_NA1_4080848287.pkl\n",
      "wrote /Users/doba/Documents/TechnikumWien/3. Semester/Solution Deployment & Communication/dsc-final-project-epic-ml-visualizer/dsc_data/tobiasfate/match_timeline_NA1_4080885402.pkl\n",
      "wrote /Users/doba/Documents/TechnikumWien/3. Semester/Solution Deployment & Communication/dsc-final-project-epic-ml-visualizer/dsc_data/tobiasfate/match_timeline_NA1_4080918526.pkl\n",
      "wrote /Users/doba/Documents/TechnikumWien/3. Semester/Solution Deployment & Communication/dsc-final-project-epic-ml-visualizer/dsc_data/tobiasfate/match_timeline_NA1_4081298888.pkl\n",
      "wrote /Users/doba/Documents/TechnikumWien/3. Semester/Solution Deployment & Communication/dsc-final-project-epic-ml-visualizer/dsc_data/tobiasfate/match_timeline_NA1_4081307165.pkl\n",
      "wrote /Users/doba/Documents/TechnikumWien/3. Semester/Solution Deployment & Communication/dsc-final-project-epic-ml-visualizer/dsc_data/tobiasfate/match_timeline_NA1_4081315391.pkl\n",
      "wrote /Users/doba/Documents/TechnikumWien/3. Semester/Solution Deployment & Communication/dsc-final-project-epic-ml-visualizer/dsc_data/tobiasfate/match_timeline_NA1_4081322273.pkl\n",
      "wrote /Users/doba/Documents/TechnikumWien/3. Semester/Solution Deployment & Communication/dsc-final-project-epic-ml-visualizer/dsc_data/tobiasfate/match_timeline_NA1_4081347519.pkl\n",
      "wrote /Users/doba/Documents/TechnikumWien/3. Semester/Solution Deployment & Communication/dsc-final-project-epic-ml-visualizer/dsc_data/tobiasfate/match_timeline_NA1_4081350583.pkl\n",
      "wrote /Users/doba/Documents/TechnikumWien/3. Semester/Solution Deployment & Communication/dsc-final-project-epic-ml-visualizer/dsc_data/tobiasfate/match_timeline_NA1_4081362826.pkl\n",
      "wrote /Users/doba/Documents/TechnikumWien/3. Semester/Solution Deployment & Communication/dsc-final-project-epic-ml-visualizer/dsc_data/tobiasfate/match_timeline_NA1_4081370825.pkl\n",
      "wrote /Users/doba/Documents/TechnikumWien/3. Semester/Solution Deployment & Communication/dsc-final-project-epic-ml-visualizer/dsc_data/tobiasfate/match_timeline_NA1_4081375553.pkl\n",
      "wrote /Users/doba/Documents/TechnikumWien/3. Semester/Solution Deployment & Communication/dsc-final-project-epic-ml-visualizer/dsc_data/tobiasfate/match_timeline_NA1_4081392599.pkl\n",
      "wrote /Users/doba/Documents/TechnikumWien/3. Semester/Solution Deployment & Communication/dsc-final-project-epic-ml-visualizer/dsc_data/tobiasfate/match_timeline_NA1_4081579604.pkl\n",
      "wrote /Users/doba/Documents/TechnikumWien/3. Semester/Solution Deployment & Communication/dsc-final-project-epic-ml-visualizer/dsc_data/tobiasfate/match_timeline_NA1_4081624340.pkl\n",
      "wrote /Users/doba/Documents/TechnikumWien/3. Semester/Solution Deployment & Communication/dsc-final-project-epic-ml-visualizer/dsc_data/tobiasfate/match_timeline_NA1_4084522676.pkl\n",
      "wrote /Users/doba/Documents/TechnikumWien/3. Semester/Solution Deployment & Communication/dsc-final-project-epic-ml-visualizer/dsc_data/tobiasfate/match_timeline_NA1_4086247142.pkl\n",
      "wrote /Users/doba/Documents/TechnikumWien/3. Semester/Solution Deployment & Communication/dsc-final-project-epic-ml-visualizer/dsc_data/tobiasfate/match_timeline_NA1_4161375973.pkl\n",
      "wrote /Users/doba/Documents/TechnikumWien/3. Semester/Solution Deployment & Communication/dsc-final-project-epic-ml-visualizer/dsc_data/tobiasfate/match_timeline_NA1_4161383123.pkl\n",
      "wrote /Users/doba/Documents/TechnikumWien/3. Semester/Solution Deployment & Communication/dsc-final-project-epic-ml-visualizer/dsc_data/tobiasfate/match_timeline_NA1_4165922398.pkl\n",
      "wrote /Users/doba/Documents/TechnikumWien/3. Semester/Solution Deployment & Communication/dsc-final-project-epic-ml-visualizer/dsc_data/tobiasfate/match_timeline_NA1_4165927815.pkl\n",
      "wrote /Users/doba/Documents/TechnikumWien/3. Semester/Solution Deployment & Communication/dsc-final-project-epic-ml-visualizer/dsc_data/tobiasfate/match_timeline_NA1_4166554911.pkl\n",
      "wrote /Users/doba/Documents/TechnikumWien/3. Semester/Solution Deployment & Communication/dsc-final-project-epic-ml-visualizer/dsc_data/tobiasfate/match_timeline_NA1_4166563128.pkl\n",
      "wrote /Users/doba/Documents/TechnikumWien/3. Semester/Solution Deployment & Communication/dsc-final-project-epic-ml-visualizer/dsc_data/tobiasfate/match_timeline_NA1_4166568236.pkl\n",
      "wrote /Users/doba/Documents/TechnikumWien/3. Semester/Solution Deployment & Communication/dsc-final-project-epic-ml-visualizer/dsc_data/tobiasfate/match_timeline_NA1_4166576153.pkl\n",
      "wrote /Users/doba/Documents/TechnikumWien/3. Semester/Solution Deployment & Communication/dsc-final-project-epic-ml-visualizer/dsc_data/tobiasfate/match_timeline_NA1_4166612138.pkl\n",
      "wrote /Users/doba/Documents/TechnikumWien/3. Semester/Solution Deployment & Communication/dsc-final-project-epic-ml-visualizer/dsc_data/tobiasfate/match_timeline_NA1_4166639836.pkl\n",
      "wrote /Users/doba/Documents/TechnikumWien/3. Semester/Solution Deployment & Communication/dsc-final-project-epic-ml-visualizer/dsc_data/tobiasfate/match_timeline_NA1_4166643581.pkl\n"
     ]
    },
    {
     "name": "stdout",
     "output_type": "stream",
     "text": [
      "wrote /Users/doba/Documents/TechnikumWien/3. Semester/Solution Deployment & Communication/dsc-final-project-epic-ml-visualizer/dsc_data/tobiasfate/match_timeline_NA1_4166666165.pkl\n",
      "wrote /Users/doba/Documents/TechnikumWien/3. Semester/Solution Deployment & Communication/dsc-final-project-epic-ml-visualizer/dsc_data/tobiasfate/match_timeline_NA1_4166679015.pkl\n",
      "wrote /Users/doba/Documents/TechnikumWien/3. Semester/Solution Deployment & Communication/dsc-final-project-epic-ml-visualizer/dsc_data/tobiasfate/match_timeline_NA1_4166754410.pkl\n",
      "wrote /Users/doba/Documents/TechnikumWien/3. Semester/Solution Deployment & Communication/dsc-final-project-epic-ml-visualizer/dsc_data/tobiasfate/match_timeline_NA1_4166758441.pkl\n",
      "wrote /Users/doba/Documents/TechnikumWien/3. Semester/Solution Deployment & Communication/dsc-final-project-epic-ml-visualizer/dsc_data/tobiasfate/match_timeline_NA1_4166761418.pkl\n",
      "wrote /Users/doba/Documents/TechnikumWien/3. Semester/Solution Deployment & Communication/dsc-final-project-epic-ml-visualizer/dsc_data/tobiasfate/match_timeline_NA1_4166817965.pkl\n",
      "wrote /Users/doba/Documents/TechnikumWien/3. Semester/Solution Deployment & Communication/dsc-final-project-epic-ml-visualizer/dsc_data/tobiasfate/match_timeline_NA1_4166832935.pkl\n",
      "wrote /Users/doba/Documents/TechnikumWien/3. Semester/Solution Deployment & Communication/dsc-final-project-epic-ml-visualizer/dsc_data/tobiasfate/match_timeline_NA1_4166896812.pkl\n",
      "wrote /Users/doba/Documents/TechnikumWien/3. Semester/Solution Deployment & Communication/dsc-final-project-epic-ml-visualizer/dsc_data/tobiasfate/match_timeline_NA1_4166941630.pkl\n",
      "wrote /Users/doba/Documents/TechnikumWien/3. Semester/Solution Deployment & Communication/dsc-final-project-epic-ml-visualizer/dsc_data/tobiasfate/match_timeline_NA1_4167051417.pkl\n",
      "wrote /Users/doba/Documents/TechnikumWien/3. Semester/Solution Deployment & Communication/dsc-final-project-epic-ml-visualizer/dsc_data/tobiasfate/match_timeline_NA1_4167078694.pkl\n",
      "wrote /Users/doba/Documents/TechnikumWien/3. Semester/Solution Deployment & Communication/dsc-final-project-epic-ml-visualizer/dsc_data/tobiasfate/match_timeline_NA1_4167084198.pkl\n",
      "wrote /Users/doba/Documents/TechnikumWien/3. Semester/Solution Deployment & Communication/dsc-final-project-epic-ml-visualizer/dsc_data/tobiasfate/match_timeline_NA1_4167141393.pkl\n"
     ]
    }
   ],
   "source": [
    "tf_matches, tf_summaries, tf_timelines = write_50_lol_matches('tobiasfate')"
   ]
  },
  {
   "cell_type": "code",
   "execution_count": 7,
   "id": "eb5e29ba",
   "metadata": {
    "pycharm": {
     "name": "#%%\n"
    }
   },
   "outputs": [
    {
     "name": "stdout",
     "output_type": "stream",
     "text": [
      "wrote /Users/doba/Documents/TechnikumWien/3. Semester/Solution Deployment & Communication/dsc-final-project-epic-ml-visualizer/dsc_data/noway4u_sir/match_summaries.pkl\n",
      "wrote /Users/doba/Documents/TechnikumWien/3. Semester/Solution Deployment & Communication/dsc-final-project-epic-ml-visualizer/dsc_data/noway4u_sir/match_participant_summaries_NA1_4112918754.pkl\n",
      "wrote /Users/doba/Documents/TechnikumWien/3. Semester/Solution Deployment & Communication/dsc-final-project-epic-ml-visualizer/dsc_data/noway4u_sir/match_participant_summaries_NA1_4113114496.pkl\n",
      "wrote /Users/doba/Documents/TechnikumWien/3. Semester/Solution Deployment & Communication/dsc-final-project-epic-ml-visualizer/dsc_data/noway4u_sir/match_participant_summaries_NA1_4113054688.pkl\n",
      "wrote /Users/doba/Documents/TechnikumWien/3. Semester/Solution Deployment & Communication/dsc-final-project-epic-ml-visualizer/dsc_data/noway4u_sir/match_participant_summaries_NA1_4113031259.pkl\n",
      "wrote /Users/doba/Documents/TechnikumWien/3. Semester/Solution Deployment & Communication/dsc-final-project-epic-ml-visualizer/dsc_data/noway4u_sir/match_participant_summaries_NA1_4114353407.pkl\n",
      "wrote /Users/doba/Documents/TechnikumWien/3. Semester/Solution Deployment & Communication/dsc-final-project-epic-ml-visualizer/dsc_data/noway4u_sir/match_participant_summaries_NA1_4114410624.pkl\n",
      "wrote /Users/doba/Documents/TechnikumWien/3. Semester/Solution Deployment & Communication/dsc-final-project-epic-ml-visualizer/dsc_data/noway4u_sir/match_participant_summaries_NA1_4114896489.pkl\n",
      "wrote /Users/doba/Documents/TechnikumWien/3. Semester/Solution Deployment & Communication/dsc-final-project-epic-ml-visualizer/dsc_data/noway4u_sir/match_participant_summaries_NA1_4114384279.pkl\n",
      "wrote /Users/doba/Documents/TechnikumWien/3. Semester/Solution Deployment & Communication/dsc-final-project-epic-ml-visualizer/dsc_data/noway4u_sir/match_participant_summaries_NA1_4115509715.pkl\n",
      "wrote /Users/doba/Documents/TechnikumWien/3. Semester/Solution Deployment & Communication/dsc-final-project-epic-ml-visualizer/dsc_data/noway4u_sir/match_participant_summaries_NA1_4114572094.pkl\n",
      "wrote /Users/doba/Documents/TechnikumWien/3. Semester/Solution Deployment & Communication/dsc-final-project-epic-ml-visualizer/dsc_data/noway4u_sir/match_participant_summaries_NA1_4115483709.pkl\n",
      "wrote /Users/doba/Documents/TechnikumWien/3. Semester/Solution Deployment & Communication/dsc-final-project-epic-ml-visualizer/dsc_data/noway4u_sir/match_participant_summaries_NA1_4116741548.pkl\n",
      "wrote /Users/doba/Documents/TechnikumWien/3. Semester/Solution Deployment & Communication/dsc-final-project-epic-ml-visualizer/dsc_data/noway4u_sir/match_participant_summaries_NA1_4116748183.pkl\n",
      "wrote /Users/doba/Documents/TechnikumWien/3. Semester/Solution Deployment & Communication/dsc-final-project-epic-ml-visualizer/dsc_data/noway4u_sir/match_participant_summaries_NA1_4115495602.pkl\n",
      "wrote /Users/doba/Documents/TechnikumWien/3. Semester/Solution Deployment & Communication/dsc-final-project-epic-ml-visualizer/dsc_data/noway4u_sir/match_participant_summaries_NA1_4116366488.pkl\n",
      "wrote /Users/doba/Documents/TechnikumWien/3. Semester/Solution Deployment & Communication/dsc-final-project-epic-ml-visualizer/dsc_data/noway4u_sir/match_participant_summaries_NA1_4117096306.pkl\n",
      "wrote /Users/doba/Documents/TechnikumWien/3. Semester/Solution Deployment & Communication/dsc-final-project-epic-ml-visualizer/dsc_data/noway4u_sir/match_participant_summaries_NA1_4117881867.pkl\n",
      "wrote /Users/doba/Documents/TechnikumWien/3. Semester/Solution Deployment & Communication/dsc-final-project-epic-ml-visualizer/dsc_data/noway4u_sir/match_participant_summaries_NA1_4118145454.pkl\n",
      "wrote /Users/doba/Documents/TechnikumWien/3. Semester/Solution Deployment & Communication/dsc-final-project-epic-ml-visualizer/dsc_data/noway4u_sir/match_participant_summaries_NA1_4117897084.pkl\n",
      "wrote /Users/doba/Documents/TechnikumWien/3. Semester/Solution Deployment & Communication/dsc-final-project-epic-ml-visualizer/dsc_data/noway4u_sir/match_participant_summaries_NA1_4118140558.pkl\n",
      "wrote /Users/doba/Documents/TechnikumWien/3. Semester/Solution Deployment & Communication/dsc-final-project-epic-ml-visualizer/dsc_data/noway4u_sir/match_participant_summaries_NA1_4117985954.pkl\n",
      "wrote /Users/doba/Documents/TechnikumWien/3. Semester/Solution Deployment & Communication/dsc-final-project-epic-ml-visualizer/dsc_data/noway4u_sir/match_participant_summaries_NA1_4117971821.pkl\n",
      "wrote /Users/doba/Documents/TechnikumWien/3. Semester/Solution Deployment & Communication/dsc-final-project-epic-ml-visualizer/dsc_data/noway4u_sir/match_participant_summaries_NA1_4119907297.pkl\n",
      "wrote /Users/doba/Documents/TechnikumWien/3. Semester/Solution Deployment & Communication/dsc-final-project-epic-ml-visualizer/dsc_data/noway4u_sir/match_participant_summaries_NA1_4119487449.pkl\n",
      "wrote /Users/doba/Documents/TechnikumWien/3. Semester/Solution Deployment & Communication/dsc-final-project-epic-ml-visualizer/dsc_data/noway4u_sir/match_participant_summaries_NA1_4119985066.pkl\n",
      "wrote /Users/doba/Documents/TechnikumWien/3. Semester/Solution Deployment & Communication/dsc-final-project-epic-ml-visualizer/dsc_data/noway4u_sir/match_participant_summaries_NA1_4119673297.pkl\n",
      "wrote /Users/doba/Documents/TechnikumWien/3. Semester/Solution Deployment & Communication/dsc-final-project-epic-ml-visualizer/dsc_data/noway4u_sir/match_participant_summaries_NA1_4119588134.pkl\n",
      "wrote /Users/doba/Documents/TechnikumWien/3. Semester/Solution Deployment & Communication/dsc-final-project-epic-ml-visualizer/dsc_data/noway4u_sir/match_participant_summaries_NA1_4119412825.pkl\n",
      "wrote /Users/doba/Documents/TechnikumWien/3. Semester/Solution Deployment & Communication/dsc-final-project-epic-ml-visualizer/dsc_data/noway4u_sir/match_participant_summaries_NA1_4119574152.pkl\n",
      "wrote /Users/doba/Documents/TechnikumWien/3. Semester/Solution Deployment & Communication/dsc-final-project-epic-ml-visualizer/dsc_data/noway4u_sir/match_participant_summaries_NA1_4120457571.pkl\n",
      "wrote /Users/doba/Documents/TechnikumWien/3. Semester/Solution Deployment & Communication/dsc-final-project-epic-ml-visualizer/dsc_data/noway4u_sir/match_participant_summaries_NA1_4121986304.pkl\n",
      "wrote /Users/doba/Documents/TechnikumWien/3. Semester/Solution Deployment & Communication/dsc-final-project-epic-ml-visualizer/dsc_data/noway4u_sir/match_participant_summaries_NA1_4121902442.pkl\n",
      "wrote /Users/doba/Documents/TechnikumWien/3. Semester/Solution Deployment & Communication/dsc-final-project-epic-ml-visualizer/dsc_data/noway4u_sir/match_participant_summaries_NA1_4121786986.pkl\n",
      "wrote /Users/doba/Documents/TechnikumWien/3. Semester/Solution Deployment & Communication/dsc-final-project-epic-ml-visualizer/dsc_data/noway4u_sir/match_participant_summaries_NA1_4121510202.pkl\n",
      "wrote /Users/doba/Documents/TechnikumWien/3. Semester/Solution Deployment & Communication/dsc-final-project-epic-ml-visualizer/dsc_data/noway4u_sir/match_participant_summaries_NA1_4119331516.pkl\n",
      "wrote /Users/doba/Documents/TechnikumWien/3. Semester/Solution Deployment & Communication/dsc-final-project-epic-ml-visualizer/dsc_data/noway4u_sir/match_participant_summaries_NA1_4121616007.pkl\n",
      "wrote /Users/doba/Documents/TechnikumWien/3. Semester/Solution Deployment & Communication/dsc-final-project-epic-ml-visualizer/dsc_data/noway4u_sir/match_participant_summaries_NA1_4121512011.pkl\n",
      "wrote /Users/doba/Documents/TechnikumWien/3. Semester/Solution Deployment & Communication/dsc-final-project-epic-ml-visualizer/dsc_data/noway4u_sir/match_participant_summaries_NA1_4120666300.pkl\n",
      "wrote /Users/doba/Documents/TechnikumWien/3. Semester/Solution Deployment & Communication/dsc-final-project-epic-ml-visualizer/dsc_data/noway4u_sir/match_participant_summaries_NA1_4120580479.pkl\n",
      "wrote /Users/doba/Documents/TechnikumWien/3. Semester/Solution Deployment & Communication/dsc-final-project-epic-ml-visualizer/dsc_data/noway4u_sir/match_participant_summaries_NA1_4120734190.pkl\n",
      "wrote /Users/doba/Documents/TechnikumWien/3. Semester/Solution Deployment & Communication/dsc-final-project-epic-ml-visualizer/dsc_data/noway4u_sir/match_participant_summaries_NA1_4123022615.pkl\n",
      "wrote /Users/doba/Documents/TechnikumWien/3. Semester/Solution Deployment & Communication/dsc-final-project-epic-ml-visualizer/dsc_data/noway4u_sir/match_participant_summaries_NA1_4122855882.pkl\n"
     ]
    },
    {
     "name": "stdout",
     "output_type": "stream",
     "text": [
      "wrote /Users/doba/Documents/TechnikumWien/3. Semester/Solution Deployment & Communication/dsc-final-project-epic-ml-visualizer/dsc_data/noway4u_sir/match_participant_summaries_NA1_4122872258.pkl\n",
      "wrote /Users/doba/Documents/TechnikumWien/3. Semester/Solution Deployment & Communication/dsc-final-project-epic-ml-visualizer/dsc_data/noway4u_sir/match_participant_summaries_NA1_4122840220.pkl\n",
      "wrote /Users/doba/Documents/TechnikumWien/3. Semester/Solution Deployment & Communication/dsc-final-project-epic-ml-visualizer/dsc_data/noway4u_sir/match_participant_summaries_NA1_4122101140.pkl\n",
      "wrote /Users/doba/Documents/TechnikumWien/3. Semester/Solution Deployment & Communication/dsc-final-project-epic-ml-visualizer/dsc_data/noway4u_sir/match_participant_summaries_NA1_4121762938.pkl\n",
      "wrote /Users/doba/Documents/TechnikumWien/3. Semester/Solution Deployment & Communication/dsc-final-project-epic-ml-visualizer/dsc_data/noway4u_sir/match_participant_summaries_NA1_4120609128.pkl\n",
      "wrote /Users/doba/Documents/TechnikumWien/3. Semester/Solution Deployment & Communication/dsc-final-project-epic-ml-visualizer/dsc_data/noway4u_sir/match_participant_summaries_NA1_4123006893.pkl\n",
      "wrote /Users/doba/Documents/TechnikumWien/3. Semester/Solution Deployment & Communication/dsc-final-project-epic-ml-visualizer/dsc_data/noway4u_sir/match_participant_summaries_NA1_4123010103.pkl\n",
      "wrote /Users/doba/Documents/TechnikumWien/3. Semester/Solution Deployment & Communication/dsc-final-project-epic-ml-visualizer/dsc_data/noway4u_sir/match_participant_summaries_NA1_4123093726.pkl\n",
      "wrote /Users/doba/Documents/TechnikumWien/3. Semester/Solution Deployment & Communication/dsc-final-project-epic-ml-visualizer/dsc_data/noway4u_sir/match_timeline_NA1_4112918754.pkl\n",
      "wrote /Users/doba/Documents/TechnikumWien/3. Semester/Solution Deployment & Communication/dsc-final-project-epic-ml-visualizer/dsc_data/noway4u_sir/match_timeline_NA1_4113031259.pkl\n",
      "wrote /Users/doba/Documents/TechnikumWien/3. Semester/Solution Deployment & Communication/dsc-final-project-epic-ml-visualizer/dsc_data/noway4u_sir/match_timeline_NA1_4113054688.pkl\n",
      "wrote /Users/doba/Documents/TechnikumWien/3. Semester/Solution Deployment & Communication/dsc-final-project-epic-ml-visualizer/dsc_data/noway4u_sir/match_timeline_NA1_4113114496.pkl\n",
      "wrote /Users/doba/Documents/TechnikumWien/3. Semester/Solution Deployment & Communication/dsc-final-project-epic-ml-visualizer/dsc_data/noway4u_sir/match_timeline_NA1_4114353407.pkl\n",
      "wrote /Users/doba/Documents/TechnikumWien/3. Semester/Solution Deployment & Communication/dsc-final-project-epic-ml-visualizer/dsc_data/noway4u_sir/match_timeline_NA1_4114384279.pkl\n",
      "wrote /Users/doba/Documents/TechnikumWien/3. Semester/Solution Deployment & Communication/dsc-final-project-epic-ml-visualizer/dsc_data/noway4u_sir/match_timeline_NA1_4114410624.pkl\n",
      "wrote /Users/doba/Documents/TechnikumWien/3. Semester/Solution Deployment & Communication/dsc-final-project-epic-ml-visualizer/dsc_data/noway4u_sir/match_timeline_NA1_4114572094.pkl\n",
      "wrote /Users/doba/Documents/TechnikumWien/3. Semester/Solution Deployment & Communication/dsc-final-project-epic-ml-visualizer/dsc_data/noway4u_sir/match_timeline_NA1_4114896489.pkl\n",
      "wrote /Users/doba/Documents/TechnikumWien/3. Semester/Solution Deployment & Communication/dsc-final-project-epic-ml-visualizer/dsc_data/noway4u_sir/match_timeline_NA1_4115483709.pkl\n",
      "wrote /Users/doba/Documents/TechnikumWien/3. Semester/Solution Deployment & Communication/dsc-final-project-epic-ml-visualizer/dsc_data/noway4u_sir/match_timeline_NA1_4115495602.pkl\n",
      "wrote /Users/doba/Documents/TechnikumWien/3. Semester/Solution Deployment & Communication/dsc-final-project-epic-ml-visualizer/dsc_data/noway4u_sir/match_timeline_NA1_4115509715.pkl\n",
      "wrote /Users/doba/Documents/TechnikumWien/3. Semester/Solution Deployment & Communication/dsc-final-project-epic-ml-visualizer/dsc_data/noway4u_sir/match_timeline_NA1_4116366488.pkl\n",
      "wrote /Users/doba/Documents/TechnikumWien/3. Semester/Solution Deployment & Communication/dsc-final-project-epic-ml-visualizer/dsc_data/noway4u_sir/match_timeline_NA1_4116741548.pkl\n",
      "wrote /Users/doba/Documents/TechnikumWien/3. Semester/Solution Deployment & Communication/dsc-final-project-epic-ml-visualizer/dsc_data/noway4u_sir/match_timeline_NA1_4116748183.pkl\n",
      "wrote /Users/doba/Documents/TechnikumWien/3. Semester/Solution Deployment & Communication/dsc-final-project-epic-ml-visualizer/dsc_data/noway4u_sir/match_timeline_NA1_4117096306.pkl\n",
      "wrote /Users/doba/Documents/TechnikumWien/3. Semester/Solution Deployment & Communication/dsc-final-project-epic-ml-visualizer/dsc_data/noway4u_sir/match_timeline_NA1_4117881867.pkl\n",
      "wrote /Users/doba/Documents/TechnikumWien/3. Semester/Solution Deployment & Communication/dsc-final-project-epic-ml-visualizer/dsc_data/noway4u_sir/match_timeline_NA1_4117897084.pkl\n",
      "wrote /Users/doba/Documents/TechnikumWien/3. Semester/Solution Deployment & Communication/dsc-final-project-epic-ml-visualizer/dsc_data/noway4u_sir/match_timeline_NA1_4117971821.pkl\n",
      "wrote /Users/doba/Documents/TechnikumWien/3. Semester/Solution Deployment & Communication/dsc-final-project-epic-ml-visualizer/dsc_data/noway4u_sir/match_timeline_NA1_4117985954.pkl\n",
      "wrote /Users/doba/Documents/TechnikumWien/3. Semester/Solution Deployment & Communication/dsc-final-project-epic-ml-visualizer/dsc_data/noway4u_sir/match_timeline_NA1_4118140558.pkl\n",
      "wrote /Users/doba/Documents/TechnikumWien/3. Semester/Solution Deployment & Communication/dsc-final-project-epic-ml-visualizer/dsc_data/noway4u_sir/match_timeline_NA1_4118145454.pkl\n",
      "wrote /Users/doba/Documents/TechnikumWien/3. Semester/Solution Deployment & Communication/dsc-final-project-epic-ml-visualizer/dsc_data/noway4u_sir/match_timeline_NA1_4119331516.pkl\n",
      "wrote /Users/doba/Documents/TechnikumWien/3. Semester/Solution Deployment & Communication/dsc-final-project-epic-ml-visualizer/dsc_data/noway4u_sir/match_timeline_NA1_4119412825.pkl\n",
      "wrote /Users/doba/Documents/TechnikumWien/3. Semester/Solution Deployment & Communication/dsc-final-project-epic-ml-visualizer/dsc_data/noway4u_sir/match_timeline_NA1_4119487449.pkl\n",
      "wrote /Users/doba/Documents/TechnikumWien/3. Semester/Solution Deployment & Communication/dsc-final-project-epic-ml-visualizer/dsc_data/noway4u_sir/match_timeline_NA1_4119574152.pkl\n",
      "wrote /Users/doba/Documents/TechnikumWien/3. Semester/Solution Deployment & Communication/dsc-final-project-epic-ml-visualizer/dsc_data/noway4u_sir/match_timeline_NA1_4119588134.pkl\n",
      "wrote /Users/doba/Documents/TechnikumWien/3. Semester/Solution Deployment & Communication/dsc-final-project-epic-ml-visualizer/dsc_data/noway4u_sir/match_timeline_NA1_4119673297.pkl\n",
      "wrote /Users/doba/Documents/TechnikumWien/3. Semester/Solution Deployment & Communication/dsc-final-project-epic-ml-visualizer/dsc_data/noway4u_sir/match_timeline_NA1_4119907297.pkl\n",
      "wrote /Users/doba/Documents/TechnikumWien/3. Semester/Solution Deployment & Communication/dsc-final-project-epic-ml-visualizer/dsc_data/noway4u_sir/match_timeline_NA1_4119985066.pkl\n",
      "wrote /Users/doba/Documents/TechnikumWien/3. Semester/Solution Deployment & Communication/dsc-final-project-epic-ml-visualizer/dsc_data/noway4u_sir/match_timeline_NA1_4120457571.pkl\n",
      "wrote /Users/doba/Documents/TechnikumWien/3. Semester/Solution Deployment & Communication/dsc-final-project-epic-ml-visualizer/dsc_data/noway4u_sir/match_timeline_NA1_4120580479.pkl\n",
      "wrote /Users/doba/Documents/TechnikumWien/3. Semester/Solution Deployment & Communication/dsc-final-project-epic-ml-visualizer/dsc_data/noway4u_sir/match_timeline_NA1_4120609128.pkl\n",
      "wrote /Users/doba/Documents/TechnikumWien/3. Semester/Solution Deployment & Communication/dsc-final-project-epic-ml-visualizer/dsc_data/noway4u_sir/match_timeline_NA1_4120666300.pkl\n",
      "wrote /Users/doba/Documents/TechnikumWien/3. Semester/Solution Deployment & Communication/dsc-final-project-epic-ml-visualizer/dsc_data/noway4u_sir/match_timeline_NA1_4120734190.pkl\n",
      "wrote /Users/doba/Documents/TechnikumWien/3. Semester/Solution Deployment & Communication/dsc-final-project-epic-ml-visualizer/dsc_data/noway4u_sir/match_timeline_NA1_4121510202.pkl\n",
      "wrote /Users/doba/Documents/TechnikumWien/3. Semester/Solution Deployment & Communication/dsc-final-project-epic-ml-visualizer/dsc_data/noway4u_sir/match_timeline_NA1_4121512011.pkl\n"
     ]
    },
    {
     "name": "stdout",
     "output_type": "stream",
     "text": [
      "wrote /Users/doba/Documents/TechnikumWien/3. Semester/Solution Deployment & Communication/dsc-final-project-epic-ml-visualizer/dsc_data/noway4u_sir/match_timeline_NA1_4121616007.pkl\n",
      "wrote /Users/doba/Documents/TechnikumWien/3. Semester/Solution Deployment & Communication/dsc-final-project-epic-ml-visualizer/dsc_data/noway4u_sir/match_timeline_NA1_4121762938.pkl\n",
      "wrote /Users/doba/Documents/TechnikumWien/3. Semester/Solution Deployment & Communication/dsc-final-project-epic-ml-visualizer/dsc_data/noway4u_sir/match_timeline_NA1_4121786986.pkl\n",
      "wrote /Users/doba/Documents/TechnikumWien/3. Semester/Solution Deployment & Communication/dsc-final-project-epic-ml-visualizer/dsc_data/noway4u_sir/match_timeline_NA1_4121902442.pkl\n",
      "wrote /Users/doba/Documents/TechnikumWien/3. Semester/Solution Deployment & Communication/dsc-final-project-epic-ml-visualizer/dsc_data/noway4u_sir/match_timeline_NA1_4121986304.pkl\n",
      "wrote /Users/doba/Documents/TechnikumWien/3. Semester/Solution Deployment & Communication/dsc-final-project-epic-ml-visualizer/dsc_data/noway4u_sir/match_timeline_NA1_4122101140.pkl\n",
      "wrote /Users/doba/Documents/TechnikumWien/3. Semester/Solution Deployment & Communication/dsc-final-project-epic-ml-visualizer/dsc_data/noway4u_sir/match_timeline_NA1_4122840220.pkl\n",
      "wrote /Users/doba/Documents/TechnikumWien/3. Semester/Solution Deployment & Communication/dsc-final-project-epic-ml-visualizer/dsc_data/noway4u_sir/match_timeline_NA1_4122855882.pkl\n",
      "wrote /Users/doba/Documents/TechnikumWien/3. Semester/Solution Deployment & Communication/dsc-final-project-epic-ml-visualizer/dsc_data/noway4u_sir/match_timeline_NA1_4122872258.pkl\n",
      "wrote /Users/doba/Documents/TechnikumWien/3. Semester/Solution Deployment & Communication/dsc-final-project-epic-ml-visualizer/dsc_data/noway4u_sir/match_timeline_NA1_4123006893.pkl\n",
      "wrote /Users/doba/Documents/TechnikumWien/3. Semester/Solution Deployment & Communication/dsc-final-project-epic-ml-visualizer/dsc_data/noway4u_sir/match_timeline_NA1_4123010103.pkl\n",
      "wrote /Users/doba/Documents/TechnikumWien/3. Semester/Solution Deployment & Communication/dsc-final-project-epic-ml-visualizer/dsc_data/noway4u_sir/match_timeline_NA1_4123022615.pkl\n",
      "wrote /Users/doba/Documents/TechnikumWien/3. Semester/Solution Deployment & Communication/dsc-final-project-epic-ml-visualizer/dsc_data/noway4u_sir/match_timeline_NA1_4123093726.pkl\n"
     ]
    }
   ],
   "source": [
    "nw_matches, nw_summaries, nw_timelines = write_50_lol_matches('noway4u_sir')"
   ]
  },
  {
   "cell_type": "markdown",
   "id": "8664e4df",
   "metadata": {},
   "source": [
    "<a id='findchats'></a>\n",
    "## Step 2: Read Chat from matches of whole gaming session | ([Jump to Contents](#content))"
   ]
  },
  {
   "cell_type": "code",
   "execution_count": null,
   "id": "29a5aabd",
   "metadata": {},
   "outputs": [],
   "source": [
    "# helper functions for reading chat data\n",
    "\n",
    "def map_chatlog_row(text: str):\n",
    "    try:\n",
    "        splitted = text.split(': ', 1)\n",
    "        if len(splitted) == 1:\n",
    "            return None\n",
    "\n",
    "        if len(splitted) != 2:\n",
    "            index_date_end = text.index(']')\n",
    "            time = text[1: index_date_end]\n",
    "            time = time.replace(' ', 'T')\n",
    "            channel_start_idx = text.index(' ', index_date_end + 1)\n",
    "            channel_end_idx = text.index(' ', channel_start_idx + 1)\n",
    "            channel = text[channel_start_idx + 1:channel_end_idx]\n",
    "            channel = channel[1:]\n",
    "            text = text[channel_end_idx:]\n",
    "            text = text.strip()\n",
    "            return {'datetime': time, 'channel': channel, 'text': text}\n",
    "        else:\n",
    "            left = splitted[0]\n",
    "            right = splitted[1]\n",
    "\n",
    "            lefties = left.split(\" \")\n",
    "            if len(lefties) == 4:\n",
    "                time = f'{lefties[0][1:]}T{lefties[1][:-1]}'\n",
    "                channel = lefties[2][1:]\n",
    "                username = lefties[3]\n",
    "            else:\n",
    "                time = lefties[0][1:-1]\n",
    "                channel = lefties[1][1:]\n",
    "                username = lefties[2]\n",
    "\n",
    "            text = right.strip()\n",
    "\n",
    "            return {'datetime': time, 'channel': channel, 'author_name':username, 'text': text}\n",
    "    except Exception as e:\n",
    "        _logger.error(f\"invalid format of line '{text}\")\n",
    "        raise e\n",
    "\n",
    "\n",
    "def ts_from_str(dt_str) -> int:\n",
    "    dt_str = dt_str.replace(' ', 'T')\n",
    "    if '.' not in dt_str:\n",
    "        dt_str = dt_str + \".0\"\n",
    "    dt = strptime(dt_str, '%Y-%m-%dT%H:%M:%S.%f')[0:6]\n",
    "    return int(datetime(*dt).replace(tzinfo=timezone.utc).timestamp())\n",
    "\n",
    "def utc_datetime_from_ts(ts) -> datetime:\n",
    "    return datetime.utcfromtimestamp(ts)"
   ]
  },
  {
   "cell_type": "code",
   "execution_count": 9,
   "id": "af290599",
   "metadata": {
    "pycharm": {
     "name": "#%%\n"
    }
   },
   "outputs": [
    {
     "ename": "ModuleNotFoundError",
     "evalue": "No module named 'requests'",
     "output_type": "error",
     "traceback": [
      "\u001B[0;31m---------------------------------------------------------------------------\u001B[0m",
      "\u001B[0;31mModuleNotFoundError\u001B[0m                       Traceback (most recent call last)",
      "\u001B[0;32m/var/folders/kb/sl802yt54ss0dsvzrcf2ccfr0000gn/T/ipykernel_98067/3976983099.py\u001B[0m in \u001B[0;36m<module>\u001B[0;34m\u001B[0m\n\u001B[1;32m      1\u001B[0m \u001B[0mepic_ml_path\u001B[0m \u001B[0;34m=\u001B[0m \u001B[0mPath\u001B[0m\u001B[0;34m(\u001B[0m\u001B[0;34m'/Users/doba/Documents/EpicML'\u001B[0m\u001B[0;34m)\u001B[0m\u001B[0;34m\u001B[0m\u001B[0;34m\u001B[0m\u001B[0m\n\u001B[1;32m      2\u001B[0m \u001B[0msys\u001B[0m\u001B[0;34m.\u001B[0m\u001B[0mpath\u001B[0m\u001B[0;34m.\u001B[0m\u001B[0mappend\u001B[0m\u001B[0;34m(\u001B[0m\u001B[0mstr\u001B[0m\u001B[0;34m(\u001B[0m\u001B[0mepic_ml_path\u001B[0m\u001B[0;34m)\u001B[0m\u001B[0;34m)\u001B[0m\u001B[0;34m\u001B[0m\u001B[0;34m\u001B[0m\u001B[0m\n\u001B[0;32m----> 3\u001B[0;31m \u001B[0;32mfrom\u001B[0m \u001B[0mshared\u001B[0m\u001B[0;34m.\u001B[0m\u001B[0mcommon\u001B[0m\u001B[0;34m.\u001B[0m\u001B[0mutil\u001B[0m\u001B[0;34m.\u001B[0m\u001B[0mlogmessageutil\u001B[0m \u001B[0;32mimport\u001B[0m \u001B[0mmap_chatlog_row\u001B[0m\u001B[0;34m\u001B[0m\u001B[0;34m\u001B[0m\u001B[0m\n\u001B[0m\u001B[1;32m      4\u001B[0m \u001B[0;32mfrom\u001B[0m \u001B[0mshared\u001B[0m\u001B[0;34m.\u001B[0m\u001B[0mcommon\u001B[0m\u001B[0;34m.\u001B[0m\u001B[0mutil\u001B[0m\u001B[0;34m.\u001B[0m\u001B[0mdatetimeutil\u001B[0m \u001B[0;32mimport\u001B[0m \u001B[0mts_from_str\u001B[0m\u001B[0;34m,\u001B[0m \u001B[0mutc_datetime_from_ts\u001B[0m\u001B[0;34m\u001B[0m\u001B[0;34m\u001B[0m\u001B[0m\n",
      "\u001B[0;32m~/Documents/EpicML/shared/common/util/logmessageutil.py\u001B[0m in \u001B[0;36m<module>\u001B[0;34m\u001B[0m\n\u001B[1;32m      5\u001B[0m \u001B[0;32mfrom\u001B[0m \u001B[0mtyping\u001B[0m \u001B[0;32mimport\u001B[0m \u001B[0mOptional\u001B[0m\u001B[0;34m,\u001B[0m \u001B[0mList\u001B[0m\u001B[0;34m\u001B[0m\u001B[0;34m\u001B[0m\u001B[0m\n\u001B[1;32m      6\u001B[0m \u001B[0;34m\u001B[0m\u001B[0m\n\u001B[0;32m----> 7\u001B[0;31m \u001B[0;32mimport\u001B[0m \u001B[0mrequests\u001B[0m\u001B[0;34m\u001B[0m\u001B[0;34m\u001B[0m\u001B[0m\n\u001B[0m\u001B[1;32m      8\u001B[0m \u001B[0;34m\u001B[0m\u001B[0m\n\u001B[1;32m      9\u001B[0m \u001B[0;32mfrom\u001B[0m \u001B[0mshared\u001B[0m\u001B[0;34m.\u001B[0m\u001B[0mcommon\u001B[0m\u001B[0;34m.\u001B[0m\u001B[0mmapping\u001B[0m\u001B[0;34m.\u001B[0m\u001B[0mServerMapping\u001B[0m \u001B[0;32mimport\u001B[0m \u001B[0mmap_oopg_server_to_lol\u001B[0m\u001B[0;34m\u001B[0m\u001B[0;34m\u001B[0m\u001B[0m\n",
      "\u001B[0;31mModuleNotFoundError\u001B[0m: No module named 'requests'"
     ]
    }
   ],
   "source": [
    "def get_channel_path(playername):\n",
    "    rawdata_path = Path('/Users/doba/Documents/epicml_data/dataservice_instance/rawdata')\n",
    "    return rawdata_path.joinpath(playername)\n",
    "\n",
    "def get_logfiles_by_pattern(channel_path, log_patterns):\n",
    "    return [channel_path.joinpath(file) for pattern in log_patterns for file in os.listdir(channel_path) if pattern in file]\n"
   ]
  },
  {
   "cell_type": "code",
   "execution_count": null,
   "id": "5307350e",
   "metadata": {
    "pycharm": {
     "name": "#%%\n"
    }
   },
   "outputs": [],
   "source": [
    "## Functions to read raw log files for matches\n",
    "def convert_match_start_end_summaries(match_summaries):\n",
    "    match_ids = []\n",
    "    durations = []\n",
    "    start_dates = []\n",
    "    end_dates = []\n",
    "    for match in match_summaries:\n",
    "        match_ids.append(match['matchId'])\n",
    "        durations.append(match['gameDuration_ms'])\n",
    "        start_dates.append(match['gameStartTimestamp_date'])\n",
    "        if match['gameDuration_ms'] < 10000:\n",
    "            end_dates.append(match['gameStartTimestamp_date'] + timedelta(seconds=match['gameDuration_ms']))\n",
    "        else:\n",
    "            end_dates.append(match['gameStartTimestamp_date'] + timedelta(milliseconds=match['gameDuration_ms']))\n",
    "    df_matches = pd.DataFrame({\n",
    "        'matchId': match_ids,\n",
    "        'duration_ms': durations,\n",
    "        'start_date': start_dates,\n",
    "        'end_date': end_dates\n",
    "    })\n",
    "    df_matches.set_index('start_date', inplace=True)\n",
    "    df_matches.sort_index(inplace=True)\n",
    "    df_matches['start_log_file_pattern'] = df_matches.index.map(lambda x: x.strftime(\"%y_%m_%d.log\"))\n",
    "    df_matches['end_log_file_pattern'] = df_matches.loc[:, 'end_date'].map(lambda x: x.strftime(\"%y_%m_%d.log\"))\n",
    "    return df_matches\n",
    "\n",
    "tf_matches_dt_summ = convert_match_start_end_summaries(tf_summaries)\n",
    "nw_matches_dt_summ = convert_match_start_end_summaries(nw_summaries)"
   ]
  },
  {
   "cell_type": "code",
   "execution_count": null,
   "id": "b92d40cd",
   "metadata": {
    "pycharm": {
     "name": "#%%\n"
    }
   },
   "outputs": [],
   "source": [
    "tf_matches_dt_summ"
   ]
  },
  {
   "cell_type": "code",
   "execution_count": null,
   "id": "15dde69c",
   "metadata": {
    "pycharm": {
     "name": "#%%\n"
    }
   },
   "outputs": [],
   "source": [
    "from shared.common.analyzer.twitch_logs import possible_botlist\n",
    "possible_botlist"
   ]
  },
  {
   "cell_type": "code",
   "execution_count": null,
   "id": "0cb12732",
   "metadata": {
    "pycharm": {
     "name": "#%%\n"
    }
   },
   "outputs": [],
   "source": [
    "def nearest(items, pivot):\n",
    "    time_diff = np.abs(items - pivot)\n",
    "    return time_diff.argmin(0)\n",
    "\n",
    "def read_chat_of_matches(playername, matches_dt_summ):\n",
    "    start_patterns = matches_dt_summ['start_log_file_pattern']\n",
    "    end_patterns = matches_dt_summ['end_log_file_pattern']\n",
    "    log_patterns = pd.concat([start_patterns, end_patterns]).unique()\n",
    "\n",
    "    channel_path = get_channel_path(playername)\n",
    "\n",
    "    raw_messages = []\n",
    "    for file in get_logfiles_by_pattern(channel_path, log_patterns):\n",
    "        with open(file, 'r') as log_file:\n",
    "            for line in log_file:\n",
    "                if len(line) > 0:\n",
    "                    chat_row = map_chatlog_row(line)\n",
    "                    if chat_row is None:\n",
    "                        continue\n",
    "                    raw_messages.append(chat_row)\n",
    "\n",
    "    df_raw_messages = pd.DataFrame(raw_messages)\n",
    "    df_raw_messages['datetime'] = pd.to_datetime(df_raw_messages['datetime'])\n",
    "    df_raw_messages['channel'] = df_raw_messages['channel'].str.lower()\n",
    "    df_raw_messages['author_name'] = df_raw_messages['author_name'].str.lower()\n",
    "    df_raw_messages['text'] = df_raw_messages['text'].str.lower()\n",
    "    df_raw_messages.set_index('datetime', inplace=True)\n",
    "\n",
    "\n",
    "    df_raw_messages.drop(['author_id'], axis=1, inplace=True, errors = 'ignore')\n",
    "\n",
    "\n",
    "\n",
    "    df_chat_messages = df_raw_messages.copy()\n",
    "    df_chat_messages['matchId'] = None\n",
    "    df_chat_messages['timecategory'] = 'NO_MATCH'\n",
    "\n",
    "    df_col_locs = [df_chat_messages.columns.get_loc(\"matchId\"), df_chat_messages.columns.get_loc(\"timecategory\")]\n",
    "\n",
    "    for index, row in matches_dt_summ.iterrows():\n",
    "        start_ts = index.round('1s')\n",
    "        end_ts = (row['end_date'] + timedelta(seconds=1)).round('1s')\n",
    "        matchId = row['matchId']\n",
    "        start_pre_match_ts = (start_ts - timedelta(seconds=60)).replace(microsecond=0)\n",
    "        start_pre_match_iloc = nearest(df_chat_messages.index, start_pre_match_ts)\n",
    "        start_match_iloc = nearest(df_chat_messages.index, start_ts)\n",
    "        end_match_iloc = nearest(df_chat_messages.index, end_ts)\n",
    "        end_post_match_ts = (end_ts + timedelta(seconds=60)).replace(microsecond=0)\n",
    "        end_post_match_iloc = nearest(df_chat_messages.index, end_post_match_ts)\n",
    "\n",
    "\n",
    "        df_chat_messages.iloc[start_pre_match_iloc:start_match_iloc, df_col_locs] = [matchId, 'BEFORE_MATCH']\n",
    "\n",
    "        df_chat_messages.iloc[start_match_iloc:end_match_iloc, df_col_locs] = [matchId, 'DURING_MATCH']\n",
    "\n",
    "        df_chat_messages.iloc[end_match_iloc:end_post_match_iloc, df_col_locs] = [matchId, 'AFTER_MATCH']\n",
    "\n",
    "    # Add feature is_chatbot\n",
    "    bots_lowercase = [bot.lower() for bot in possible_botlist]\n",
    "    df_chat_messages['chatbot'] = df_chat_messages['author_name'].apply(lambda x: x.lower() in bots_lowercase)\n",
    "\n",
    "    # Add feature Personal-Message\n",
    "    df_chat_messages['personal_msg'] = df_chat_messages['text'].apply(lambda x: x.startswith('@') and not x.startswith(f'@{playername}') and ' ' in x)\n",
    "\n",
    "    # Add Feature command\n",
    "    df_chat_messages['command'] = df_chat_messages['text'].apply(lambda x: x.startswith('!'))\n",
    "\n",
    "    # only return rows before/in or after a match\n",
    "    return df_chat_messages[~df_chat_messages['matchId'].isna()]"
   ]
  },
  {
   "cell_type": "markdown",
   "id": "60680d41",
   "metadata": {},
   "source": [
    "The 'ugly' join with nearest is needed, because both dataframes do not have an index with a fixed frequency. So there are leaks in the index of both dataframes."
   ]
  },
  {
   "cell_type": "code",
   "execution_count": null,
   "id": "2d423981",
   "metadata": {
    "pycharm": {
     "name": "#%%\n"
    }
   },
   "outputs": [],
   "source": [
    "tf_chat_df = read_chat_of_matches('tobiasfate', tf_matches_dt_summ)\n",
    "nw_chat_df = read_chat_of_matches('noway4u_sir', nw_matches_dt_summ)"
   ]
  },
  {
   "cell_type": "code",
   "execution_count": null,
   "id": "cd6d2b86",
   "metadata": {
    "pycharm": {
     "name": "#%%\n"
    }
   },
   "outputs": [],
   "source": [
    "nw_chat_df"
   ]
  },
  {
   "cell_type": "code",
   "id": "a71f310d",
   "metadata": {
    "pycharm": {
     "name": "#%%\n"
    }
   },
   "source": [
    "write_prepared_df_file(tf_chat_df, 'tobiasfate', 'chat_df')\n",
    "write_prepared_df_file(nw_chat_df, 'noway4u_sir', 'chat_df')"
   ],
   "execution_count": 80,
   "outputs": [
    {
     "name": "stdout",
     "output_type": "stream",
     "text": [
      "wrote /Users/doba/Documents/TechnikumWien/3. Semester/Solution Deployment & Communication/dsc-final-project-epic-ml-visualizer/dsc_data/tobiasfate/chat_df.pkl\n",
      "wrote /Users/doba/Documents/TechnikumWien/3. Semester/Solution Deployment & Communication/dsc-final-project-epic-ml-visualizer/dsc_data/noway4u_sir/chat_df.pkl\n"
     ]
    }
   ]
  },
  {
   "cell_type": "code",
   "execution_count": null,
   "id": "7fe0c2a2",
   "metadata": {
    "pycharm": {
     "name": "#%%\n"
    }
   },
   "outputs": [],
   "source": [
    "read_df = read_prepared_df_file('noway4u_sir', 'chat_df', 'datetime')\n",
    "read_df"
   ]
  },
  {
   "cell_type": "code",
   "execution_count": null,
   "id": "4da13d26",
   "metadata": {
    "pycharm": {
     "name": "#%%\n"
    }
   },
   "outputs": [],
   "source": [
    "Es gibt einige Matches, wo es keinen Chat gibt!"
   ]
  },
  {
   "cell_type": "code",
   "execution_count": null,
   "id": "8af32843",
   "metadata": {
    "pycharm": {
     "name": "#%%\n"
    }
   },
   "outputs": [],
   "source": [
    "# Export ends here!"
   ]
  },
  {
   "cell_type": "markdown",
   "source": [
    "## Read from dsc_file folder"
   ],
   "metadata": {
    "collapsed": false,
    "pycharm": {
     "name": "#%% md\n"
    }
   }
  },
  {
   "cell_type": "code",
   "id": "188fc5e0",
   "metadata": {
    "pycharm": {
     "name": "#%%\n"
    }
   },
   "source": [
    "def get_match_history_of_player(player_name):\n",
    "    match_summaries = read_prepared_file(player_name, \"match_summaries\")\n",
    "    return pd.DataFrame(match_summaries)\n",
    "\n",
    "history = get_match_history_of_player(\"noway4u_sir\")\n",
    "history"
   ],
   "execution_count": 74,
   "outputs": [
    {
     "name": "stdout",
     "output_type": "stream",
     "text": [
      "read /Users/doba/Documents/TechnikumWien/3. Semester/Solution Deployment & Communication/dsc-final-project-epic-ml-visualizer/dsc_data/noway4u_sir/match_summaries.pkl\n"
     ]
    },
    {
     "data": {
      "text/plain": "                         _id   gameCreation  gameEndTimestamp gameMode  \\\n0   619cde1976e6c35572ba3bd5  1637599884000     1637602003183  CLASSIC   \n1   619d028676e6c35572bb9f5f  1637608331000     1637610122626  CLASSIC   \n2   619d028576e6c35572bb9f49  1637610860000     1637612765278  CLASSIC   \n3   619ce17c76e6c35572ba6754  1637616155000     1637617674587  CLASSIC   \n4   619e036e76e6c35572bdbef1  1637684058000     1637685982726  CLASSIC   \n5   619e8b6f76e6c35572c19126  1637692152000     1637694244814  CLASSIC   \n6   619e31a476e6c35572bfb565  1637689741000     1637691469132  CLASSIC   \n7   619f7ac476e6c35572c4497a  1637707766000     1637710434343  CLASSIC   \n8   619e5b5d76e6c35572c10ef2  1637724795000     1637726251491  CLASSIC   \n9   619f7bb276e6c35572c45926  1637780082000     1637781037109  CLASSIC   \n10  619fcc8476e6c35572c67949  1637781450000     1637783272403  CLASSIC   \n11  619f657e76e6c35572c3d0b3  1637784222000     1637786396892  CLASSIC   \n12  619fde8576e6c35572c6ad3b  1637818418000     1637819612175  CLASSIC   \n13  619faf5c76e6c35572c636cf  1637847619000     1637849346297  CLASSIC   \n14  619fcc8076e6c35572c678ba  1637853932000     1637855986636  CLASSIC   \n15  61a11e9d59ede6af7102990e  1637883729000     1637885185162  CLASSIC   \n16  61a12fd259ede6af7102c40c  1637942264000     1637943713112  CLASSIC   \n17  61a2204759ede6af7105cbad  1637946410000     1637948877473  CLASSIC   \n18  61a282d259ede6af7108427b  1637949724000     1637951513208  CLASSIC   \n19  61a282d059ede6af71084239  1637952604000     1637954085744  CLASSIC   \n20  61a229d859ede6af710659c3  1637964583000     1637966429859  CLASSIC   \n21  61a1fb0a59ede6af71044373  1637966814000     1637968871208  CLASSIC   \n22  61a73c7479360cb192005a4f  1638033958000     1638035116977  CLASSIC   \n23  61a3d6ab6a1ce807ae905930  1638040939000     1638042807007  CLASSIC   \n24  61a371676a1ce807ae8da121  1638048457000     1638050753465  CLASSIC   \n25  61a3d6b66a1ce807ae905b1a  1638051887000     1638053280125  CLASSIC   \n26  61a3c3326a1ce807ae900b16  1638053850000     1638055266655  CLASSIC   \n27  61a3c3306a1ce807ae900aea  1638056664000     1638058706156  CLASSIC   \n28  61a35b4e6a1ce807ae8d0341  1638072285000     1638073922920  CLASSIC   \n29  61a3a6b16a1ce807ae8fc5ca  1638074814000     1638076485886  CLASSIC   \n30  61a3e0f36a1ce807ae90c91b  1638122520000     1638124818821  CLASSIC   \n31  61a7517e7d6c82c490d8492e  1638125793000     1638127788585  CLASSIC   \n32  61a756c87d6c82c490d8cc09  1638134086000     1638135793209  CLASSIC   \n33  61a751747d6c82c490d8467a  1638136975000     1638139701412  CLASSIC   \n34  61a7519e7d6c82c490d84eff  1638140450000     1638142514824  CLASSIC   \n35  61a73bfe79360cb192004f0c  1638195928000     1638197315974  CLASSIC   \n36  61a74eba7d6c82c490d80687  1638197850000     1638199679794  CLASSIC   \n37  61a74c192f9b3879b2826578  1638210478000     1638212640606  CLASSIC   \n38  61a756c57d6c82c490d8cba6  1638216339000     1638218377627  CLASSIC   \n39  61a73b8b79360cb19200430c  1638219386000     1638220913664  CLASSIC   \n40  61a73b8879360cb192004298  1638221933000     1638223674267  CLASSIC   \n41  61a73b8579360cb192004236  1638224737000     1638226427134  CLASSIC   \n42  61a756ba7d6c82c490d8c895  1638227276000     1638229103132  CLASSIC   \n43  61a756b57d6c82c490d8c76b  1638288451000     1638290192679  CLASSIC   \n44  61a756b07d6c82c490d8c5da  1638294196000     1638295612521  CLASSIC   \n45  61a756b37d6c82c490d8c641  1638290999000     1638292478647  CLASSIC   \n46  61a75afe7d6c82c490d9289b  1638309455000     1638311345533  CLASSIC   \n47  61a763ea7d6c82c490d9d8bc  1638305234000     1638306455331  CLASSIC   \n48  61a755407d6c82c490d8a2ea  1638307021000     1638308819590  CLASSIC   \n49  61a76c917d6c82c490da7b12  1638313413000     1638314838082  CLASSIC   \n\n                        gameName  gameStartTimestamp      gameType  \\\n0   teambuilder-match-4112918754       1637599911179  MATCHED_GAME   \n1   teambuilder-match-4113031259       1637608380115  MATCHED_GAME   \n2   teambuilder-match-4113054688       1637610899744  MATCHED_GAME   \n3   teambuilder-match-4113114496       1637616179168  MATCHED_GAME   \n4   teambuilder-match-4114353407       1637684127933  MATCHED_GAME   \n5   teambuilder-match-4114384279       1637692271162  MATCHED_GAME   \n6   teambuilder-match-4114410624       1637689801794  MATCHED_GAME   \n7   teambuilder-match-4114572094       1637707790439  MATCHED_GAME   \n8   teambuilder-match-4114896489       1637724852190  MATCHED_GAME   \n9   teambuilder-match-4115483709       1637780108900  MATCHED_GAME   \n10  teambuilder-match-4115495602       1637781468128  MATCHED_GAME   \n11  teambuilder-match-4115509715       1637784274169  MATCHED_GAME   \n12  teambuilder-match-4116366488       1637818441839  MATCHED_GAME   \n13  teambuilder-match-4116741548       1637847631823  MATCHED_GAME   \n14  teambuilder-match-4116748183       1637853984871  MATCHED_GAME   \n15  teambuilder-match-4117096306       1637883779161  MATCHED_GAME   \n16  teambuilder-match-4117881867       1637942351349  MATCHED_GAME   \n17  teambuilder-match-4117897084       1637946473413  MATCHED_GAME   \n18  teambuilder-match-4117971821       1637949778438  MATCHED_GAME   \n19  teambuilder-match-4117985954       1637952698716  MATCHED_GAME   \n20  teambuilder-match-4118140558       1637964635916  MATCHED_GAME   \n21  teambuilder-match-4118145454       1637966848964  MATCHED_GAME   \n22  teambuilder-match-4119331516       1638033994834  MATCHED_GAME   \n23  teambuilder-match-4119412825       1638040972547  MATCHED_GAME   \n24  teambuilder-match-4119487449       1638048476743  MATCHED_GAME   \n25  teambuilder-match-4119574152       1638051906968  MATCHED_GAME   \n26  teambuilder-match-4119588134       1638053873500  MATCHED_GAME   \n27  teambuilder-match-4119673297       1638056695970  MATCHED_GAME   \n28  teambuilder-match-4119907297       1638072301412  MATCHED_GAME   \n29  teambuilder-match-4119985066       1638074834103  MATCHED_GAME   \n30  teambuilder-match-4120457571       1638122566379  MATCHED_GAME   \n31  teambuilder-match-4120580479       1638125811021  MATCHED_GAME   \n32  teambuilder-match-4120609128       1638134105833  MATCHED_GAME   \n33  teambuilder-match-4120666300       1638137012223  MATCHED_GAME   \n34  teambuilder-match-4120734190       1638140470711  MATCHED_GAME   \n35  teambuilder-match-4121510202       1638195954356  MATCHED_GAME   \n36  teambuilder-match-4121512011       1638197869437  MATCHED_GAME   \n37  teambuilder-match-4121616007       1638210514722  MATCHED_GAME   \n38  teambuilder-match-4121762938       1638216354736  MATCHED_GAME   \n39  teambuilder-match-4121786986       1638219439834  MATCHED_GAME   \n40  teambuilder-match-4121902442       1638221965641  MATCHED_GAME   \n41  teambuilder-match-4121986304       1638224756204  MATCHED_GAME   \n42  teambuilder-match-4122101140       1638227297167  MATCHED_GAME   \n43  teambuilder-match-4122840220       1638288509392  MATCHED_GAME   \n44  teambuilder-match-4122855882       1638294230602  MATCHED_GAME   \n45  teambuilder-match-4122872258       1638291049409  MATCHED_GAME   \n46  teambuilder-match-4123006893       1638309513825  MATCHED_GAME   \n47  teambuilder-match-4123010103       1638305271701  MATCHED_GAME   \n48  teambuilder-match-4123022615       1638307053340  MATCHED_GAME   \n49  teambuilder-match-4123093726       1638313430596  MATCHED_GAME   \n\n      gameVersion  mapId                                              teams  \\\n0   11.23.409.111     11  [{'bans': [{'championId': 164, 'pickTurn': 1},...   \n1   11.23.409.111     11  [{'bans': [{'championId': 711, 'pickTurn': 1},...   \n2   11.23.409.111     11  [{'bans': [{'championId': 56, 'pickTurn': 1}, ...   \n3   11.23.409.111     11  [{'bans': [{'championId': 119, 'pickTurn': 1},...   \n4   11.23.409.111     11  [{'bans': [{'championId': 45, 'pickTurn': 1}, ...   \n5   11.23.409.111     11  [{'bans': [{'championId': 26, 'pickTurn': 1}, ...   \n6   11.23.409.111     11  [{'bans': [{'championId': 102, 'pickTurn': 1},...   \n7   11.23.409.111     11  [{'bans': [{'championId': 38, 'pickTurn': 1}, ...   \n8   11.23.409.111     11  [{'bans': [{'championId': 147, 'pickTurn': 1},...   \n9   11.23.409.111     11  [{'bans': [{'championId': 26, 'pickTurn': 1}, ...   \n10  11.23.409.111     11  [{'bans': [{'championId': 85, 'pickTurn': 1}, ...   \n11  11.23.409.111     11  [{'bans': [{'championId': 19, 'pickTurn': 1}, ...   \n12  11.23.409.111     11  [{'bans': [{'championId': 67, 'pickTurn': 1}, ...   \n13  11.23.409.111     11  [{'bans': [{'championId': -1, 'pickTurn': 1}, ...   \n14  11.23.409.111     11  [{'bans': [{'championId': 26, 'pickTurn': 1}, ...   \n15  11.23.409.111     11  [{'bans': [{'championId': 24, 'pickTurn': 1}, ...   \n16  11.23.409.111     11  [{'bans': [{'championId': -1, 'pickTurn': 1}, ...   \n17  11.23.409.111     11  [{'bans': [{'championId': 112, 'pickTurn': 1},...   \n18  11.23.409.111     11  [{'bans': [{'championId': 91, 'pickTurn': 1}, ...   \n19  11.23.409.111     11  [{'bans': [{'championId': 11, 'pickTurn': 1}, ...   \n20  11.23.409.111     11  [{'bans': [{'championId': 412, 'pickTurn': 1},...   \n21  11.23.409.111     11  [{'bans': [{'championId': 7, 'pickTurn': 1}, {...   \n22  11.23.409.111     11  [{'bans': [{'championId': 38, 'pickTurn': 1}, ...   \n23  11.23.409.111     11  [{'bans': [{'championId': 51, 'pickTurn': 1}, ...   \n24  11.23.409.111     11  [{'bans': [{'championId': 23, 'pickTurn': 1}, ...   \n25  11.23.409.111     11  [{'bans': [{'championId': 711, 'pickTurn': 1},...   \n26  11.23.409.111     11  [{'bans': [{'championId': 13, 'pickTurn': 1}, ...   \n27  11.23.409.111     11  [{'bans': [{'championId': 412, 'pickTurn': 1},...   \n28  11.23.409.111     11  [{'bans': [{'championId': 104, 'pickTurn': 1},...   \n29  11.23.409.111     11  [{'bans': [{'championId': 164, 'pickTurn': 1},...   \n30  11.23.409.111     11  [{'bans': [{'championId': 38, 'pickTurn': 1}, ...   \n31  11.23.409.111     11  [{'bans': [{'championId': 48, 'pickTurn': 1}, ...   \n32  11.23.409.111     11  [{'bans': [{'championId': 119, 'pickTurn': 1},...   \n33  11.23.409.111     11  [{'bans': [{'championId': 99, 'pickTurn': 1}, ...   \n34  11.23.409.111     11  [{'bans': [{'championId': 103, 'pickTurn': 1},...   \n35  11.23.409.111     11  [{'bans': [{'championId': 164, 'pickTurn': 1},...   \n36  11.23.409.111     11  [{'bans': [{'championId': 99, 'pickTurn': 1}, ...   \n37  11.23.409.111     11  [{'bans': [{'championId': 89, 'pickTurn': 1}, ...   \n38  11.23.409.111     11  [{'bans': [{'championId': -1, 'pickTurn': 1}, ...   \n39  11.23.409.111     11  [{'bans': [{'championId': 875, 'pickTurn': 1},...   \n40  11.23.409.111     11  [{'bans': [{'championId': 67, 'pickTurn': 1}, ...   \n41  11.23.409.111     11  [{'bans': [{'championId': 114, 'pickTurn': 1},...   \n42  11.23.409.111     11  [{'bans': [{'championId': 91, 'pickTurn': 1}, ...   \n43  11.23.409.111     11  [{'bans': [{'championId': 39, 'pickTurn': 1}, ...   \n44  11.23.409.111     11  [{'bans': [{'championId': -1, 'pickTurn': 1}, ...   \n45  11.23.409.111     11  [{'bans': [{'championId': 246, 'pickTurn': 1},...   \n46  11.23.409.111     11  [{'bans': [{'championId': 28, 'pickTurn': 1}, ...   \n47  11.23.409.111     11  [{'bans': [{'championId': 350, 'pickTurn': 1},...   \n48  11.23.409.111     11  [{'bans': [{'championId': 238, 'pickTurn': 1},...   \n49  11.23.409.111     11  [{'bans': [{'championId': 777, 'pickTurn': 1},...   \n\n   tournamentCode dataVersion         matchId  \\\n0                           2  NA1_4112918754   \n1                           2  NA1_4113031259   \n2                           2  NA1_4113054688   \n3                           2  NA1_4113114496   \n4                           2  NA1_4114353407   \n5                           2  NA1_4114384279   \n6                           2  NA1_4114410624   \n7                           2  NA1_4114572094   \n8                           2  NA1_4114896489   \n9                           2  NA1_4115483709   \n10                          2  NA1_4115495602   \n11                          2  NA1_4115509715   \n12                          2  NA1_4116366488   \n13                          2  NA1_4116741548   \n14                          2  NA1_4116748183   \n15                          2  NA1_4117096306   \n16                          2  NA1_4117881867   \n17                          2  NA1_4117897084   \n18                          2  NA1_4117971821   \n19                          2  NA1_4117985954   \n20                          2  NA1_4118140558   \n21                          2  NA1_4118145454   \n22                          2  NA1_4119331516   \n23                          2  NA1_4119412825   \n24                          2  NA1_4119487449   \n25                          2  NA1_4119574152   \n26                          2  NA1_4119588134   \n27                          2  NA1_4119673297   \n28                          2  NA1_4119907297   \n29                          2  NA1_4119985066   \n30                          2  NA1_4120457571   \n31                          2  NA1_4120580479   \n32                          2  NA1_4120609128   \n33                          2  NA1_4120666300   \n34                          2  NA1_4120734190   \n35                          2  NA1_4121510202   \n36                          2  NA1_4121512011   \n37                          2  NA1_4121616007   \n38                          2  NA1_4121762938   \n39                          2  NA1_4121786986   \n40                          2  NA1_4121902442   \n41                          2  NA1_4121986304   \n42                          2  NA1_4122101140   \n43                          2  NA1_4122840220   \n44                          2  NA1_4122855882   \n45                          2  NA1_4122872258   \n46                          2  NA1_4123006893   \n47                          2  NA1_4123010103   \n48                          2  NA1_4123022615   \n49                          2  NA1_4123093726   \n\n                                         participants  gameDuration_ms  \\\n0   [-L314LjYwt1J1K_suPbBHEwpQCXJlmxnEl8cszKarzYgm...             2091   \n1   [o2l4tKoPPlpq03-iXlIF8qXSiOEjWQwCuSpNfTexpjzIj...             1742   \n2   [WpYAA8AZzkj7b9iaeVSc097kNxuosLi5TXHWBXu_78MYU...             1865   \n3   [9EQgNUWVj68SICPqUM0TqW4IaGg-Of9jJf0by3DxTmMUN...             1495   \n4   [Ja68D8TIcIVF9Ny2WRbj_LnRPr4nJFfSIx82wuJCZVm6d...             1854   \n5   [nUWW7AAdG6Pm6QudRPxaX9pyqwPjsm9VMwGNZIH2T6anT...             1973   \n6   [p2M7IkGCwsRPqd7I8VYGi8vcoWtY_W5YwOfhEViTW9j-Z...             1667   \n7   [zI4UzklmqgK68E09CFgMJJFk9QEQ0i0uw18nIN2smAc4f...             2643   \n8   [2wsaXabYW_1Z6iXzGg42WqrUtAuu4vnqgReStfiUm5rUe...             1399   \n9   [EvlGs3-gj2E2KihdjvqqhH1axtEm2YQeeBY57dRVeLcyw...              928   \n10  [_5MliOlQswIm6uIYTMWl59sW58THvZk1uw17Er40szGGI...             1804   \n11  [2-OKgSmF63rwn_qe_GDKw5CgLhXXDz-8Qy8xNfw6AXPWF...             2122   \n12  [4j2ntJrmFipi8Z-j-5naUPLqlkIr9ye4KjSfleGhJJscf...             1170   \n13  [__MJHet7iSbxIlUWg0TpvtGNRvZSyfGM3EfXHDmi7nGdO...             1714   \n14  [5OvpAn6asyFUDE7YQ4L2XQV5djxQq6Me777ZISEXQf179...             2001   \n15  [YqOnORuCXr7_nFvFoGwNgCXT5bWALCusLcfLXjCvKdaG6...             1405   \n16  [LQCPA2xIL30GU-3dOLbpC-Jrm0frcLdille_ZMPbWQqdv...             1361   \n17  [CzxloiHMl5r7aTASfDsfVrtyr9FpD5yr825ivgRxy3Hjv...             2403   \n18  [B62nx9VgyZKX1iSlPyNh5_58BERAYLlEs_OoGnxTb_0d_...             1734   \n19  [qXqlR9w6rbbMXI73eTv0PMCD0HX5a659kcs_ZNz-e8CNE...             1387   \n20  [2-OKgSmF63rwn_qe_GDKw5CgLhXXDz-8Qy8xNfw6AXPWF...             1793   \n21  [GCWipKS_vamIxjMb88pfTQZc4qhwNpBnq010Rp2fO2E1p...             2022   \n22  [pWj6CkX5zD0BBv3NEUNgwjKW07HTda_0Iv1dtj1lzaRj-...             1122   \n23  [4Sspl8NJgMayvYOHofifgyUiGky2mOAWue7XtQLxL2G5x...             1834   \n24  [xcBqqtMNaHeGbzb_Wr-0aA0reGW0dXLWA2WLA5GHctwaS...             2276   \n25  [66wnyLJcbLRfZXyYkxiIzK0JgrqbZkuVcJpcN5N2QLP-5...             1373   \n26  [VxbGMeWhg697yOcYTq2L01O_mWGAqQWZKh0CD25F2Qw1b...             1393   \n27  [R07gX90gzyAR-3sqwSU8Aw_ovYiuJcuShe5VTHBfGYwHj...             2010   \n28  [yS6QGjhoHdfVC-_Y-q9HEOC6OWqmKiJ99SnbJJh7xOmO5...             1621   \n29  [2wsaXabYW_1Z6iXzGg42WqrUtAuu4vnqgReStfiUm5rUe...             1651   \n30  [gla_pe4Um9FAh-8y6l3_idFfRXu558k9KsA-oISaFwtSF...             2252   \n31  [xcBqqtMNaHeGbzb_Wr-0aA0reGW0dXLWA2WLA5GHctwaS...             1977   \n32  [xcBqqtMNaHeGbzb_Wr-0aA0reGW0dXLWA2WLA5GHctwaS...             1687   \n33  [ZLs5PmKPmE8-Fvjnf9WI28xOlfDgS_CFzkWPTllOLbU1B...             2689   \n34  [ZQ5QMDAbGZuOp5TxtfZhtb3X1rflUH0EVQFT7VwWbG46S...             2044   \n35  [5OvpAn6asyFUDE7YQ4L2XQV5djxQq6Me777ZISEXQf179...             1361   \n36  [ON2S_lrcnkDUt93LhItBvjUDFHvVZcQtFDo6wKsF7VhqO...             1810   \n37  [LQCPA2xIL30GU-3dOLbpC-Jrm0frcLdille_ZMPbWQqdv...             2125   \n38  [xcBqqtMNaHeGbzb_Wr-0aA0reGW0dXLWA2WLA5GHctwaS...             2022   \n39  [Z7yh8wGvPJurFegWDjdok8Ys82wd4aN7hkqIP7vsUOsRP...             1473   \n40  [QB8U4n-gKO9nOG-7S1HiwuDnB0Wv13mhSWYK3HU3I35Fl...             1708   \n41  [n_9r3yYji7b7VTNUvdmJPq3-POX_JX0UvBVk0C9FGSuku...             1670   \n42  [xcBqqtMNaHeGbzb_Wr-0aA0reGW0dXLWA2WLA5GHctwaS...             1805   \n43  [Z7yh8wGvPJurFegWDjdok8Ys82wd4aN7hkqIP7vsUOsRP...             1683   \n44  [K820cylO7bUheB7ZPyLz1Z47NweSwQ1LtcwfF0qCbwUJd...             1381   \n45  [5OvpAn6asyFUDE7YQ4L2XQV5djxQq6Me777ZISEXQf179...             1429   \n46  [iOCYoL-WLZPuoy6R04AOYlW_rzkpfyNEtj9mdHMbnSTDF...             1831   \n47  [IRwRONkTbK_8XdVwULj2TW_htDDcU95vCKOPpPBfXifUZ...             1183   \n48  [iYeP8xJluGZmY2gv0YQ6yQajRVH-Djwo-93UVOOafYcyO...             1766   \n49  [YcMczvQ1Hw6MYUvA4MLE3vngFY1VxiiFbZYqpdccISC-v...             1407   \n\n   req_server   gameCreation_date gameStartTimestamp_date  \\\n0         NA1 2021-11-22 16:51:24 2021-11-22 16:51:51.179   \n1         NA1 2021-11-22 19:12:11 2021-11-22 19:13:00.115   \n2         NA1 2021-11-22 19:54:20 2021-11-22 19:54:59.744   \n3         NA1 2021-11-22 21:22:35 2021-11-22 21:22:59.168   \n4         NA1 2021-11-23 16:14:18 2021-11-23 16:15:27.933   \n5         NA1 2021-11-23 18:29:12 2021-11-23 18:31:11.162   \n6         NA1 2021-11-23 17:49:01 2021-11-23 17:50:01.794   \n7         NA1 2021-11-23 22:49:26 2021-11-23 22:49:50.439   \n8         NA1 2021-11-24 03:33:15 2021-11-24 03:34:12.190   \n9         NA1 2021-11-24 18:54:42 2021-11-24 18:55:08.900   \n10        NA1 2021-11-24 19:17:30 2021-11-24 19:17:48.128   \n11        NA1 2021-11-24 20:03:42 2021-11-24 20:04:34.169   \n12        NA1 2021-11-25 05:33:38 2021-11-25 05:34:01.839   \n13        NA1 2021-11-25 13:40:19 2021-11-25 13:40:31.823   \n14        NA1 2021-11-25 15:25:32 2021-11-25 15:26:24.871   \n15        NA1 2021-11-25 23:42:09 2021-11-25 23:42:59.161   \n16        NA1 2021-11-26 15:57:44 2021-11-26 15:59:11.349   \n17        NA1 2021-11-26 17:06:50 2021-11-26 17:07:53.413   \n18        NA1 2021-11-26 18:02:04 2021-11-26 18:02:58.438   \n19        NA1 2021-11-26 18:50:04 2021-11-26 18:51:38.716   \n20        NA1 2021-11-26 22:09:43 2021-11-26 22:10:35.916   \n21        NA1 2021-11-26 22:46:54 2021-11-26 22:47:28.964   \n22        NA1 2021-11-27 17:25:58 2021-11-27 17:26:34.834   \n23        NA1 2021-11-27 19:22:19 2021-11-27 19:22:52.547   \n24        NA1 2021-11-27 21:27:37 2021-11-27 21:27:56.743   \n25        NA1 2021-11-27 22:24:47 2021-11-27 22:25:06.968   \n26        NA1 2021-11-27 22:57:30 2021-11-27 22:57:53.500   \n27        NA1 2021-11-27 23:44:24 2021-11-27 23:44:55.970   \n28        NA1 2021-11-28 04:04:45 2021-11-28 04:05:01.412   \n29        NA1 2021-11-28 04:46:54 2021-11-28 04:47:14.103   \n30        NA1 2021-11-28 18:02:00 2021-11-28 18:02:46.379   \n31        NA1 2021-11-28 18:56:33 2021-11-28 18:56:51.021   \n32        NA1 2021-11-28 21:14:46 2021-11-28 21:15:05.833   \n33        NA1 2021-11-28 22:02:55 2021-11-28 22:03:32.223   \n34        NA1 2021-11-28 23:00:50 2021-11-28 23:01:10.711   \n35        NA1 2021-11-29 14:25:28 2021-11-29 14:25:54.356   \n36        NA1 2021-11-29 14:57:30 2021-11-29 14:57:49.437   \n37        NA1 2021-11-29 18:27:58 2021-11-29 18:28:34.722   \n38        NA1 2021-11-29 20:05:39 2021-11-29 20:05:54.736   \n39        NA1 2021-11-29 20:56:26 2021-11-29 20:57:19.834   \n40        NA1 2021-11-29 21:38:53 2021-11-29 21:39:25.641   \n41        NA1 2021-11-29 22:25:37 2021-11-29 22:25:56.204   \n42        NA1 2021-11-29 23:07:56 2021-11-29 23:08:17.167   \n43        NA1 2021-11-30 16:07:31 2021-11-30 16:08:29.392   \n44        NA1 2021-11-30 17:43:16 2021-11-30 17:43:50.602   \n45        NA1 2021-11-30 16:49:59 2021-11-30 16:50:49.409   \n46        NA1 2021-11-30 21:57:35 2021-11-30 21:58:33.825   \n47        NA1 2021-11-30 20:47:14 2021-11-30 20:47:51.701   \n48        NA1 2021-11-30 21:17:01 2021-11-30 21:17:33.340   \n49        NA1 2021-11-30 23:03:33 2021-11-30 23:03:50.596   \n\n             matchTimelineId  \n0   61b323f63deba7f22f137b00  \n1   61b326f23deba7f22f138a26  \n2   61b326f13deba7f22f138a1a  \n3   61b323ff3deba7f22f137b08  \n4   61b32e093deba7f22f13b59d  \n5   61b335a73deba7f22f13e0d0  \n6   61b32fec3deba7f22f13c1b0  \n7   61b338143deba7f22f13ea73  \n8   61b331c93deba7f22f13c9fb  \n9   61b338d73deba7f22f13ed6d  \n10  61b33cab3deba7f22f13fdfb  \n11  61b338043deba7f22f13ea5b  \n12  61b33db33deba7f22f140310  \n13  61b33acc3deba7f22f13f623  \n14  61b33ca33deba7f22f13fde8  \n15  61b3443c3deba7f22f141ac4  \n16  61b3445a3deba7f22f141b3d  \n17  61b347fa3deba7f22f1426af  \n18  61b34b5b3deba7f22f142cd4  \n19  61b34b5a3deba7f22f142cd2  \n20  61b348113deba7f22f1426c6  \n21  61b347013deba7f22f142446  \n22  61b353923deba7f22f143fb4  \n23  61b350a03deba7f22f1438a1  \n24  61b34d4c3deba7f22f1430ec  \n25  61b350a63deba7f22f1438a6  \n26  61b34fc13deba7f22f14372a  \n27  61b34fc03deba7f22f143728  \n28  61b34d3f3deba7f22f1430dc  \n29  61b34f863deba7f22f143672  \n30  61b351af3deba7f22f143be9  \n31  61b356223deba7f22f14449f  \n32  61b357bf3deba7f22f1448d5  \n33  61b3561d3deba7f22f14449b  \n34  61b356233deba7f22f1444a0  \n35  61b353093deba7f22f143eb1  \n36  61b354c83deba7f22f1442f9  \n37  61b353ee3deba7f22f144064  \n38  61b357bd3deba7f22f1448c9  \n39  61b352f33deba7f22f143e9f  \n40  61b352f23deba7f22f143e9e  \n41  61b352f13deba7f22f143e9d  \n42  61b357b93deba7f22f144861  \n43  61b357b63deba7f22f14485f  \n44  61b357b43deba7f22f14485d  \n45  61b357b53deba7f22f14485e  \n46  61b359a13deba7f22f144f51  \n47  61b35cf93deba7f22f14560f  \n48  61b357153deba7f22f1446a5  \n49  61b35fa53deba7f22f145c98  ",
      "text/html": "<div>\n<style scoped>\n    .dataframe tbody tr th:only-of-type {\n        vertical-align: middle;\n    }\n\n    .dataframe tbody tr th {\n        vertical-align: top;\n    }\n\n    .dataframe thead th {\n        text-align: right;\n    }\n</style>\n<table border=\"1\" class=\"dataframe\">\n  <thead>\n    <tr style=\"text-align: right;\">\n      <th></th>\n      <th>_id</th>\n      <th>gameCreation</th>\n      <th>gameEndTimestamp</th>\n      <th>gameMode</th>\n      <th>gameName</th>\n      <th>gameStartTimestamp</th>\n      <th>gameType</th>\n      <th>gameVersion</th>\n      <th>mapId</th>\n      <th>teams</th>\n      <th>tournamentCode</th>\n      <th>dataVersion</th>\n      <th>matchId</th>\n      <th>participants</th>\n      <th>gameDuration_ms</th>\n      <th>req_server</th>\n      <th>gameCreation_date</th>\n      <th>gameStartTimestamp_date</th>\n      <th>matchTimelineId</th>\n    </tr>\n  </thead>\n  <tbody>\n    <tr>\n      <th>0</th>\n      <td>619cde1976e6c35572ba3bd5</td>\n      <td>1637599884000</td>\n      <td>1637602003183</td>\n      <td>CLASSIC</td>\n      <td>teambuilder-match-4112918754</td>\n      <td>1637599911179</td>\n      <td>MATCHED_GAME</td>\n      <td>11.23.409.111</td>\n      <td>11</td>\n      <td>[{'bans': [{'championId': 164, 'pickTurn': 1},...</td>\n      <td></td>\n      <td>2</td>\n      <td>NA1_4112918754</td>\n      <td>[-L314LjYwt1J1K_suPbBHEwpQCXJlmxnEl8cszKarzYgm...</td>\n      <td>2091</td>\n      <td>NA1</td>\n      <td>2021-11-22 16:51:24</td>\n      <td>2021-11-22 16:51:51.179</td>\n      <td>61b323f63deba7f22f137b00</td>\n    </tr>\n    <tr>\n      <th>1</th>\n      <td>619d028676e6c35572bb9f5f</td>\n      <td>1637608331000</td>\n      <td>1637610122626</td>\n      <td>CLASSIC</td>\n      <td>teambuilder-match-4113031259</td>\n      <td>1637608380115</td>\n      <td>MATCHED_GAME</td>\n      <td>11.23.409.111</td>\n      <td>11</td>\n      <td>[{'bans': [{'championId': 711, 'pickTurn': 1},...</td>\n      <td></td>\n      <td>2</td>\n      <td>NA1_4113031259</td>\n      <td>[o2l4tKoPPlpq03-iXlIF8qXSiOEjWQwCuSpNfTexpjzIj...</td>\n      <td>1742</td>\n      <td>NA1</td>\n      <td>2021-11-22 19:12:11</td>\n      <td>2021-11-22 19:13:00.115</td>\n      <td>61b326f23deba7f22f138a26</td>\n    </tr>\n    <tr>\n      <th>2</th>\n      <td>619d028576e6c35572bb9f49</td>\n      <td>1637610860000</td>\n      <td>1637612765278</td>\n      <td>CLASSIC</td>\n      <td>teambuilder-match-4113054688</td>\n      <td>1637610899744</td>\n      <td>MATCHED_GAME</td>\n      <td>11.23.409.111</td>\n      <td>11</td>\n      <td>[{'bans': [{'championId': 56, 'pickTurn': 1}, ...</td>\n      <td></td>\n      <td>2</td>\n      <td>NA1_4113054688</td>\n      <td>[WpYAA8AZzkj7b9iaeVSc097kNxuosLi5TXHWBXu_78MYU...</td>\n      <td>1865</td>\n      <td>NA1</td>\n      <td>2021-11-22 19:54:20</td>\n      <td>2021-11-22 19:54:59.744</td>\n      <td>61b326f13deba7f22f138a1a</td>\n    </tr>\n    <tr>\n      <th>3</th>\n      <td>619ce17c76e6c35572ba6754</td>\n      <td>1637616155000</td>\n      <td>1637617674587</td>\n      <td>CLASSIC</td>\n      <td>teambuilder-match-4113114496</td>\n      <td>1637616179168</td>\n      <td>MATCHED_GAME</td>\n      <td>11.23.409.111</td>\n      <td>11</td>\n      <td>[{'bans': [{'championId': 119, 'pickTurn': 1},...</td>\n      <td></td>\n      <td>2</td>\n      <td>NA1_4113114496</td>\n      <td>[9EQgNUWVj68SICPqUM0TqW4IaGg-Of9jJf0by3DxTmMUN...</td>\n      <td>1495</td>\n      <td>NA1</td>\n      <td>2021-11-22 21:22:35</td>\n      <td>2021-11-22 21:22:59.168</td>\n      <td>61b323ff3deba7f22f137b08</td>\n    </tr>\n    <tr>\n      <th>4</th>\n      <td>619e036e76e6c35572bdbef1</td>\n      <td>1637684058000</td>\n      <td>1637685982726</td>\n      <td>CLASSIC</td>\n      <td>teambuilder-match-4114353407</td>\n      <td>1637684127933</td>\n      <td>MATCHED_GAME</td>\n      <td>11.23.409.111</td>\n      <td>11</td>\n      <td>[{'bans': [{'championId': 45, 'pickTurn': 1}, ...</td>\n      <td></td>\n      <td>2</td>\n      <td>NA1_4114353407</td>\n      <td>[Ja68D8TIcIVF9Ny2WRbj_LnRPr4nJFfSIx82wuJCZVm6d...</td>\n      <td>1854</td>\n      <td>NA1</td>\n      <td>2021-11-23 16:14:18</td>\n      <td>2021-11-23 16:15:27.933</td>\n      <td>61b32e093deba7f22f13b59d</td>\n    </tr>\n    <tr>\n      <th>5</th>\n      <td>619e8b6f76e6c35572c19126</td>\n      <td>1637692152000</td>\n      <td>1637694244814</td>\n      <td>CLASSIC</td>\n      <td>teambuilder-match-4114384279</td>\n      <td>1637692271162</td>\n      <td>MATCHED_GAME</td>\n      <td>11.23.409.111</td>\n      <td>11</td>\n      <td>[{'bans': [{'championId': 26, 'pickTurn': 1}, ...</td>\n      <td></td>\n      <td>2</td>\n      <td>NA1_4114384279</td>\n      <td>[nUWW7AAdG6Pm6QudRPxaX9pyqwPjsm9VMwGNZIH2T6anT...</td>\n      <td>1973</td>\n      <td>NA1</td>\n      <td>2021-11-23 18:29:12</td>\n      <td>2021-11-23 18:31:11.162</td>\n      <td>61b335a73deba7f22f13e0d0</td>\n    </tr>\n    <tr>\n      <th>6</th>\n      <td>619e31a476e6c35572bfb565</td>\n      <td>1637689741000</td>\n      <td>1637691469132</td>\n      <td>CLASSIC</td>\n      <td>teambuilder-match-4114410624</td>\n      <td>1637689801794</td>\n      <td>MATCHED_GAME</td>\n      <td>11.23.409.111</td>\n      <td>11</td>\n      <td>[{'bans': [{'championId': 102, 'pickTurn': 1},...</td>\n      <td></td>\n      <td>2</td>\n      <td>NA1_4114410624</td>\n      <td>[p2M7IkGCwsRPqd7I8VYGi8vcoWtY_W5YwOfhEViTW9j-Z...</td>\n      <td>1667</td>\n      <td>NA1</td>\n      <td>2021-11-23 17:49:01</td>\n      <td>2021-11-23 17:50:01.794</td>\n      <td>61b32fec3deba7f22f13c1b0</td>\n    </tr>\n    <tr>\n      <th>7</th>\n      <td>619f7ac476e6c35572c4497a</td>\n      <td>1637707766000</td>\n      <td>1637710434343</td>\n      <td>CLASSIC</td>\n      <td>teambuilder-match-4114572094</td>\n      <td>1637707790439</td>\n      <td>MATCHED_GAME</td>\n      <td>11.23.409.111</td>\n      <td>11</td>\n      <td>[{'bans': [{'championId': 38, 'pickTurn': 1}, ...</td>\n      <td></td>\n      <td>2</td>\n      <td>NA1_4114572094</td>\n      <td>[zI4UzklmqgK68E09CFgMJJFk9QEQ0i0uw18nIN2smAc4f...</td>\n      <td>2643</td>\n      <td>NA1</td>\n      <td>2021-11-23 22:49:26</td>\n      <td>2021-11-23 22:49:50.439</td>\n      <td>61b338143deba7f22f13ea73</td>\n    </tr>\n    <tr>\n      <th>8</th>\n      <td>619e5b5d76e6c35572c10ef2</td>\n      <td>1637724795000</td>\n      <td>1637726251491</td>\n      <td>CLASSIC</td>\n      <td>teambuilder-match-4114896489</td>\n      <td>1637724852190</td>\n      <td>MATCHED_GAME</td>\n      <td>11.23.409.111</td>\n      <td>11</td>\n      <td>[{'bans': [{'championId': 147, 'pickTurn': 1},...</td>\n      <td></td>\n      <td>2</td>\n      <td>NA1_4114896489</td>\n      <td>[2wsaXabYW_1Z6iXzGg42WqrUtAuu4vnqgReStfiUm5rUe...</td>\n      <td>1399</td>\n      <td>NA1</td>\n      <td>2021-11-24 03:33:15</td>\n      <td>2021-11-24 03:34:12.190</td>\n      <td>61b331c93deba7f22f13c9fb</td>\n    </tr>\n    <tr>\n      <th>9</th>\n      <td>619f7bb276e6c35572c45926</td>\n      <td>1637780082000</td>\n      <td>1637781037109</td>\n      <td>CLASSIC</td>\n      <td>teambuilder-match-4115483709</td>\n      <td>1637780108900</td>\n      <td>MATCHED_GAME</td>\n      <td>11.23.409.111</td>\n      <td>11</td>\n      <td>[{'bans': [{'championId': 26, 'pickTurn': 1}, ...</td>\n      <td></td>\n      <td>2</td>\n      <td>NA1_4115483709</td>\n      <td>[EvlGs3-gj2E2KihdjvqqhH1axtEm2YQeeBY57dRVeLcyw...</td>\n      <td>928</td>\n      <td>NA1</td>\n      <td>2021-11-24 18:54:42</td>\n      <td>2021-11-24 18:55:08.900</td>\n      <td>61b338d73deba7f22f13ed6d</td>\n    </tr>\n    <tr>\n      <th>10</th>\n      <td>619fcc8476e6c35572c67949</td>\n      <td>1637781450000</td>\n      <td>1637783272403</td>\n      <td>CLASSIC</td>\n      <td>teambuilder-match-4115495602</td>\n      <td>1637781468128</td>\n      <td>MATCHED_GAME</td>\n      <td>11.23.409.111</td>\n      <td>11</td>\n      <td>[{'bans': [{'championId': 85, 'pickTurn': 1}, ...</td>\n      <td></td>\n      <td>2</td>\n      <td>NA1_4115495602</td>\n      <td>[_5MliOlQswIm6uIYTMWl59sW58THvZk1uw17Er40szGGI...</td>\n      <td>1804</td>\n      <td>NA1</td>\n      <td>2021-11-24 19:17:30</td>\n      <td>2021-11-24 19:17:48.128</td>\n      <td>61b33cab3deba7f22f13fdfb</td>\n    </tr>\n    <tr>\n      <th>11</th>\n      <td>619f657e76e6c35572c3d0b3</td>\n      <td>1637784222000</td>\n      <td>1637786396892</td>\n      <td>CLASSIC</td>\n      <td>teambuilder-match-4115509715</td>\n      <td>1637784274169</td>\n      <td>MATCHED_GAME</td>\n      <td>11.23.409.111</td>\n      <td>11</td>\n      <td>[{'bans': [{'championId': 19, 'pickTurn': 1}, ...</td>\n      <td></td>\n      <td>2</td>\n      <td>NA1_4115509715</td>\n      <td>[2-OKgSmF63rwn_qe_GDKw5CgLhXXDz-8Qy8xNfw6AXPWF...</td>\n      <td>2122</td>\n      <td>NA1</td>\n      <td>2021-11-24 20:03:42</td>\n      <td>2021-11-24 20:04:34.169</td>\n      <td>61b338043deba7f22f13ea5b</td>\n    </tr>\n    <tr>\n      <th>12</th>\n      <td>619fde8576e6c35572c6ad3b</td>\n      <td>1637818418000</td>\n      <td>1637819612175</td>\n      <td>CLASSIC</td>\n      <td>teambuilder-match-4116366488</td>\n      <td>1637818441839</td>\n      <td>MATCHED_GAME</td>\n      <td>11.23.409.111</td>\n      <td>11</td>\n      <td>[{'bans': [{'championId': 67, 'pickTurn': 1}, ...</td>\n      <td></td>\n      <td>2</td>\n      <td>NA1_4116366488</td>\n      <td>[4j2ntJrmFipi8Z-j-5naUPLqlkIr9ye4KjSfleGhJJscf...</td>\n      <td>1170</td>\n      <td>NA1</td>\n      <td>2021-11-25 05:33:38</td>\n      <td>2021-11-25 05:34:01.839</td>\n      <td>61b33db33deba7f22f140310</td>\n    </tr>\n    <tr>\n      <th>13</th>\n      <td>619faf5c76e6c35572c636cf</td>\n      <td>1637847619000</td>\n      <td>1637849346297</td>\n      <td>CLASSIC</td>\n      <td>teambuilder-match-4116741548</td>\n      <td>1637847631823</td>\n      <td>MATCHED_GAME</td>\n      <td>11.23.409.111</td>\n      <td>11</td>\n      <td>[{'bans': [{'championId': -1, 'pickTurn': 1}, ...</td>\n      <td></td>\n      <td>2</td>\n      <td>NA1_4116741548</td>\n      <td>[__MJHet7iSbxIlUWg0TpvtGNRvZSyfGM3EfXHDmi7nGdO...</td>\n      <td>1714</td>\n      <td>NA1</td>\n      <td>2021-11-25 13:40:19</td>\n      <td>2021-11-25 13:40:31.823</td>\n      <td>61b33acc3deba7f22f13f623</td>\n    </tr>\n    <tr>\n      <th>14</th>\n      <td>619fcc8076e6c35572c678ba</td>\n      <td>1637853932000</td>\n      <td>1637855986636</td>\n      <td>CLASSIC</td>\n      <td>teambuilder-match-4116748183</td>\n      <td>1637853984871</td>\n      <td>MATCHED_GAME</td>\n      <td>11.23.409.111</td>\n      <td>11</td>\n      <td>[{'bans': [{'championId': 26, 'pickTurn': 1}, ...</td>\n      <td></td>\n      <td>2</td>\n      <td>NA1_4116748183</td>\n      <td>[5OvpAn6asyFUDE7YQ4L2XQV5djxQq6Me777ZISEXQf179...</td>\n      <td>2001</td>\n      <td>NA1</td>\n      <td>2021-11-25 15:25:32</td>\n      <td>2021-11-25 15:26:24.871</td>\n      <td>61b33ca33deba7f22f13fde8</td>\n    </tr>\n    <tr>\n      <th>15</th>\n      <td>61a11e9d59ede6af7102990e</td>\n      <td>1637883729000</td>\n      <td>1637885185162</td>\n      <td>CLASSIC</td>\n      <td>teambuilder-match-4117096306</td>\n      <td>1637883779161</td>\n      <td>MATCHED_GAME</td>\n      <td>11.23.409.111</td>\n      <td>11</td>\n      <td>[{'bans': [{'championId': 24, 'pickTurn': 1}, ...</td>\n      <td></td>\n      <td>2</td>\n      <td>NA1_4117096306</td>\n      <td>[YqOnORuCXr7_nFvFoGwNgCXT5bWALCusLcfLXjCvKdaG6...</td>\n      <td>1405</td>\n      <td>NA1</td>\n      <td>2021-11-25 23:42:09</td>\n      <td>2021-11-25 23:42:59.161</td>\n      <td>61b3443c3deba7f22f141ac4</td>\n    </tr>\n    <tr>\n      <th>16</th>\n      <td>61a12fd259ede6af7102c40c</td>\n      <td>1637942264000</td>\n      <td>1637943713112</td>\n      <td>CLASSIC</td>\n      <td>teambuilder-match-4117881867</td>\n      <td>1637942351349</td>\n      <td>MATCHED_GAME</td>\n      <td>11.23.409.111</td>\n      <td>11</td>\n      <td>[{'bans': [{'championId': -1, 'pickTurn': 1}, ...</td>\n      <td></td>\n      <td>2</td>\n      <td>NA1_4117881867</td>\n      <td>[LQCPA2xIL30GU-3dOLbpC-Jrm0frcLdille_ZMPbWQqdv...</td>\n      <td>1361</td>\n      <td>NA1</td>\n      <td>2021-11-26 15:57:44</td>\n      <td>2021-11-26 15:59:11.349</td>\n      <td>61b3445a3deba7f22f141b3d</td>\n    </tr>\n    <tr>\n      <th>17</th>\n      <td>61a2204759ede6af7105cbad</td>\n      <td>1637946410000</td>\n      <td>1637948877473</td>\n      <td>CLASSIC</td>\n      <td>teambuilder-match-4117897084</td>\n      <td>1637946473413</td>\n      <td>MATCHED_GAME</td>\n      <td>11.23.409.111</td>\n      <td>11</td>\n      <td>[{'bans': [{'championId': 112, 'pickTurn': 1},...</td>\n      <td></td>\n      <td>2</td>\n      <td>NA1_4117897084</td>\n      <td>[CzxloiHMl5r7aTASfDsfVrtyr9FpD5yr825ivgRxy3Hjv...</td>\n      <td>2403</td>\n      <td>NA1</td>\n      <td>2021-11-26 17:06:50</td>\n      <td>2021-11-26 17:07:53.413</td>\n      <td>61b347fa3deba7f22f1426af</td>\n    </tr>\n    <tr>\n      <th>18</th>\n      <td>61a282d259ede6af7108427b</td>\n      <td>1637949724000</td>\n      <td>1637951513208</td>\n      <td>CLASSIC</td>\n      <td>teambuilder-match-4117971821</td>\n      <td>1637949778438</td>\n      <td>MATCHED_GAME</td>\n      <td>11.23.409.111</td>\n      <td>11</td>\n      <td>[{'bans': [{'championId': 91, 'pickTurn': 1}, ...</td>\n      <td></td>\n      <td>2</td>\n      <td>NA1_4117971821</td>\n      <td>[B62nx9VgyZKX1iSlPyNh5_58BERAYLlEs_OoGnxTb_0d_...</td>\n      <td>1734</td>\n      <td>NA1</td>\n      <td>2021-11-26 18:02:04</td>\n      <td>2021-11-26 18:02:58.438</td>\n      <td>61b34b5b3deba7f22f142cd4</td>\n    </tr>\n    <tr>\n      <th>19</th>\n      <td>61a282d059ede6af71084239</td>\n      <td>1637952604000</td>\n      <td>1637954085744</td>\n      <td>CLASSIC</td>\n      <td>teambuilder-match-4117985954</td>\n      <td>1637952698716</td>\n      <td>MATCHED_GAME</td>\n      <td>11.23.409.111</td>\n      <td>11</td>\n      <td>[{'bans': [{'championId': 11, 'pickTurn': 1}, ...</td>\n      <td></td>\n      <td>2</td>\n      <td>NA1_4117985954</td>\n      <td>[qXqlR9w6rbbMXI73eTv0PMCD0HX5a659kcs_ZNz-e8CNE...</td>\n      <td>1387</td>\n      <td>NA1</td>\n      <td>2021-11-26 18:50:04</td>\n      <td>2021-11-26 18:51:38.716</td>\n      <td>61b34b5a3deba7f22f142cd2</td>\n    </tr>\n    <tr>\n      <th>20</th>\n      <td>61a229d859ede6af710659c3</td>\n      <td>1637964583000</td>\n      <td>1637966429859</td>\n      <td>CLASSIC</td>\n      <td>teambuilder-match-4118140558</td>\n      <td>1637964635916</td>\n      <td>MATCHED_GAME</td>\n      <td>11.23.409.111</td>\n      <td>11</td>\n      <td>[{'bans': [{'championId': 412, 'pickTurn': 1},...</td>\n      <td></td>\n      <td>2</td>\n      <td>NA1_4118140558</td>\n      <td>[2-OKgSmF63rwn_qe_GDKw5CgLhXXDz-8Qy8xNfw6AXPWF...</td>\n      <td>1793</td>\n      <td>NA1</td>\n      <td>2021-11-26 22:09:43</td>\n      <td>2021-11-26 22:10:35.916</td>\n      <td>61b348113deba7f22f1426c6</td>\n    </tr>\n    <tr>\n      <th>21</th>\n      <td>61a1fb0a59ede6af71044373</td>\n      <td>1637966814000</td>\n      <td>1637968871208</td>\n      <td>CLASSIC</td>\n      <td>teambuilder-match-4118145454</td>\n      <td>1637966848964</td>\n      <td>MATCHED_GAME</td>\n      <td>11.23.409.111</td>\n      <td>11</td>\n      <td>[{'bans': [{'championId': 7, 'pickTurn': 1}, {...</td>\n      <td></td>\n      <td>2</td>\n      <td>NA1_4118145454</td>\n      <td>[GCWipKS_vamIxjMb88pfTQZc4qhwNpBnq010Rp2fO2E1p...</td>\n      <td>2022</td>\n      <td>NA1</td>\n      <td>2021-11-26 22:46:54</td>\n      <td>2021-11-26 22:47:28.964</td>\n      <td>61b347013deba7f22f142446</td>\n    </tr>\n    <tr>\n      <th>22</th>\n      <td>61a73c7479360cb192005a4f</td>\n      <td>1638033958000</td>\n      <td>1638035116977</td>\n      <td>CLASSIC</td>\n      <td>teambuilder-match-4119331516</td>\n      <td>1638033994834</td>\n      <td>MATCHED_GAME</td>\n      <td>11.23.409.111</td>\n      <td>11</td>\n      <td>[{'bans': [{'championId': 38, 'pickTurn': 1}, ...</td>\n      <td></td>\n      <td>2</td>\n      <td>NA1_4119331516</td>\n      <td>[pWj6CkX5zD0BBv3NEUNgwjKW07HTda_0Iv1dtj1lzaRj-...</td>\n      <td>1122</td>\n      <td>NA1</td>\n      <td>2021-11-27 17:25:58</td>\n      <td>2021-11-27 17:26:34.834</td>\n      <td>61b353923deba7f22f143fb4</td>\n    </tr>\n    <tr>\n      <th>23</th>\n      <td>61a3d6ab6a1ce807ae905930</td>\n      <td>1638040939000</td>\n      <td>1638042807007</td>\n      <td>CLASSIC</td>\n      <td>teambuilder-match-4119412825</td>\n      <td>1638040972547</td>\n      <td>MATCHED_GAME</td>\n      <td>11.23.409.111</td>\n      <td>11</td>\n      <td>[{'bans': [{'championId': 51, 'pickTurn': 1}, ...</td>\n      <td></td>\n      <td>2</td>\n      <td>NA1_4119412825</td>\n      <td>[4Sspl8NJgMayvYOHofifgyUiGky2mOAWue7XtQLxL2G5x...</td>\n      <td>1834</td>\n      <td>NA1</td>\n      <td>2021-11-27 19:22:19</td>\n      <td>2021-11-27 19:22:52.547</td>\n      <td>61b350a03deba7f22f1438a1</td>\n    </tr>\n    <tr>\n      <th>24</th>\n      <td>61a371676a1ce807ae8da121</td>\n      <td>1638048457000</td>\n      <td>1638050753465</td>\n      <td>CLASSIC</td>\n      <td>teambuilder-match-4119487449</td>\n      <td>1638048476743</td>\n      <td>MATCHED_GAME</td>\n      <td>11.23.409.111</td>\n      <td>11</td>\n      <td>[{'bans': [{'championId': 23, 'pickTurn': 1}, ...</td>\n      <td></td>\n      <td>2</td>\n      <td>NA1_4119487449</td>\n      <td>[xcBqqtMNaHeGbzb_Wr-0aA0reGW0dXLWA2WLA5GHctwaS...</td>\n      <td>2276</td>\n      <td>NA1</td>\n      <td>2021-11-27 21:27:37</td>\n      <td>2021-11-27 21:27:56.743</td>\n      <td>61b34d4c3deba7f22f1430ec</td>\n    </tr>\n    <tr>\n      <th>25</th>\n      <td>61a3d6b66a1ce807ae905b1a</td>\n      <td>1638051887000</td>\n      <td>1638053280125</td>\n      <td>CLASSIC</td>\n      <td>teambuilder-match-4119574152</td>\n      <td>1638051906968</td>\n      <td>MATCHED_GAME</td>\n      <td>11.23.409.111</td>\n      <td>11</td>\n      <td>[{'bans': [{'championId': 711, 'pickTurn': 1},...</td>\n      <td></td>\n      <td>2</td>\n      <td>NA1_4119574152</td>\n      <td>[66wnyLJcbLRfZXyYkxiIzK0JgrqbZkuVcJpcN5N2QLP-5...</td>\n      <td>1373</td>\n      <td>NA1</td>\n      <td>2021-11-27 22:24:47</td>\n      <td>2021-11-27 22:25:06.968</td>\n      <td>61b350a63deba7f22f1438a6</td>\n    </tr>\n    <tr>\n      <th>26</th>\n      <td>61a3c3326a1ce807ae900b16</td>\n      <td>1638053850000</td>\n      <td>1638055266655</td>\n      <td>CLASSIC</td>\n      <td>teambuilder-match-4119588134</td>\n      <td>1638053873500</td>\n      <td>MATCHED_GAME</td>\n      <td>11.23.409.111</td>\n      <td>11</td>\n      <td>[{'bans': [{'championId': 13, 'pickTurn': 1}, ...</td>\n      <td></td>\n      <td>2</td>\n      <td>NA1_4119588134</td>\n      <td>[VxbGMeWhg697yOcYTq2L01O_mWGAqQWZKh0CD25F2Qw1b...</td>\n      <td>1393</td>\n      <td>NA1</td>\n      <td>2021-11-27 22:57:30</td>\n      <td>2021-11-27 22:57:53.500</td>\n      <td>61b34fc13deba7f22f14372a</td>\n    </tr>\n    <tr>\n      <th>27</th>\n      <td>61a3c3306a1ce807ae900aea</td>\n      <td>1638056664000</td>\n      <td>1638058706156</td>\n      <td>CLASSIC</td>\n      <td>teambuilder-match-4119673297</td>\n      <td>1638056695970</td>\n      <td>MATCHED_GAME</td>\n      <td>11.23.409.111</td>\n      <td>11</td>\n      <td>[{'bans': [{'championId': 412, 'pickTurn': 1},...</td>\n      <td></td>\n      <td>2</td>\n      <td>NA1_4119673297</td>\n      <td>[R07gX90gzyAR-3sqwSU8Aw_ovYiuJcuShe5VTHBfGYwHj...</td>\n      <td>2010</td>\n      <td>NA1</td>\n      <td>2021-11-27 23:44:24</td>\n      <td>2021-11-27 23:44:55.970</td>\n      <td>61b34fc03deba7f22f143728</td>\n    </tr>\n    <tr>\n      <th>28</th>\n      <td>61a35b4e6a1ce807ae8d0341</td>\n      <td>1638072285000</td>\n      <td>1638073922920</td>\n      <td>CLASSIC</td>\n      <td>teambuilder-match-4119907297</td>\n      <td>1638072301412</td>\n      <td>MATCHED_GAME</td>\n      <td>11.23.409.111</td>\n      <td>11</td>\n      <td>[{'bans': [{'championId': 104, 'pickTurn': 1},...</td>\n      <td></td>\n      <td>2</td>\n      <td>NA1_4119907297</td>\n      <td>[yS6QGjhoHdfVC-_Y-q9HEOC6OWqmKiJ99SnbJJh7xOmO5...</td>\n      <td>1621</td>\n      <td>NA1</td>\n      <td>2021-11-28 04:04:45</td>\n      <td>2021-11-28 04:05:01.412</td>\n      <td>61b34d3f3deba7f22f1430dc</td>\n    </tr>\n    <tr>\n      <th>29</th>\n      <td>61a3a6b16a1ce807ae8fc5ca</td>\n      <td>1638074814000</td>\n      <td>1638076485886</td>\n      <td>CLASSIC</td>\n      <td>teambuilder-match-4119985066</td>\n      <td>1638074834103</td>\n      <td>MATCHED_GAME</td>\n      <td>11.23.409.111</td>\n      <td>11</td>\n      <td>[{'bans': [{'championId': 164, 'pickTurn': 1},...</td>\n      <td></td>\n      <td>2</td>\n      <td>NA1_4119985066</td>\n      <td>[2wsaXabYW_1Z6iXzGg42WqrUtAuu4vnqgReStfiUm5rUe...</td>\n      <td>1651</td>\n      <td>NA1</td>\n      <td>2021-11-28 04:46:54</td>\n      <td>2021-11-28 04:47:14.103</td>\n      <td>61b34f863deba7f22f143672</td>\n    </tr>\n    <tr>\n      <th>30</th>\n      <td>61a3e0f36a1ce807ae90c91b</td>\n      <td>1638122520000</td>\n      <td>1638124818821</td>\n      <td>CLASSIC</td>\n      <td>teambuilder-match-4120457571</td>\n      <td>1638122566379</td>\n      <td>MATCHED_GAME</td>\n      <td>11.23.409.111</td>\n      <td>11</td>\n      <td>[{'bans': [{'championId': 38, 'pickTurn': 1}, ...</td>\n      <td></td>\n      <td>2</td>\n      <td>NA1_4120457571</td>\n      <td>[gla_pe4Um9FAh-8y6l3_idFfRXu558k9KsA-oISaFwtSF...</td>\n      <td>2252</td>\n      <td>NA1</td>\n      <td>2021-11-28 18:02:00</td>\n      <td>2021-11-28 18:02:46.379</td>\n      <td>61b351af3deba7f22f143be9</td>\n    </tr>\n    <tr>\n      <th>31</th>\n      <td>61a7517e7d6c82c490d8492e</td>\n      <td>1638125793000</td>\n      <td>1638127788585</td>\n      <td>CLASSIC</td>\n      <td>teambuilder-match-4120580479</td>\n      <td>1638125811021</td>\n      <td>MATCHED_GAME</td>\n      <td>11.23.409.111</td>\n      <td>11</td>\n      <td>[{'bans': [{'championId': 48, 'pickTurn': 1}, ...</td>\n      <td></td>\n      <td>2</td>\n      <td>NA1_4120580479</td>\n      <td>[xcBqqtMNaHeGbzb_Wr-0aA0reGW0dXLWA2WLA5GHctwaS...</td>\n      <td>1977</td>\n      <td>NA1</td>\n      <td>2021-11-28 18:56:33</td>\n      <td>2021-11-28 18:56:51.021</td>\n      <td>61b356223deba7f22f14449f</td>\n    </tr>\n    <tr>\n      <th>32</th>\n      <td>61a756c87d6c82c490d8cc09</td>\n      <td>1638134086000</td>\n      <td>1638135793209</td>\n      <td>CLASSIC</td>\n      <td>teambuilder-match-4120609128</td>\n      <td>1638134105833</td>\n      <td>MATCHED_GAME</td>\n      <td>11.23.409.111</td>\n      <td>11</td>\n      <td>[{'bans': [{'championId': 119, 'pickTurn': 1},...</td>\n      <td></td>\n      <td>2</td>\n      <td>NA1_4120609128</td>\n      <td>[xcBqqtMNaHeGbzb_Wr-0aA0reGW0dXLWA2WLA5GHctwaS...</td>\n      <td>1687</td>\n      <td>NA1</td>\n      <td>2021-11-28 21:14:46</td>\n      <td>2021-11-28 21:15:05.833</td>\n      <td>61b357bf3deba7f22f1448d5</td>\n    </tr>\n    <tr>\n      <th>33</th>\n      <td>61a751747d6c82c490d8467a</td>\n      <td>1638136975000</td>\n      <td>1638139701412</td>\n      <td>CLASSIC</td>\n      <td>teambuilder-match-4120666300</td>\n      <td>1638137012223</td>\n      <td>MATCHED_GAME</td>\n      <td>11.23.409.111</td>\n      <td>11</td>\n      <td>[{'bans': [{'championId': 99, 'pickTurn': 1}, ...</td>\n      <td></td>\n      <td>2</td>\n      <td>NA1_4120666300</td>\n      <td>[ZLs5PmKPmE8-Fvjnf9WI28xOlfDgS_CFzkWPTllOLbU1B...</td>\n      <td>2689</td>\n      <td>NA1</td>\n      <td>2021-11-28 22:02:55</td>\n      <td>2021-11-28 22:03:32.223</td>\n      <td>61b3561d3deba7f22f14449b</td>\n    </tr>\n    <tr>\n      <th>34</th>\n      <td>61a7519e7d6c82c490d84eff</td>\n      <td>1638140450000</td>\n      <td>1638142514824</td>\n      <td>CLASSIC</td>\n      <td>teambuilder-match-4120734190</td>\n      <td>1638140470711</td>\n      <td>MATCHED_GAME</td>\n      <td>11.23.409.111</td>\n      <td>11</td>\n      <td>[{'bans': [{'championId': 103, 'pickTurn': 1},...</td>\n      <td></td>\n      <td>2</td>\n      <td>NA1_4120734190</td>\n      <td>[ZQ5QMDAbGZuOp5TxtfZhtb3X1rflUH0EVQFT7VwWbG46S...</td>\n      <td>2044</td>\n      <td>NA1</td>\n      <td>2021-11-28 23:00:50</td>\n      <td>2021-11-28 23:01:10.711</td>\n      <td>61b356233deba7f22f1444a0</td>\n    </tr>\n    <tr>\n      <th>35</th>\n      <td>61a73bfe79360cb192004f0c</td>\n      <td>1638195928000</td>\n      <td>1638197315974</td>\n      <td>CLASSIC</td>\n      <td>teambuilder-match-4121510202</td>\n      <td>1638195954356</td>\n      <td>MATCHED_GAME</td>\n      <td>11.23.409.111</td>\n      <td>11</td>\n      <td>[{'bans': [{'championId': 164, 'pickTurn': 1},...</td>\n      <td></td>\n      <td>2</td>\n      <td>NA1_4121510202</td>\n      <td>[5OvpAn6asyFUDE7YQ4L2XQV5djxQq6Me777ZISEXQf179...</td>\n      <td>1361</td>\n      <td>NA1</td>\n      <td>2021-11-29 14:25:28</td>\n      <td>2021-11-29 14:25:54.356</td>\n      <td>61b353093deba7f22f143eb1</td>\n    </tr>\n    <tr>\n      <th>36</th>\n      <td>61a74eba7d6c82c490d80687</td>\n      <td>1638197850000</td>\n      <td>1638199679794</td>\n      <td>CLASSIC</td>\n      <td>teambuilder-match-4121512011</td>\n      <td>1638197869437</td>\n      <td>MATCHED_GAME</td>\n      <td>11.23.409.111</td>\n      <td>11</td>\n      <td>[{'bans': [{'championId': 99, 'pickTurn': 1}, ...</td>\n      <td></td>\n      <td>2</td>\n      <td>NA1_4121512011</td>\n      <td>[ON2S_lrcnkDUt93LhItBvjUDFHvVZcQtFDo6wKsF7VhqO...</td>\n      <td>1810</td>\n      <td>NA1</td>\n      <td>2021-11-29 14:57:30</td>\n      <td>2021-11-29 14:57:49.437</td>\n      <td>61b354c83deba7f22f1442f9</td>\n    </tr>\n    <tr>\n      <th>37</th>\n      <td>61a74c192f9b3879b2826578</td>\n      <td>1638210478000</td>\n      <td>1638212640606</td>\n      <td>CLASSIC</td>\n      <td>teambuilder-match-4121616007</td>\n      <td>1638210514722</td>\n      <td>MATCHED_GAME</td>\n      <td>11.23.409.111</td>\n      <td>11</td>\n      <td>[{'bans': [{'championId': 89, 'pickTurn': 1}, ...</td>\n      <td></td>\n      <td>2</td>\n      <td>NA1_4121616007</td>\n      <td>[LQCPA2xIL30GU-3dOLbpC-Jrm0frcLdille_ZMPbWQqdv...</td>\n      <td>2125</td>\n      <td>NA1</td>\n      <td>2021-11-29 18:27:58</td>\n      <td>2021-11-29 18:28:34.722</td>\n      <td>61b353ee3deba7f22f144064</td>\n    </tr>\n    <tr>\n      <th>38</th>\n      <td>61a756c57d6c82c490d8cba6</td>\n      <td>1638216339000</td>\n      <td>1638218377627</td>\n      <td>CLASSIC</td>\n      <td>teambuilder-match-4121762938</td>\n      <td>1638216354736</td>\n      <td>MATCHED_GAME</td>\n      <td>11.23.409.111</td>\n      <td>11</td>\n      <td>[{'bans': [{'championId': -1, 'pickTurn': 1}, ...</td>\n      <td></td>\n      <td>2</td>\n      <td>NA1_4121762938</td>\n      <td>[xcBqqtMNaHeGbzb_Wr-0aA0reGW0dXLWA2WLA5GHctwaS...</td>\n      <td>2022</td>\n      <td>NA1</td>\n      <td>2021-11-29 20:05:39</td>\n      <td>2021-11-29 20:05:54.736</td>\n      <td>61b357bd3deba7f22f1448c9</td>\n    </tr>\n    <tr>\n      <th>39</th>\n      <td>61a73b8b79360cb19200430c</td>\n      <td>1638219386000</td>\n      <td>1638220913664</td>\n      <td>CLASSIC</td>\n      <td>teambuilder-match-4121786986</td>\n      <td>1638219439834</td>\n      <td>MATCHED_GAME</td>\n      <td>11.23.409.111</td>\n      <td>11</td>\n      <td>[{'bans': [{'championId': 875, 'pickTurn': 1},...</td>\n      <td></td>\n      <td>2</td>\n      <td>NA1_4121786986</td>\n      <td>[Z7yh8wGvPJurFegWDjdok8Ys82wd4aN7hkqIP7vsUOsRP...</td>\n      <td>1473</td>\n      <td>NA1</td>\n      <td>2021-11-29 20:56:26</td>\n      <td>2021-11-29 20:57:19.834</td>\n      <td>61b352f33deba7f22f143e9f</td>\n    </tr>\n    <tr>\n      <th>40</th>\n      <td>61a73b8879360cb192004298</td>\n      <td>1638221933000</td>\n      <td>1638223674267</td>\n      <td>CLASSIC</td>\n      <td>teambuilder-match-4121902442</td>\n      <td>1638221965641</td>\n      <td>MATCHED_GAME</td>\n      <td>11.23.409.111</td>\n      <td>11</td>\n      <td>[{'bans': [{'championId': 67, 'pickTurn': 1}, ...</td>\n      <td></td>\n      <td>2</td>\n      <td>NA1_4121902442</td>\n      <td>[QB8U4n-gKO9nOG-7S1HiwuDnB0Wv13mhSWYK3HU3I35Fl...</td>\n      <td>1708</td>\n      <td>NA1</td>\n      <td>2021-11-29 21:38:53</td>\n      <td>2021-11-29 21:39:25.641</td>\n      <td>61b352f23deba7f22f143e9e</td>\n    </tr>\n    <tr>\n      <th>41</th>\n      <td>61a73b8579360cb192004236</td>\n      <td>1638224737000</td>\n      <td>1638226427134</td>\n      <td>CLASSIC</td>\n      <td>teambuilder-match-4121986304</td>\n      <td>1638224756204</td>\n      <td>MATCHED_GAME</td>\n      <td>11.23.409.111</td>\n      <td>11</td>\n      <td>[{'bans': [{'championId': 114, 'pickTurn': 1},...</td>\n      <td></td>\n      <td>2</td>\n      <td>NA1_4121986304</td>\n      <td>[n_9r3yYji7b7VTNUvdmJPq3-POX_JX0UvBVk0C9FGSuku...</td>\n      <td>1670</td>\n      <td>NA1</td>\n      <td>2021-11-29 22:25:37</td>\n      <td>2021-11-29 22:25:56.204</td>\n      <td>61b352f13deba7f22f143e9d</td>\n    </tr>\n    <tr>\n      <th>42</th>\n      <td>61a756ba7d6c82c490d8c895</td>\n      <td>1638227276000</td>\n      <td>1638229103132</td>\n      <td>CLASSIC</td>\n      <td>teambuilder-match-4122101140</td>\n      <td>1638227297167</td>\n      <td>MATCHED_GAME</td>\n      <td>11.23.409.111</td>\n      <td>11</td>\n      <td>[{'bans': [{'championId': 91, 'pickTurn': 1}, ...</td>\n      <td></td>\n      <td>2</td>\n      <td>NA1_4122101140</td>\n      <td>[xcBqqtMNaHeGbzb_Wr-0aA0reGW0dXLWA2WLA5GHctwaS...</td>\n      <td>1805</td>\n      <td>NA1</td>\n      <td>2021-11-29 23:07:56</td>\n      <td>2021-11-29 23:08:17.167</td>\n      <td>61b357b93deba7f22f144861</td>\n    </tr>\n    <tr>\n      <th>43</th>\n      <td>61a756b57d6c82c490d8c76b</td>\n      <td>1638288451000</td>\n      <td>1638290192679</td>\n      <td>CLASSIC</td>\n      <td>teambuilder-match-4122840220</td>\n      <td>1638288509392</td>\n      <td>MATCHED_GAME</td>\n      <td>11.23.409.111</td>\n      <td>11</td>\n      <td>[{'bans': [{'championId': 39, 'pickTurn': 1}, ...</td>\n      <td></td>\n      <td>2</td>\n      <td>NA1_4122840220</td>\n      <td>[Z7yh8wGvPJurFegWDjdok8Ys82wd4aN7hkqIP7vsUOsRP...</td>\n      <td>1683</td>\n      <td>NA1</td>\n      <td>2021-11-30 16:07:31</td>\n      <td>2021-11-30 16:08:29.392</td>\n      <td>61b357b63deba7f22f14485f</td>\n    </tr>\n    <tr>\n      <th>44</th>\n      <td>61a756b07d6c82c490d8c5da</td>\n      <td>1638294196000</td>\n      <td>1638295612521</td>\n      <td>CLASSIC</td>\n      <td>teambuilder-match-4122855882</td>\n      <td>1638294230602</td>\n      <td>MATCHED_GAME</td>\n      <td>11.23.409.111</td>\n      <td>11</td>\n      <td>[{'bans': [{'championId': -1, 'pickTurn': 1}, ...</td>\n      <td></td>\n      <td>2</td>\n      <td>NA1_4122855882</td>\n      <td>[K820cylO7bUheB7ZPyLz1Z47NweSwQ1LtcwfF0qCbwUJd...</td>\n      <td>1381</td>\n      <td>NA1</td>\n      <td>2021-11-30 17:43:16</td>\n      <td>2021-11-30 17:43:50.602</td>\n      <td>61b357b43deba7f22f14485d</td>\n    </tr>\n    <tr>\n      <th>45</th>\n      <td>61a756b37d6c82c490d8c641</td>\n      <td>1638290999000</td>\n      <td>1638292478647</td>\n      <td>CLASSIC</td>\n      <td>teambuilder-match-4122872258</td>\n      <td>1638291049409</td>\n      <td>MATCHED_GAME</td>\n      <td>11.23.409.111</td>\n      <td>11</td>\n      <td>[{'bans': [{'championId': 246, 'pickTurn': 1},...</td>\n      <td></td>\n      <td>2</td>\n      <td>NA1_4122872258</td>\n      <td>[5OvpAn6asyFUDE7YQ4L2XQV5djxQq6Me777ZISEXQf179...</td>\n      <td>1429</td>\n      <td>NA1</td>\n      <td>2021-11-30 16:49:59</td>\n      <td>2021-11-30 16:50:49.409</td>\n      <td>61b357b53deba7f22f14485e</td>\n    </tr>\n    <tr>\n      <th>46</th>\n      <td>61a75afe7d6c82c490d9289b</td>\n      <td>1638309455000</td>\n      <td>1638311345533</td>\n      <td>CLASSIC</td>\n      <td>teambuilder-match-4123006893</td>\n      <td>1638309513825</td>\n      <td>MATCHED_GAME</td>\n      <td>11.23.409.111</td>\n      <td>11</td>\n      <td>[{'bans': [{'championId': 28, 'pickTurn': 1}, ...</td>\n      <td></td>\n      <td>2</td>\n      <td>NA1_4123006893</td>\n      <td>[iOCYoL-WLZPuoy6R04AOYlW_rzkpfyNEtj9mdHMbnSTDF...</td>\n      <td>1831</td>\n      <td>NA1</td>\n      <td>2021-11-30 21:57:35</td>\n      <td>2021-11-30 21:58:33.825</td>\n      <td>61b359a13deba7f22f144f51</td>\n    </tr>\n    <tr>\n      <th>47</th>\n      <td>61a763ea7d6c82c490d9d8bc</td>\n      <td>1638305234000</td>\n      <td>1638306455331</td>\n      <td>CLASSIC</td>\n      <td>teambuilder-match-4123010103</td>\n      <td>1638305271701</td>\n      <td>MATCHED_GAME</td>\n      <td>11.23.409.111</td>\n      <td>11</td>\n      <td>[{'bans': [{'championId': 350, 'pickTurn': 1},...</td>\n      <td></td>\n      <td>2</td>\n      <td>NA1_4123010103</td>\n      <td>[IRwRONkTbK_8XdVwULj2TW_htDDcU95vCKOPpPBfXifUZ...</td>\n      <td>1183</td>\n      <td>NA1</td>\n      <td>2021-11-30 20:47:14</td>\n      <td>2021-11-30 20:47:51.701</td>\n      <td>61b35cf93deba7f22f14560f</td>\n    </tr>\n    <tr>\n      <th>48</th>\n      <td>61a755407d6c82c490d8a2ea</td>\n      <td>1638307021000</td>\n      <td>1638308819590</td>\n      <td>CLASSIC</td>\n      <td>teambuilder-match-4123022615</td>\n      <td>1638307053340</td>\n      <td>MATCHED_GAME</td>\n      <td>11.23.409.111</td>\n      <td>11</td>\n      <td>[{'bans': [{'championId': 238, 'pickTurn': 1},...</td>\n      <td></td>\n      <td>2</td>\n      <td>NA1_4123022615</td>\n      <td>[iYeP8xJluGZmY2gv0YQ6yQajRVH-Djwo-93UVOOafYcyO...</td>\n      <td>1766</td>\n      <td>NA1</td>\n      <td>2021-11-30 21:17:01</td>\n      <td>2021-11-30 21:17:33.340</td>\n      <td>61b357153deba7f22f1446a5</td>\n    </tr>\n    <tr>\n      <th>49</th>\n      <td>61a76c917d6c82c490da7b12</td>\n      <td>1638313413000</td>\n      <td>1638314838082</td>\n      <td>CLASSIC</td>\n      <td>teambuilder-match-4123093726</td>\n      <td>1638313430596</td>\n      <td>MATCHED_GAME</td>\n      <td>11.23.409.111</td>\n      <td>11</td>\n      <td>[{'bans': [{'championId': 777, 'pickTurn': 1},...</td>\n      <td></td>\n      <td>2</td>\n      <td>NA1_4123093726</td>\n      <td>[YcMczvQ1Hw6MYUvA4MLE3vngFY1VxiiFbZYqpdccISC-v...</td>\n      <td>1407</td>\n      <td>NA1</td>\n      <td>2021-11-30 23:03:33</td>\n      <td>2021-11-30 23:03:50.596</td>\n      <td>61b35fa53deba7f22f145c98</td>\n    </tr>\n  </tbody>\n</table>\n</div>"
     },
     "execution_count": 74,
     "metadata": {},
     "output_type": "execute_result"
    }
   ]
  },
  {
   "cell_type": "code",
   "execution_count": 75,
   "id": "52afe35e",
   "metadata": {
    "pycharm": {
     "name": "#%%\n"
    }
   },
   "outputs": [
    {
     "data": {
      "text/plain": "0     NA1_4112918754\n1     NA1_4113031259\n2     NA1_4113054688\n3     NA1_4113114496\n4     NA1_4114353407\n5     NA1_4114384279\n6     NA1_4114410624\n7     NA1_4114572094\n8     NA1_4114896489\n9     NA1_4115483709\n10    NA1_4115495602\n11    NA1_4115509715\n12    NA1_4116366488\n13    NA1_4116741548\n14    NA1_4116748183\n15    NA1_4117096306\n16    NA1_4117881867\n17    NA1_4117897084\n18    NA1_4117971821\n19    NA1_4117985954\n20    NA1_4118140558\n21    NA1_4118145454\n22    NA1_4119331516\n23    NA1_4119412825\n24    NA1_4119487449\n25    NA1_4119574152\n26    NA1_4119588134\n27    NA1_4119673297\n28    NA1_4119907297\n29    NA1_4119985066\n30    NA1_4120457571\n31    NA1_4120580479\n32    NA1_4120609128\n33    NA1_4120666300\n34    NA1_4120734190\n35    NA1_4121510202\n36    NA1_4121512011\n37    NA1_4121616007\n38    NA1_4121762938\n39    NA1_4121786986\n40    NA1_4121902442\n41    NA1_4121986304\n42    NA1_4122101140\n43    NA1_4122840220\n44    NA1_4122855882\n45    NA1_4122872258\n46    NA1_4123006893\n47    NA1_4123010103\n48    NA1_4123022615\n49    NA1_4123093726\nName: matchId, dtype: object"
     },
     "execution_count": 75,
     "metadata": {},
     "output_type": "execute_result"
    }
   ],
   "source": [
    "history['matchId']"
   ]
  },
  {
   "cell_type": "markdown",
   "id": "cecd9fcd",
   "metadata": {
    "pycharm": {
     "name": "#%% md\n"
    }
   },
   "source": [
    "## Read match from player"
   ]
  },
  {
   "cell_type": "code",
   "execution_count": 77,
   "outputs": [
    {
     "name": "stdout",
     "output_type": "stream",
     "text": [
      "read /Users/doba/Documents/TechnikumWien/3. Semester/Solution Deployment & Communication/dsc-final-project-epic-ml-visualizer/dsc_data/noway4u_sir/match_participant_summaries_NA1_4112918754.pkl\n"
     ]
    },
    {
     "data": {
      "text/plain": "{'_id': ObjectId('619cde1976e6c35572ba3bd6'),\n 'assists': 9,\n 'baronKills': 0,\n 'bountyLevel': 0,\n 'champExperience': 15883,\n 'champLevel': 16,\n 'championId': 36,\n 'championName': 'DrMundo',\n 'championTransform': 0,\n 'consumablesPurchased': 1,\n 'damageDealtToBuildings': 2123,\n 'damageDealtToObjectives': 4279,\n 'damageDealtToTurrets': 2123,\n 'damageSelfMitigated': 68639,\n 'deaths': 10,\n 'detectorWardsPlaced': 0,\n 'doubleKills': 0,\n 'dragonKills': 0,\n 'firstBloodAssist': True,\n 'firstBloodKill': False,\n 'firstTowerAssist': False,\n 'firstTowerKill': False,\n 'gameEndedInEarlySurrender': False,\n 'gameEndedInSurrender': False,\n 'goldEarned': 11249,\n 'goldSpent': 11150,\n 'individualPosition': 'TOP',\n 'inhibitorKills': 0,\n 'inhibitorTakedowns': 0,\n 'inhibitorsLost': 1,\n 'item0': 3082,\n 'item1': 3065,\n 'item2': 6662,\n 'item3': 3047,\n 'item4': 3075,\n 'item5': 1029,\n 'item6': 3340,\n 'itemsPurchased': 23,\n 'killingSprees': 1,\n 'kills': 2,\n 'lane': 'BOTTOM',\n 'largestCriticalStrike': 17,\n 'largestKillingSpree': 2,\n 'largestMultiKill': 1,\n 'longestTimeSpentLiving': 649,\n 'magicDamageDealt': 76579,\n 'magicDamageDealtToChampions': 16117,\n 'magicDamageTaken': 25741,\n 'neutralMinionsKilled': 0,\n 'nexusKills': 0,\n 'nexusLost': 1,\n 'nexusTakedowns': 0,\n 'objectivesStolen': 0,\n 'objectivesStolenAssists': 0,\n 'participantId': 1,\n 'pentaKills': 0,\n 'perks': {'statPerks': {'defense': 5001, 'flex': 5002, 'offense': 5005},\n  'styles': [{'description': 'primaryStyle',\n    'selections': [{'perk': 8437, 'var1': 1759, 'var2': 1368, 'var3': 0},\n     {'perk': 8446, 'var1': 1197, 'var2': 0, 'var3': 0},\n     {'perk': 8444, 'var1': 2414, 'var2': 0, 'var3': 0},\n     {'perk': 8451, 'var1': 254, 'var2': 0, 'var3': 0}],\n    'style': 8400},\n   {'description': 'subStyle',\n    'selections': [{'perk': 8304, 'var1': 10, 'var2': 3, 'var3': 0},\n     {'perk': 8410, 'var1': 90, 'var2': 0, 'var3': 0}],\n    'style': 8300}]},\n 'physicalDamageDealt': 73667,\n 'physicalDamageDealtToChampions': 6159,\n 'physicalDamageTaken': 29405,\n 'profileIcon': 4580,\n 'puuid': '-L314LjYwt1J1K_suPbBHEwpQCXJlmxnEl8cszKarzYgm1yCUpUQVSASvLjMvAjHMJa1I-NT1zuCdQ',\n 'quadraKills': 0,\n 'riotIdName': '',\n 'riotIdTagline': '',\n 'role': 'DUO',\n 'sightWardsBoughtInGame': 0,\n 'spell1Casts': 183,\n 'spell2Casts': 56,\n 'spell3Casts': 91,\n 'spell4Casts': 14,\n 'summoner1Casts': 7,\n 'summoner1Id': 6,\n 'summoner2Casts': 3,\n 'summoner2Id': 12,\n 'summonerId': 'ms72rpAwTBN2mkIprHs19dryFzhA0UciiDgjqzYxze2Odeo',\n 'summonerLevel': 380,\n 'summonerName': 'Hi im Marcos',\n 'teamEarlySurrendered': False,\n 'teamId': 100,\n 'teamPosition': 'TOP',\n 'timeCCingOthers': 23,\n 'timePlayed': 2091,\n 'totalDamageDealt': 169616,\n 'totalDamageDealtToChampions': 22616,\n 'totalDamageShieldedOnTeammates': 0,\n 'totalDamageTaken': 60093,\n 'totalHeal': 11996,\n 'totalHealsOnTeammates': 0,\n 'totalMinionsKilled': 214,\n 'totalTimeCCDealt': 1056,\n 'totalTimeSpentDead': 370,\n 'totalUnitsHealed': 1,\n 'tripleKills': 0,\n 'trueDamageDealt': 19369,\n 'trueDamageDealtToChampions': 339,\n 'trueDamageTaken': 4947,\n 'turretKills': 0,\n 'turretTakedowns': 1,\n 'turretsLost': 9,\n 'unrealKills': 0,\n 'visionScore': 12,\n 'visionWardsBoughtInGame': 0,\n 'wardsKilled': 0,\n 'wardsPlaced': 9,\n 'win': False,\n 'matchId': 'NA1_4112918754',\n 'req_server': 'NA1',\n 'match_summary_id': ObjectId('619cde1976e6c35572ba3bd5'),\n 'match_read_dt': datetime.datetime(2021, 11, 23, 12, 27, 5, 977000)}"
     },
     "execution_count": 77,
     "metadata": {},
     "output_type": "execute_result"
    }
   ],
   "source": [
    "def get_match_summary_array(player_name, match_id):\n",
    "    filename = f\"match_participant_summaries_{match_id}\"\n",
    "    return read_prepared_file(player_name, filename)\n",
    "\n",
    "match_summary = get_match_summary_array(\"noway4u_sir\", \"NA1_4112918754\")\n",
    "\n",
    "match_summary[0]"
   ],
   "metadata": {
    "collapsed": false,
    "pycharm": {
     "name": "#%%\n"
    }
   }
  },
  {
   "cell_type": "code",
   "execution_count": 78,
   "outputs": [
    {
     "data": {
      "text/plain": "['Hi im Marcos',\n 'S E D Z A M A',\n 'coinflipper420',\n 'German Aimbot',\n 'www JZVapes com',\n 'FENG ZHUA',\n 'Most Deaths',\n 'pucciness',\n 'MinGuo',\n 'Gloomy Shenteemo']"
     },
     "execution_count": 78,
     "metadata": {},
     "output_type": "execute_result"
    }
   ],
   "source": [
    "[match['summonerName'] for match in match_summary]"
   ],
   "metadata": {
    "collapsed": false,
    "pycharm": {
     "name": "#%%\n"
    }
   }
  },
  {
   "cell_type": "code",
   "execution_count": null,
   "id": "c82cf0ab",
   "metadata": {
    "pycharm": {
     "name": "#%%\n"
    }
   },
   "outputs": [],
   "source": []
  },
  {
   "cell_type": "code",
   "id": "a59afeca",
   "metadata": {
    "pycharm": {
     "name": "#%%\n"
    }
   },
   "source": [
    "## Chat of a single match\n",
    "read_df[read_df['matchId'] == 'NA1_4112918754']['timecategory'].value_counts()"
   ],
   "execution_count": 85,
   "outputs": [
    {
     "data": {
      "text/plain": "1609"
     },
     "execution_count": 85,
     "metadata": {},
     "output_type": "execute_result"
    }
   ]
  },
  {
   "cell_type": "code",
   "execution_count": null,
   "id": "6499f850",
   "metadata": {
    "pycharm": {
     "name": "#%%\n"
    }
   },
   "outputs": [],
   "source": []
  },
  {
   "cell_type": "code",
   "execution_count": null,
   "id": "6cad2c22",
   "metadata": {
    "pycharm": {
     "name": "#%%\n"
    }
   },
   "outputs": [],
   "source": []
  },
  {
   "cell_type": "code",
   "id": "099c0182",
   "metadata": {
    "pycharm": {
     "name": "#%%\n"
    }
   },
   "source": [],
   "execution_count": null,
   "outputs": []
  },
  {
   "cell_type": "code",
   "execution_count": null,
   "id": "5a1266d9",
   "metadata": {
    "pycharm": {
     "name": "#%%\n"
    }
   },
   "outputs": [],
   "source": []
  },
  {
   "cell_type": "markdown",
   "id": "99ca4fa9",
   "metadata": {},
   "source": [
    "### Transform to word list without direct repetitions\n"
   ]
  },
  {
   "cell_type": "code",
   "execution_count": null,
   "id": "db655efe",
   "metadata": {
    "pycharm": {
     "name": "#%%\n"
    }
   },
   "outputs": [],
   "source": [
    "from shared.common.util.textreducer import chatmessage_pipeline"
   ]
  },
  {
   "cell_type": "code",
   "execution_count": null,
   "id": "aa48eae1",
   "metadata": {
    "pycharm": {
     "name": "#%%\n"
    }
   },
   "outputs": [],
   "source": [
    "df_session_chat_messages['deduplicated'] = df_session_chat_messages['text'].apply(chatmessage_pipeline)\n",
    "df_session_chat_messages"
   ]
  },
  {
   "cell_type": "markdown",
   "id": "6d87bf65",
   "metadata": {},
   "source": [
    "### Create word clouds with text by match type (pentakill (=epic), bad, good)"
   ]
  },
  {
   "cell_type": "code",
   "execution_count": null,
   "id": "a5d94b74",
   "metadata": {
    "pycharm": {
     "name": "#%%\n"
    }
   },
   "outputs": [],
   "source": [
    "words_pentakill_match = df_session_chat_messages[no_chatbot_comm_msg_mask & (df_session_chat_messages['matchId'] == match_id_pentakill)]['deduplicated'].str.cat(sep=' ')\n",
    "words_lost_min_kills_match = df_session_chat_messages[no_chatbot_comm_msg_mask & (df_session_chat_messages['matchId'] == match_id_lost_min_kills)]['deduplicated'].str.cat(sep=' ')\n",
    "words_win_max_killsprees_match = df_session_chat_messages[no_chatbot_comm_msg_mask & (df_session_chat_messages['matchId'] == match_id_win_max_killsprees)]['deduplicated'].str.cat(sep=' ')"
   ]
  },
  {
   "cell_type": "code",
   "execution_count": null,
   "id": "9eb727df",
   "metadata": {
    "pycharm": {
     "name": "#%%\n"
    }
   },
   "outputs": [],
   "source": [
    "wordcloud_pentakill = WordCloud(width= 3000, height = 2000, random_state=1, colormap='Pastel1', collocations=False, stopwords = STOPWORDS).generate(words_pentakill_match)\n",
    "wordcloud_lost_min_kills = WordCloud(width= 3000, height = 2000, random_state=1, colormap='Pastel1', collocations=False, stopwords = STOPWORDS).generate(words_lost_min_kills_match)\n",
    "wordcloud_win_max_killsprees = WordCloud(width= 3000, height = 2000, random_state=1, colormap='Pastel1', collocations=False, stopwords = STOPWORDS).generate(words_win_max_killsprees_match)"
   ]
  },
  {
   "cell_type": "code",
   "execution_count": null,
   "id": "ed7ff916",
   "metadata": {
    "pycharm": {
     "name": "#%%\n"
    }
   },
   "outputs": [],
   "source": [
    "with sns.plotting_context('talk'):\n",
    "    fig, ax = plt.subplots(figsize=(8, 16), nrows=3, ncols=1)\n",
    "    plt.tight_layout()\n",
    "    ax[0].set_title('Wordcloud Pentakill')\n",
    "    ax[0].imshow(wordcloud_pentakill)\n",
    "    ax[0].axis('off')\n",
    "\n",
    "    ax[1].set_title('Wordcloud Lost-Min-Kills')\n",
    "    ax[1].imshow(wordcloud_lost_min_kills)\n",
    "    ax[1].axis('off')\n",
    "\n",
    "    ax[2].set_title('Wordcloud Win-Max-Killsprees')\n",
    "    ax[2].imshow(wordcloud_win_max_killsprees)\n",
    "    ax[2].axis('off')\n",
    "    plt.show()"
   ]
  },
  {
   "cell_type": "markdown",
   "id": "ed8b59ab",
   "metadata": {},
   "source": [
    "Nicht rein Englisch, sondern eher Twitchish. Es gibt noise, der auf den Channel hinweist (loltyler1, tyler, ...) und einige schimpfwörter. Daher müssen chatbot Nachrichten und commands der viewer ausgenommen werden."
   ]
  },
  {
   "cell_type": "markdown",
   "id": "5217b231",
   "metadata": {},
   "source": [
    "### Number of messages by chat user during matches from gaming session"
   ]
  },
  {
   "cell_type": "code",
   "execution_count": null,
   "id": "608667d0",
   "metadata": {
    "pycharm": {
     "name": "#%%\n"
    }
   },
   "outputs": [],
   "source": [
    "with sns.plotting_context('talk'):\n",
    "    f, ax = plt.subplots(1, 2, figsize = (20, 30))\n",
    "    f.tight_layout(pad=10.0)\n",
    "    messasges_by_user = df_session_chat_messages[(df_session_chat_messages['timecategory'] == 'DURING_MATCH')].groupby(['author_name'])\n",
    "        .size()\n",
    "        .reset_index(name='count')\n",
    "        .sort_values('count', ascending=False)\n",
    "\n",
    "    quantiles = messasges_by_user['count'].quantile([0.25,0.5,0.75,0.99])\n",
    "    num_messages_min = quantiles.index[-1]\n",
    "\n",
    "\n",
    "    sns.barplot(ax=ax[0], y='author_name', x='count', data=messasges_by_user[messasges_by_user['count'] > quantiles.values[-1]])\n",
    "    ax[0].set_xlabel('Anzahl der Nachrichten')\n",
    "    ax[0].set_ylabel('')\n",
    "    ax[0].set_title(f'Chat messages by all Top {round((1 - num_messages_min) * 100)} % users')\n",
    "\n",
    "    messasges_by_user = df_session_chat_messages[no_chatbot_comm_msg_mask & (df_session_chat_messages['timecategory'] == 'DURING_MATCH')].groupby(['author_name'])\n",
    "        .size()\n",
    "        .reset_index(name='count')\n",
    "        .sort_values('count', ascending=False)\n",
    "\n",
    "    quantiles = messasges_by_user['count'].quantile([0.25,0.5,0.75,0.95, 0.99])\n",
    "\n",
    "    num_messages_min = quantiles.index[-1]\n",
    "\n",
    "    sns.barplot(ax=ax[1], y='author_name', x='count', data=messasges_by_user[messasges_by_user['count'] > quantiles.values[-1]])\n",
    "    ax[1].set_xlabel('Anzahl der Nachrichten')\n",
    "    ax[1].set_ylabel('')\n",
    "    ax[1].set_title(f'Chat messages by Top {round((1 - num_messages_min) * 100)} % users without bot messages')\n"
   ]
  },
  {
   "cell_type": "markdown",
   "id": "c9c7b463",
   "metadata": {},
   "source": [
    "Die Chatbot Nachrichten (vor allem commands) beeinflussen die Counts schon, die Reihenfolgen der Top-Chatter kommen etwas durcheinander."
   ]
  },
  {
   "cell_type": "markdown",
   "id": "04ecebc1",
   "metadata": {},
   "source": [
    "<a id='loadtimelines'></a>\n",
    "## Step 3: Load Match Timelines from the previously selected Matches | ([Jump to Contents](#content))"
   ]
  },
  {
   "cell_type": "code",
   "execution_count": null,
   "id": "1d62184e",
   "metadata": {
    "pycharm": {
     "name": "#%%\n"
    }
   },
   "outputs": [],
   "source": [
    "if notebook_mode == 'DEV':\n",
    "    from riotwatcher import LolWatcher\n",
    "    riot_api = LolWatcher('I nearly shared it ;)') # Personal key\n",
    "\n",
    "    match_timeline_pentakill = riot_api.match.timeline_by_match(region='AMERICAS', match_id=match_id_pentakill)\n",
    "    write_prepared_file(match_timeline_pentakill, 'match_timeline_pentakill')\n",
    "\n",
    "    match_timeline_lost_min_kills = riot_api.match.timeline_by_match(region='AMERICAS', match_id=match_id_lost_min_kills)\n",
    "    write_prepared_file(match_timeline_lost_min_kills, 'match_timeline_lost_min_kills')\n",
    "\n",
    "    match_timeline_win_max_killsprees = riot_api.match.timeline_by_match(region='AMERICAS', match_id=match_id_win_max_killsprees)\n",
    "    write_prepared_file(match_timeline_win_max_killsprees, 'match_timeline_win_max_killsprees')\n",
    "else:\n",
    "    match_timeline_pentakill = read_prepared_file('match_timeline_pentakill')\n",
    "    match_timeline_lost_min_kills = read_prepared_file('match_timeline_lost_min_kills')\n",
    "    match_timeline_win_max_killsprees = read_prepared_file('match_timeline_win_max_killsprees')\n",
    "\n",
    "\n",
    "match_timeline_pentakill['matchId'] = match_id_pentakill\n",
    "match_timeline_lost_min_kills['matchId'] = match_id_lost_min_kills\n",
    "match_timeline_win_max_killsprees['matchId'] = match_id_win_max_killsprees\n"
   ]
  },
  {
   "cell_type": "markdown",
   "id": "173f5de2",
   "metadata": {},
   "source": [
    "### Create Summoner-Of-Match-Map"
   ]
  },
  {
   "cell_type": "code",
   "execution_count": null,
   "id": "4c9b6e0d",
   "metadata": {
    "pycharm": {
     "name": "#%%\n"
    }
   },
   "outputs": [],
   "source": [
    "def create_match_summoner_dict(match_timeline):\n",
    "    match_summoner_puuids = [p['puuid'] for p in match_timeline['info']['participants']]\n",
    "    matchId = match_timeline['matchId']\n",
    "\n",
    "    fname = f'summoners_of_match_{matchId}'\n",
    "    if notebook_mode == 'DEV':\n",
    "        summoners_of_match = list(db['lol_match_participant_summary'].find({\n",
    "            '$and': [\n",
    "                {\"puuid\": {'$in': match_summoner_puuids}},\n",
    "                {\"matchId\": matchId}\n",
    "            ]}, {'puuid': 1, 'summonerName': 1}))\n",
    "        write_prepared_file(summoners_of_match, fname)\n",
    "    else:\n",
    "        summoners_of_match = read_prepared_file(fname)\n",
    "\n",
    "    participant_map = {'0': {'puuid': '-', 'name': 'Minions'}}\n",
    "    for p in match_timeline['info']['participants']:\n",
    "\n",
    "        participant_map[str(p['participantId'])] = {\n",
    "            'puuid': p['puuid'],\n",
    "            'name': [summ['summonerName'] for summ in summoners_of_match if summ['puuid'] == p['puuid']][0]\n",
    "        }\n",
    "    return participant_map"
   ]
  },
  {
   "cell_type": "code",
   "execution_count": null,
   "id": "d6bff1aa",
   "metadata": {
    "pycharm": {
     "name": "#%%\n"
    }
   },
   "outputs": [],
   "source": [
    "# Test Participant-Map\n",
    "create_match_summoner_dict(match_timeline_pentakill)"
   ]
  },
  {
   "cell_type": "code",
   "execution_count": null,
   "id": "f6cb8387",
   "metadata": {
    "pycharm": {
     "name": "#%%\n"
    }
   },
   "outputs": [],
   "source": [
    "import shared.common.util.datetimeutil as datetimeutil\n",
    "\n",
    "def calc_datetime(start_dt, delta_event):\n",
    "    return start_dt + timedelta(milliseconds = delta_event)\n",
    "\n",
    "def get_key_event_player(event_type):\n",
    "    if event_type in [\"ITEM_PURCHASED\", \"ITEM_DESTROYED\", \"ITEM_UNDO\", \"ITEM_SOLD\", \"SKILL_LEVEL_UP\", \"LEVEL_UP\", \"CHAMPION_TRANSFORM\"]:\n",
    "        return \"participantId\"\n",
    "    elif event_type in [\"CHAMPION_KILL\", \"CHAMPION_SPECIAL_KILL\", \"WARD_KILL\", \"ELITE_MONSTER_KILL\", \"BUILDING_KILL\", \"TURRET_PLATE_DESTROYED\"]:\n",
    "        return \"killerId\"\n",
    "    elif event_type in [\"WARD_PLACED\"]:\n",
    "        return \"creatorId\"\n",
    "    elif event_type in [\"PAUSE_END\", \"GAME_END\"]:\n",
    "        return None\n",
    "    else:\n",
    "        print(f\"could not find player key for event: {event_type}\")\n",
    "        return None\n",
    "\n",
    "def get_key_event_opponent(event_type):\n",
    "    if event_type in [\"CHAMPION_KILL\"]:\n",
    "        return \"victimId\"\n",
    "    elif event_type in [\"WARD_PLACED\", \"BUILDING_KILL\", \"CHAMPION_SPECIAL_KILL\", \"CHAMPION_TRANSFORM\", \"TURRET_PLATE_DESTROYED\", \"ELITE_MONSTER_KILL\", \"WARD_KILL\", \"ITEM_DESTROYED\", \"ITEM_UNDO\",  \"ITEM_PURCHASED\", \"ITEM_SOLD\", \"GAME_END\", \"PAUSE_END\", \"SKILL_LEVEL_UP\", \"LEVEL_UP\"]:\n",
    "        return None\n",
    "    else:\n",
    "        print(f\"could not find opponent key for event: {event_type}\")\n",
    "        return None\n",
    "\n",
    "def is_event_for_every_player(event_type):\n",
    "    return event_type in [\"PAUSE_END\", \"GAME_END\"]\n",
    "\n",
    "def get_player_name(participant_map, player_num):\n",
    "    return participant_map[str(player_num)]['name']"
   ]
  },
  {
   "cell_type": "code",
   "execution_count": null,
   "id": "b76dd29c",
   "metadata": {
    "pycharm": {
     "name": "#%%\n"
    }
   },
   "outputs": [],
   "source": [
    "def create_match_timeline_df(match_timeline):\n",
    "    datetimes = []\n",
    "    event_types = []\n",
    "    event_players = []\n",
    "    event_opponents = []\n",
    "    event_assistings = []\n",
    "\n",
    "    participant_summary = create_match_summoner_dict(match_timeline)\n",
    "\n",
    "    match_timeline_start = None\n",
    "    match_timeline_end = None\n",
    "    for frame in match_timeline['info']['frames']:\n",
    "        for event in frame['events']:\n",
    "            dt = None\n",
    "            event_delta = event['timestamp']\n",
    "            event_type = event['type']\n",
    "            event_assisting = None\n",
    "            event_player = None\n",
    "            player_key = get_key_event_player(event_type)\n",
    "            if player_key is not None:\n",
    "                event_player = get_player_name(participant_summary, event[player_key])\n",
    "\n",
    "            event_opponent=None\n",
    "            opponent_key = get_key_event_opponent(event_type)\n",
    "            if opponent_key is not None:\n",
    "                event_opponent = get_player_name(participant_summary, event[opponent_key])\n",
    "\n",
    "            if 'realTimestamp' in event:\n",
    "                if match_timeline_start is None:\n",
    "                    match_timeline_start = datetimeutil.utc_datetime_from_ts_millis(event['realTimestamp'])\n",
    "                    dt = match_timeline_start\n",
    "                else:\n",
    "                    match_timeline_end = datetimeutil.utc_datetime_from_ts_millis(event['realTimestamp'])\n",
    "                    dt = match_timeline_end\n",
    "            else:\n",
    "                dt = calc_datetime(match_timeline_start, event_delta)\n",
    "\n",
    "            if 'assistingParticipantIds' in event:\n",
    "                event_assisting = []\n",
    "                for id in event['assistingParticipantIds']:\n",
    "                    ass = get_player_name(participant_summary, id)\n",
    "                    event_assisting.append(ass)\n",
    "\n",
    "            if is_event_for_every_player(event_type):\n",
    "                for i in range(1, 11):\n",
    "                    datetimes.append(dt)\n",
    "                    event_types.append(event_type)\n",
    "                    event_players.append(get_player_name(participant_summary, i))\n",
    "                    event_opponents.append(event_opponent)\n",
    "                    event_assistings.append(event_assisting)\n",
    "            else:\n",
    "                datetimes.append(dt)\n",
    "                event_types.append(event_type)\n",
    "                event_players.append(event_player)\n",
    "                event_opponents.append(event_opponent)\n",
    "                event_assistings.append(event_assisting)\n",
    "\n",
    "    match_timeline_df = pd.DataFrame({\n",
    "        'datetime': datetimes,\n",
    "        'event_types': event_types,\n",
    "        'event_summoner': event_players,\n",
    "        'event_opponents': event_opponents,\n",
    "        'event_assistings': event_assistings\n",
    "    })\n",
    "    match_timeline_df = match_timeline_df.set_index('datetime')\n",
    "    match_timeline_df['rounded'] = match_timeline_df.index.round('S')\n",
    "    match_timeline_df.sort_index(inplace=True)\n",
    "    return match_timeline_df"
   ]
  },
  {
   "cell_type": "code",
   "execution_count": null,
   "id": "474e3fa8",
   "metadata": {
    "pycharm": {
     "name": "#%%\n"
    }
   },
   "outputs": [],
   "source": [
    "df_timeline_pentakill = create_match_timeline_df(match_timeline_pentakill)"
   ]
  },
  {
   "cell_type": "code",
   "execution_count": null,
   "id": "5bf55307",
   "metadata": {
    "pycharm": {
     "name": "#%%\n"
    }
   },
   "outputs": [],
   "source": [
    "# Test fct\n",
    "df_timeline_pentakill.loc[~df_timeline_pentakill['event_assistings'].isnull()].head()"
   ]
  },
  {
   "cell_type": "code",
   "execution_count": null,
   "id": "fdf9f4ac",
   "metadata": {
    "pycharm": {
     "name": "#%%\n"
    }
   },
   "outputs": [],
   "source": [
    "# Test fct\n",
    "df_timeline_pentakill.loc[df_timeline_pentakill['event_summoner'] == 'Minions'].head()"
   ]
  },
  {
   "cell_type": "code",
   "execution_count": null,
   "id": "01b15a3f",
   "metadata": {
    "pycharm": {
     "name": "#%%\n"
    }
   },
   "outputs": [],
   "source": [
    "df_timeline_pentakill.info()"
   ]
  },
  {
   "cell_type": "code",
   "execution_count": null,
   "id": "664179ef",
   "metadata": {
    "pycharm": {
     "name": "#%%\n"
    }
   },
   "outputs": [],
   "source": [
    "df_timeline_lost_min_kills = create_match_timeline_df(match_timeline_lost_min_kills)\n",
    "df_timeline_win_max_killsprees = create_match_timeline_df(match_timeline_win_max_killsprees)"
   ]
  },
  {
   "cell_type": "markdown",
   "id": "770de89f",
   "metadata": {},
   "source": [
    "### Number of Events by player for all three matches"
   ]
  },
  {
   "cell_type": "code",
   "execution_count": null,
   "id": "fba8a8dc",
   "metadata": {
    "pycharm": {
     "name": "#%%\n"
    }
   },
   "outputs": [],
   "source": [
    "# Prepare orders by player and by event_type\n",
    "def get_events_by_player_desc_df(df_timeline, match_id):\n",
    "    df_match_participants = get_match_participant_df(match_id)\n",
    "\n",
    "    events_by_player_desc = df_timeline.groupby(['event_summoner'])\n",
    "        .size()\n",
    "        .reset_index(name='count')\n",
    "        .sort_values('count', ascending=False)\n",
    "\n",
    "    events_by_player_desc = events_by_player_desc.merge(df_match_participants[['summonerName', 'win']], how='inner', left_on = 'event_summoner', right_on = 'summonerName')\n",
    "    events_by_player_desc.drop(columns=['summonerName'], inplace=True)\n",
    "    return events_by_player_desc"
   ]
  },
  {
   "cell_type": "code",
   "execution_count": null,
   "id": "d83ee816",
   "metadata": {
    "pycharm": {
     "name": "#%%\n"
    }
   },
   "outputs": [],
   "source": [
    "df_events_by_player_pentakill = get_events_by_player_desc_df(df_timeline_pentakill, match_id_pentakill)\n",
    "df_events_by_player_lost_min_kills = get_events_by_player_desc_df(df_timeline_lost_min_kills, match_id_lost_min_kills)\n",
    "df_events_by_player_win_max_killsprees = get_events_by_player_desc_df(df_timeline_win_max_killsprees, match_id_win_max_killsprees)"
   ]
  },
  {
   "cell_type": "code",
   "execution_count": null,
   "id": "c9797e5f",
   "metadata": {
    "pycharm": {
     "name": "#%%\n"
    }
   },
   "outputs": [],
   "source": [
    "def plot_event_per_team(df_events_by_player, matchname):\n",
    "    with sns.plotting_context('talk'):\n",
    "        f, ax = plt.subplots(1, 2, figsize = (15, 5), gridspec_kw={'width_ratios': [2, 1]})\n",
    "        sns.barplot(ax=ax[0], y='event_summoner', x='count', data=df_events_by_player.sort_values('win'), hue='win', hue_order=[False,True])\n",
    "        ax[0].set_ylabel('')\n",
    "        ax[0].set_xlabel('Anzahl der Events')\n",
    "\n",
    "        df_events_by_player.groupby(['win'])\n",
    "            .sum('count')\n",
    "            .plot.pie(ax=ax[1], y='count', x='win', autopct=\"%.1f%%\", legend=False)\n",
    "        ax[1].set_ylabel('')\n",
    "\n",
    "        f.suptitle(f\"Events pro Team: Match {matchname}\")\n",
    "        plt.show()\n"
   ]
  },
  {
   "cell_type": "code",
   "execution_count": null,
   "id": "4178f0f2",
   "metadata": {
    "pycharm": {
     "name": "#%%\n"
    }
   },
   "outputs": [],
   "source": [
    "plot_event_per_team(df_events_by_player_pentakill, \"Pentakill\")"
   ]
  },
  {
   "cell_type": "code",
   "execution_count": null,
   "id": "648108f1",
   "metadata": {
    "pycharm": {
     "name": "#%%\n"
    }
   },
   "outputs": [],
   "source": [
    "plot_event_per_team(df_events_by_player_lost_min_kills, \"Lost Min Kills\")"
   ]
  },
  {
   "cell_type": "code",
   "execution_count": null,
   "id": "e3d54c57",
   "metadata": {
    "pycharm": {
     "name": "#%%\n"
    }
   },
   "outputs": [],
   "source": [
    "plot_event_per_team(df_events_by_player_win_max_killsprees, \"Win max Killing Sprees\")"
   ]
  },
  {
   "cell_type": "code",
   "execution_count": null,
   "id": "872fa5e6",
   "metadata": {
    "pycharm": {
     "name": "#%%\n"
    }
   },
   "outputs": [],
   "source": [
    "def plot_event_count_per_player(df_events_by_player, matchname):\n",
    "    with sns.plotting_context('talk'):\n",
    "        f, ax = plt.subplots(figsize = (15, 5))\n",
    "\n",
    "        sns.barplot(ax=ax, y='event_summoner', x='count', data=df_events_by_player)\n",
    "        ax.set_title(f\"Events pro Team: Match {matchname}\")\n",
    "        ax.set_ylabel('')\n",
    "        ax.set_xlabel('Anzahl der Events')\n",
    "        plt.show()"
   ]
  },
  {
   "cell_type": "code",
   "execution_count": null,
   "id": "29cf90dd",
   "metadata": {
    "pycharm": {
     "name": "#%%\n"
    }
   },
   "outputs": [],
   "source": [
    "plot_event_count_per_player(df_events_by_player_pentakill, \"Pentakill\")"
   ]
  },
  {
   "cell_type": "code",
   "execution_count": null,
   "id": "6fdecf60",
   "metadata": {
    "pycharm": {
     "name": "#%%\n"
    }
   },
   "outputs": [],
   "source": [
    "plot_event_count_per_player(df_events_by_player_lost_min_kills, \"Lost Min Kills\")"
   ]
  },
  {
   "cell_type": "code",
   "execution_count": null,
   "id": "c0e2e543",
   "metadata": {
    "pycharm": {
     "name": "#%%\n"
    }
   },
   "outputs": [],
   "source": [
    "plot_event_count_per_player(df_events_by_player_win_max_killsprees, \"Win max Killing Sprees\")\n"
   ]
  },
  {
   "cell_type": "markdown",
   "id": "f4301a8f",
   "metadata": {},
   "source": [
    "### Number of Events by event type for all three matches"
   ]
  },
  {
   "cell_type": "code",
   "execution_count": null,
   "id": "8cd0e50d",
   "metadata": {
    "pycharm": {
     "name": "#%%\n"
    }
   },
   "outputs": [],
   "source": [
    "def plot_events_by_type(df_timeline, matchname):\n",
    "    order_of_events_by_event_type_desc = df_timeline.groupby(['event_types'])\n",
    "        .size()\n",
    "        .reset_index(name='count')\n",
    "        .sort_values('count', ascending=False)['event_types'].values\n",
    "\n",
    "    with sns.plotting_context('talk'):\n",
    "        f, ax = plt.subplots(figsize = (16,10))\n",
    "        sns.countplot(y=\"event_types\", hue=\"event_summoner\", order=order_of_events_by_event_type_desc, data=df_timeline, ax=ax)\n",
    "        ax.set_title(f'Anteil der User pro Event: Match {matchname}')\n",
    "        ax.set_ylabel('')\n",
    "        ax.set_xlabel('Anzahl der Events')\n",
    "        plt.show()"
   ]
  },
  {
   "cell_type": "code",
   "execution_count": null,
   "id": "619c0672",
   "metadata": {
    "pycharm": {
     "name": "#%%\n"
    }
   },
   "outputs": [],
   "source": [
    "plot_events_by_type(df_timeline_pentakill, \"Pentakill\")"
   ]
  },
  {
   "cell_type": "code",
   "execution_count": null,
   "id": "d7dafa28",
   "metadata": {
    "pycharm": {
     "name": "#%%\n"
    }
   },
   "outputs": [],
   "source": [
    "plot_events_by_type(df_timeline_lost_min_kills, \"Lost Min Kills\")"
   ]
  },
  {
   "cell_type": "code",
   "execution_count": null,
   "id": "c2193a66",
   "metadata": {
    "pycharm": {
     "name": "#%%\n"
    }
   },
   "outputs": [],
   "source": [
    "plot_events_by_type(df_timeline_win_max_killsprees, \"Win Max Killsprees\")"
   ]
  },
  {
   "cell_type": "markdown",
   "id": "d960dd3e",
   "metadata": {},
   "source": [
    "Not every match has every event-type. For example the CHAMPION_TRANSFORM event only occured in the min-Match.  \n",
    "The events of ITEM_PURCHASED and ITEM_DESTROYED as well as the LEVEL_UP events and the WARD_PLACED events occur very often.\n"
   ]
  },
  {
   "cell_type": "markdown",
   "id": "498969b2",
   "metadata": {},
   "source": [
    "<a id='visualizeboth'></a>\n",
    "## Step 4: Visualize game timeline data with chatmessage histogram | ([Jump to Contents](#content))\n",
    "\n",
    "We will combine the differnt data from the two different data sources and create a combined plot."
   ]
  },
  {
   "cell_type": "markdown",
   "id": "c0250ad6",
   "metadata": {},
   "source": [
    "### Prepare Chatmessages for our 3 matches\n"
   ]
  },
  {
   "cell_type": "code",
   "execution_count": null,
   "id": "33a2eea0",
   "metadata": {
    "pycharm": {
     "name": "#%%\n"
    }
   },
   "outputs": [],
   "source": [
    "def print_match_stats(messages_per_sec, df_timeline, matchname, df_events_by_player):\n",
    "    print(f\"+++ !!! +++ Stats of match {matchname} +++ !!! +++\")\n",
    "    print(f\"Events in the match: {len(df_timeline)}\")\n",
    "    print(f\"Number of messages total: {messages_per_sec['count_messages'].sum()}\")\n",
    "    print(\"---\")\n",
    "    print(\"Number of messages by timecategory:\")\n",
    "    print(messages_per_sec.groupby(['timecategory'])['count_messages'].sum())\n",
    "    print(\"---\")\n",
    "    print(\"Events by summoner:\")\n",
    "    print(df_events_by_player)"
   ]
  },
  {
   "cell_type": "code",
   "execution_count": null,
   "id": "b2061b00",
   "metadata": {
    "pycharm": {
     "name": "#%%\n"
    }
   },
   "outputs": [],
   "source": [
    "def create_messages_per_sec_df(df_session_chat_messages, matchId):\n",
    "    messages_per_sec = df_session_chat_messages.loc[(no_chatbot_comm_msg_mask) & (df_session_chat_messages['matchId'] == matchId)].resample(\"1S\").size()\n",
    "    timecategories_df = df_session_chat_messages['timecategory'].loc[~df_session_chat_messages.index.duplicated(keep = 'first')]\n",
    "    messages_per_sec = messages_per_sec.to_frame().join(timecategories_df)\n",
    "    messages_per_sec.columns = ['count_messages', 'timecategory']\n",
    "    messages_per_sec['timecategory'] = messages_per_sec['timecategory'].fillna(method=\"ffill\")\n",
    "    return messages_per_sec"
   ]
  },
  {
   "cell_type": "code",
   "execution_count": null,
   "id": "578f602e",
   "metadata": {
    "pycharm": {
     "name": "#%%\n"
    }
   },
   "outputs": [],
   "source": [
    "messages_per_sec_pentakill = create_messages_per_sec_df(df_session_chat_messages, match_id_pentakill)\n",
    "messages_per_sec_lost_min_kills = create_messages_per_sec_df(df_session_chat_messages, match_id_lost_min_kills)\n",
    "messages_per_sec_win_max_killsprees = create_messages_per_sec_df(df_session_chat_messages, match_id_win_max_killsprees)"
   ]
  },
  {
   "cell_type": "markdown",
   "id": "7e40c622",
   "metadata": {},
   "source": [
    "### Plot match-events and chat histogram\n",
    "\n"
   ]
  },
  {
   "cell_type": "markdown",
   "id": "c383af46",
   "metadata": {},
   "source": [
    "The following Plots consist of two subplots:\n",
    "    \n",
    "- The upper plot shows the events of the match with the type of event on the y-axis and the time when it occured on the x-axis.\n",
    "\n",
    "- The lower plot shows the histogram of the chat messages - the number of chat messages per second. The light blue parts of the histogram show messages before or after the match and the dark blue part of the histogram shows the count of messages during the match."
   ]
  },
  {
   "cell_type": "code",
   "execution_count": null,
   "id": "7753d577",
   "metadata": {
    "pycharm": {
     "name": "#%%\n"
    }
   },
   "outputs": [],
   "source": [
    "def plot_game_event_text_hist(messages_per_sec, df_timeline, summoner_name, matchname, only_kill = False):\n",
    "    # prepare active and passive player events\n",
    "    active_player = df_timeline.loc[df_timeline['event_summoner'] == summoner_name][['event_types', 'rounded']]\n",
    "    passive_player = df_timeline.loc[df_timeline['event_opponents'] == summoner_name][['rounded']]\n",
    "    passive_player['event_types'] = df_timeline.loc[df_timeline['event_opponents'] == summoner_name]['event_types'] + '_PASSIVE'\n",
    "\n",
    "    timeline_player = active_player.append(passive_player)\n",
    "    timeline_player.set_index('rounded', inplace=True)\n",
    "    timeline_player = timeline_player.sort_values('rounded')\n",
    "\n",
    "    if (only_kill):\n",
    "        timeline_player_filtered = timeline_player[timeline_player[\"event_types\"].str.contains('_KILL') == True]\n",
    "        plot_title = f'KILL- and Start/End-Events and Chat-Histogram for summoner {summoner_name}: Match {matchname}'\n",
    "    else:\n",
    "        timeline_player_filtered = timeline_player\n",
    "        plot_title = f'Events and Chat-Histogram for summoner {summoner_name}: Match {matchname}'\n",
    "\n",
    "    f, ax = plt.subplots(2, 1, figsize = (20,7), gridspec_kw={'height_ratios': [5, 1]}, sharex=True)\n",
    "\n",
    "    # events unique of event timeline\n",
    "    events_unique = timeline_player_filtered['event_types'].unique()\n",
    "    events_unique = np.sort(events_unique)[::-1] # reverse\n",
    "\n",
    "    # plot histogram at bottom\n",
    "    baraxes = messages_per_sec.plot.bar(ax = ax[1], xticks=[], log=True, legend=False)\n",
    "\n",
    "    v_counts = messages_per_sec['timecategory'].value_counts()\n",
    "    colors = np.repeat(['#0DA9FF', '#0000FF', '#0DA9FF'], [v_counts['BEFORE_MATCH'], v_counts['DURING_MATCH'], v_counts['AFTER_MATCH']])\n",
    "    for i, color in enumerate(colors):\n",
    "        baraxes.containers[0].patches[i].set_color(color)\n",
    "\n",
    "    # set X axis labels\n",
    "    x_ticks = [messages_per_sec.index.get_loc(player_idx) for player_idx in timeline_player_filtered.index]\n",
    "    x_tick_labels = [str(messages_per_sec.index[idx].time()) for idx in x_ticks]\n",
    "\n",
    "    ax[1].set_xticks(x_ticks)\n",
    "    ax[1].set_xticklabels(labels=x_tick_labels, rotation=90)\n",
    "\n",
    "    # plot events at top\n",
    "    num_events = len(events_unique)\n",
    "    offsets = list(range(10, num_events * 10 + 1, 10))\n",
    "    colors = sns.color_palette(\"bright\", num_events).as_hex()\n",
    "    positions = []\n",
    "\n",
    "    for i, col in enumerate(events_unique):\n",
    "        positions.append([messages_per_sec.index.get_loc(idx) for idx in timeline_player_filtered[timeline_player_filtered['event_types'] == col].index])\n",
    "\n",
    "    ax[0].eventplot(positions, colors=colors, lineoffsets=offsets, linelengths=10)\n",
    "\n",
    "    # set y labels of upper plot\n",
    "    ax[0].set_yticks(offsets)\n",
    "    ax[0].set_yticklabels(labels=events_unique)\n",
    "\n",
    "    ax[0].set_facecolor((.95, .95, .95, 0.95))\n",
    "    ax[1].set_facecolor((.95, .95, .95, 0.95))\n",
    "    plt.subplots_adjust(wspace=0, hspace=0)\n",
    "\n",
    "    ax[0].set_title(plot_title)\n",
    "    plt.show()"
   ]
  },
  {
   "cell_type": "markdown",
   "id": "c106d2bd",
   "metadata": {},
   "source": [
    "### Plots from the Pentakill-Match"
   ]
  },
  {
   "cell_type": "markdown",
   "id": "a7dfe147",
   "metadata": {},
   "source": [
    "#### Game-Stats:"
   ]
  },
  {
   "cell_type": "code",
   "execution_count": null,
   "id": "74422b1c",
   "metadata": {
    "pycharm": {
     "name": "#%%\n"
    }
   },
   "outputs": [],
   "source": [
    "print_match_stats(messages_per_sec_pentakill, df_timeline_pentakill, 'Pentakill', df_events_by_player_pentakill)"
   ]
  },
  {
   "cell_type": "markdown",
   "id": "a0da7af5",
   "metadata": {},
   "source": [
    "#### Plots of Mammothman65 - The pentakiller (3rd most events in match)"
   ]
  },
  {
   "cell_type": "code",
   "execution_count": null,
   "id": "b99d4f3a",
   "metadata": {
    "pycharm": {
     "name": "#%%\n"
    }
   },
   "outputs": [],
   "source": [
    "plot_game_event_text_hist(messages_per_sec_pentakill, df_timeline_pentakill, 'MAMMOTHMAN65', 'Pentakill', only_kill=False)"
   ]
  },
  {
   "cell_type": "markdown",
   "id": "f3091753",
   "metadata": {},
   "source": [
    "There are a lot of messages in the end of the match. This is some seconds after the Pentakill (5 Champion-Kills, 4 Champion-Special-Kills)\n",
    "\n",
    "There are also a lot of messages when the player killed the first building and the first champion of the opponents.\n"
   ]
  },
  {
   "cell_type": "code",
   "execution_count": null,
   "id": "412117b9",
   "metadata": {
    "pycharm": {
     "name": "#%%\n"
    }
   },
   "outputs": [],
   "source": [
    "plot_game_event_text_hist(messages_per_sec_pentakill, df_timeline_pentakill, 'MAMMOTHMAN65', 'Pentakill', only_kill=True)"
   ]
  },
  {
   "cell_type": "markdown",
   "id": "954eb23c",
   "metadata": {},
   "source": [
    "Same plot as above - but less event-types on the y-axis of the first plot."
   ]
  },
  {
   "cell_type": "markdown",
   "id": "e376f32f",
   "metadata": {},
   "source": [
    "#### Plots of Yung Fappy - The player with the most events during the match"
   ]
  },
  {
   "cell_type": "code",
   "execution_count": null,
   "id": "f746a1d3",
   "metadata": {
    "pycharm": {
     "name": "#%%\n"
    }
   },
   "outputs": [],
   "source": [
    "plot_game_event_text_hist(messages_per_sec_pentakill, df_timeline_pentakill, 'Yung Fappy', 'Pentakill', only_kill=True)"
   ]
  },
  {
   "cell_type": "markdown",
   "id": "63d794c4",
   "metadata": {},
   "source": [
    "Only the last building kill of this player would result in a lot of chat messages. This summoner was not killed in the whole match (no CHAMPION_KILL_PASSIVE)"
   ]
  },
  {
   "cell_type": "markdown",
   "id": "a2558707",
   "metadata": {},
   "source": [
    "#### Plots of Kitzuo - The player with the second most events during the match"
   ]
  },
  {
   "cell_type": "code",
   "execution_count": null,
   "id": "3316eff5",
   "metadata": {
    "pycharm": {
     "name": "#%%\n"
    }
   },
   "outputs": [],
   "source": [
    "plot_game_event_text_hist(messages_per_sec_pentakill, df_timeline_pentakill, 'Kitzuo', 'Pentakill', only_kill = True)"
   ]
  },
  {
   "cell_type": "markdown",
   "id": "60cce565",
   "metadata": {},
   "source": [
    "At 5:46 the Champion Kill could have lead to reactions in the chat."
   ]
  },
  {
   "cell_type": "markdown",
   "id": "14eaf35d",
   "metadata": {},
   "source": [
    "#### Plots of Wishuwerehere2 - The player with the least events during the match"
   ]
  },
  {
   "cell_type": "code",
   "execution_count": null,
   "id": "6022803f",
   "metadata": {
    "pycharm": {
     "name": "#%%\n"
    }
   },
   "outputs": [],
   "source": [
    "plot_game_event_text_hist(messages_per_sec_pentakill, df_timeline_pentakill, 'Wishuwerehere2', 'Pentakill', only_kill = True)"
   ]
  }
 ],
 "metadata": {
  "kernelspec": {
   "display_name": "Python 3 (ipykernel)",
   "language": "python",
   "name": "python3"
  },
  "language_info": {
   "codemirror_mode": {
    "name": "ipython",
    "version": 3
   },
   "file_extension": ".py",
   "mimetype": "text/x-python",
   "name": "python",
   "nbconvert_exporter": "python",
   "pygments_lexer": "ipython3",
   "version": "3.8.9"
  }
 },
 "nbformat": 4,
 "nbformat_minor": 5
}