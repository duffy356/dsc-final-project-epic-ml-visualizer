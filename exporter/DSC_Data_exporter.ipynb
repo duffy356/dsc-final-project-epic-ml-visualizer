{
 "cells": [
  {
   "cell_type": "markdown",
   "id": "d13d7913",
   "metadata": {},
   "source": [
    "# Data Extractor: Epic Moment\n",
    "\n",
    "This notebook extracts and anonymizes chat data for the dsc project.\n",
    "\n",
    "It reads the data and anomyzes them and stores them in a new folder.\n",
    "\n",
    "\n",
    "\n",
    "\n",
    "\n"
   ]
  },
  {
   "cell_type": "markdown",
   "id": "195298e5",
   "metadata": {},
   "source": [
    "<a id='content'></a>\n",
    "## High-Level-Contents of this Notebook\n",
    "\n",
    "[Step 1: Find matches from 2 players and export data](#exportmatchdata)  \n",
    " - Selects from database (and dump into encrypted pickles)\n",
    "\n",
    "[Step 2: Read Chat from matches of whole gaming session](#exportchats)  \n",
    " - Read chat data of matches\n",
    " - anonymize\n",
    " - dump into pickles"
   ]
  },
  {
   "cell_type": "markdown",
   "id": "9b0a97c1",
   "metadata": {},
   "source": [
    "## Imports and required libraries"
   ]
  },
  {
   "cell_type": "code",
   "execution_count": 1,
   "id": "e5bbd59a",
   "metadata": {
    "pycharm": {
     "name": "#%%\n"
    }
   },
   "outputs": [],
   "source": [
    "import os\n",
    "import sys\n",
    "import pickle\n",
    "import dotenv\n",
    "import pyAesCrypt\n",
    "\n",
    "import numpy as np\n",
    "import pandas as pd\n",
    "\n",
    "from pathlib import Path\n",
    "from datetime import datetime, timedelta\n",
    "from pymongo import MongoClient\n",
    "\n",
    "\n",
    "\n",
    "# Global pandas options\n",
    "pd.set_option('display.max_columns', 500)\n",
    "pd.set_option('display.max_rows', 100)\n"
   ]
  },
  {
   "cell_type": "markdown",
   "id": "62e2595a",
   "metadata": {},
   "source": [
    "### Utility Functions for writing data or reading data from the *prepared_data* folder"
   ]
  },
  {
   "cell_type": "code",
   "execution_count": 70,
   "id": "dabfe2de",
   "metadata": {
    "pycharm": {
     "name": "#%%\n"
    }
   },
   "outputs": [],
   "source": [
    "def get_password():\n",
    "    basedir = get_dsc_data_file_path().parent\n",
    "    dotenv.load_dotenv(os.path.join(basedir, '.env'))\n",
    "    return os.environ.get('PICKLE_PW')\n",
    "\n",
    "def get_dsc_data_file_path():\n",
    "    src_path = Path(os.getcwd())\n",
    "    parent_path = src_path.parent.absolute()\n",
    "    dsc_data_path = parent_path.joinpath('dsc_data')\n",
    "\n",
    "    if not os.path.exists(dsc_data_path):\n",
    "        os.makedirs(dsc_data_path)\n",
    "    return dsc_data_path\n",
    "\n",
    "def get_player_data_file_path(playername):\n",
    "    dsc_path = get_dsc_data_file_path()\n",
    "\n",
    "    player_path = dsc_path.joinpath(playername)\n",
    "\n",
    "    if not os.path.exists(player_path):\n",
    "        os.makedirs(player_path)\n",
    "    return player_path\n",
    "\n",
    "def get_file_path(playername, file):\n",
    "    player_path = get_player_data_file_path(playername)\n",
    "    filename = f'{file}.pkl'\n",
    "    aes_filename = f'{filename}.aes'\n",
    "    return player_path.joinpath(filename), player_path.joinpath(aes_filename)\n",
    "\n",
    "def read_prepared_file(playername, file):\n",
    "    destination_file, aes_file = get_file_path(playername, file)\n",
    "    pyAesCrypt.decryptFile(aes_file, destination_file, get_password())\n",
    "    with open(destination_file, \"rb\") as src:\n",
    "        obj = pickle.load(src)\n",
    "        print(f'read {destination_file}')\n",
    "    os.remove(destination_file)\n",
    "    return obj\n",
    "\n",
    "def read_prepared_df_file(playername, df_file, index_col):\n",
    "    destination_file, aes_file = get_file_path(playername, df_file)\n",
    "    pyAesCrypt.decryptFile(aes_file, destination_file, get_password())\n",
    "    df = pd.read_csv(destination_file,index_col = index_col)\n",
    "    print(f'read {destination_file}')\n",
    "    os.remove(destination_file)\n",
    "    return df\n",
    "    \n",
    "def write_prepared_file(obj, playername, file):\n",
    "    destination_file, aes_file = get_file_path(playername, file)\n",
    "    with open(destination_file, \"wb\") as dst:\n",
    "        pickle.dump(obj, dst)\n",
    "        print(f'wrote {destination_file}')\n",
    "    pyAesCrypt.encryptFile(destination_file, aes_file, get_password())\n",
    "    os.remove(destination_file)\n",
    "\n",
    "def write_prepared_df_file(df, playername, file):\n",
    "    destination_file, aes_file = get_file_path(playername, file)\n",
    "    df.to_csv(destination_file)\n",
    "    print(f'wrote {destination_file}')\n",
    "    pyAesCrypt.encryptFile(destination_file, aes_file, get_password())\n",
    "    os.remove(destination_file)\n",
    "\n",
    "def delete_dsc_data():\n",
    "    dsc_path = get_dsc_data_file_path()\n",
    "    for d in os.listdir(dsc_path):\n",
    "        folder_path = dsc_path.joinpath(d)\n",
    "        if os.path.isdir(folder_path):\n",
    "            for f in os.listdir(folder_path):\n",
    "                file_path = folder_path.joinpath(f)\n",
    "                os.remove(file_path)\n",
    "            os.rmdir(folder_path)\n",
    "        else:\n",
    "            os.remove(folder_path)\n",
    "    os.rmdir(dsc_path)"
   ]
  },
  {
   "cell_type": "code",
   "execution_count": 3,
   "id": "39114a51",
   "metadata": {
    "pycharm": {
     "name": "#%%\n"
    }
   },
   "outputs": [],
   "source": [
    "delete_dsc_data()"
   ]
  },
  {
   "cell_type": "markdown",
   "id": "9624a4b4",
   "metadata": {},
   "source": [
    "<a id='exportmatchdata'></a>\n",
    "## Step 1: Find matches from 2 players and export data | ([Jump to Contents](#content))"
   ]
  },
  {
   "cell_type": "markdown",
   "id": "78863dac",
   "metadata": {},
   "source": [
    "### Establish Connection to local DB\n",
    "\n",
    "This is only required for running the notebook with database access."
   ]
  },
  {
   "cell_type": "code",
   "execution_count": 4,
   "id": "2e02302e",
   "metadata": {
    "pycharm": {
     "name": "#%%\n"
    }
   },
   "outputs": [],
   "source": [
    "\n",
    "#Creating a pymongo client\n",
    "client = MongoClient('localhost', 27017)\n",
    "\n",
    "#Getting the database instance\n",
    "db = client['epicml']"
   ]
  },
  {
   "cell_type": "markdown",
   "id": "e5351168",
   "metadata": {},
   "source": [
    "### Export Matches of Streamers: tobiasfate and noway4u_sir"
   ]
  },
  {
   "cell_type": "markdown",
   "id": "514c6512",
   "metadata": {},
   "source": [
    "noway4u_sir is a streamer from Germany and his chat language is usually in German.\n",
    "\n",
    "Tobiasfate is a streamer from Canada and his chat language is usually English."
   ]
  },
  {
   "cell_type": "code",
   "execution_count": 5,
   "id": "afb13ba0",
   "metadata": {
    "pycharm": {
     "name": "#%%\n"
    }
   },
   "outputs": [],
   "source": [
    "def write_50_lol_matches(username):\n",
    "    mappings = list(db['twitch_channel_summoner_mapping'].find({'twitch_channel': username, 'status': 'COMPLETED'}))\n",
    "    pks = [channel['summoner_id'] for channel in mappings]\n",
    "    summoners = list(db['lol_summoner'].find({'_id': {'$in': pks}}))\n",
    "    matches = list(db['lol_match_participant_summary'].find({\"puuid\": {'$in': [summoner['puuid'] for summoner in summoners]}}))\n",
    "    match_ids = [match['matchId'] for match in matches]\n",
    "    match_ids = match_ids[:50]\n",
    "\n",
    "    match_summaries = list(db['lol_match_summary'].find({\"matchId\": {'$in': match_ids}}))\n",
    "    match_participant_summaries = list(db['lol_match_participant_summary'].find({\"matchId\": {'$in': match_ids}}))\n",
    "    match_timelines = list(db['lol_match_timeline'].find({\"matchId\": {'$in': match_ids}}))\n",
    "    \n",
    "    write_prepared_file(match_summaries, username, \"match_summaries\")\n",
    "\n",
    "    # resolve 1:n problem\n",
    "    for match_id in match_ids:\n",
    "        match_participants = []\n",
    "        for participant in match_participant_summaries:\n",
    "            if participant['matchId'] == match_id:\n",
    "                match_participants.append(participant)\n",
    "        filename = f\"match_participant_summaries_{match_id}\"\n",
    "        write_prepared_file(match_participants, username, filename)\n",
    "\n",
    "    for timeline in match_timelines:\n",
    "        match_id = timeline['matchId']\n",
    "        write_prepared_file(timeline, username, f\"match_timeline_{match_id}\")\n",
    "\n",
    "    return match_participant_summaries, match_summaries, match_timelines"
   ]
  },
  {
   "cell_type": "code",
   "execution_count": 6,
   "id": "c791f041",
   "metadata": {
    "pycharm": {
     "name": "#%%\n"
    }
   },
   "outputs": [
    {
     "name": "stdout",
     "output_type": "stream",
     "text": [
      "wrote /Users/doba/Documents/TechnikumWien/3. Semester/Solution Deployment & Communication/dsc-final-project-epic-ml-visualizer/dsc_data/tobiasfate/match_summaries.pkl\n",
      "wrote /Users/doba/Documents/TechnikumWien/3. Semester/Solution Deployment & Communication/dsc-final-project-epic-ml-visualizer/dsc_data/tobiasfate/match_participant_summaries_NA1_4047445107.pkl\n",
      "wrote /Users/doba/Documents/TechnikumWien/3. Semester/Solution Deployment & Communication/dsc-final-project-epic-ml-visualizer/dsc_data/tobiasfate/match_participant_summaries_NA1_4034134889.pkl\n",
      "wrote /Users/doba/Documents/TechnikumWien/3. Semester/Solution Deployment & Communication/dsc-final-project-epic-ml-visualizer/dsc_data/tobiasfate/match_participant_summaries_NA1_4033596036.pkl\n",
      "wrote /Users/doba/Documents/TechnikumWien/3. Semester/Solution Deployment & Communication/dsc-final-project-epic-ml-visualizer/dsc_data/tobiasfate/match_participant_summaries_NA1_4033488515.pkl\n",
      "wrote /Users/doba/Documents/TechnikumWien/3. Semester/Solution Deployment & Communication/dsc-final-project-epic-ml-visualizer/dsc_data/tobiasfate/match_participant_summaries_NA1_4031221294.pkl\n",
      "wrote /Users/doba/Documents/TechnikumWien/3. Semester/Solution Deployment & Communication/dsc-final-project-epic-ml-visualizer/dsc_data/tobiasfate/match_participant_summaries_NA1_4084522676.pkl\n",
      "wrote /Users/doba/Documents/TechnikumWien/3. Semester/Solution Deployment & Communication/dsc-final-project-epic-ml-visualizer/dsc_data/tobiasfate/match_participant_summaries_NA1_4086247142.pkl\n",
      "wrote /Users/doba/Documents/TechnikumWien/3. Semester/Solution Deployment & Communication/dsc-final-project-epic-ml-visualizer/dsc_data/tobiasfate/match_participant_summaries_NA1_4161383123.pkl\n",
      "wrote /Users/doba/Documents/TechnikumWien/3. Semester/Solution Deployment & Communication/dsc-final-project-epic-ml-visualizer/dsc_data/tobiasfate/match_participant_summaries_NA1_4161375973.pkl\n",
      "wrote /Users/doba/Documents/TechnikumWien/3. Semester/Solution Deployment & Communication/dsc-final-project-epic-ml-visualizer/dsc_data/tobiasfate/match_participant_summaries_NA1_4166761418.pkl\n",
      "wrote /Users/doba/Documents/TechnikumWien/3. Semester/Solution Deployment & Communication/dsc-final-project-epic-ml-visualizer/dsc_data/tobiasfate/match_participant_summaries_NA1_4166758441.pkl\n",
      "wrote /Users/doba/Documents/TechnikumWien/3. Semester/Solution Deployment & Communication/dsc-final-project-epic-ml-visualizer/dsc_data/tobiasfate/match_participant_summaries_NA1_4166754410.pkl\n",
      "wrote /Users/doba/Documents/TechnikumWien/3. Semester/Solution Deployment & Communication/dsc-final-project-epic-ml-visualizer/dsc_data/tobiasfate/match_participant_summaries_NA1_4166679015.pkl\n",
      "wrote /Users/doba/Documents/TechnikumWien/3. Semester/Solution Deployment & Communication/dsc-final-project-epic-ml-visualizer/dsc_data/tobiasfate/match_participant_summaries_NA1_4166666165.pkl\n",
      "wrote /Users/doba/Documents/TechnikumWien/3. Semester/Solution Deployment & Communication/dsc-final-project-epic-ml-visualizer/dsc_data/tobiasfate/match_participant_summaries_NA1_4166643581.pkl\n",
      "wrote /Users/doba/Documents/TechnikumWien/3. Semester/Solution Deployment & Communication/dsc-final-project-epic-ml-visualizer/dsc_data/tobiasfate/match_participant_summaries_NA1_4166639836.pkl\n",
      "wrote /Users/doba/Documents/TechnikumWien/3. Semester/Solution Deployment & Communication/dsc-final-project-epic-ml-visualizer/dsc_data/tobiasfate/match_participant_summaries_NA1_4166612138.pkl\n",
      "wrote /Users/doba/Documents/TechnikumWien/3. Semester/Solution Deployment & Communication/dsc-final-project-epic-ml-visualizer/dsc_data/tobiasfate/match_participant_summaries_NA1_4166576153.pkl\n",
      "wrote /Users/doba/Documents/TechnikumWien/3. Semester/Solution Deployment & Communication/dsc-final-project-epic-ml-visualizer/dsc_data/tobiasfate/match_participant_summaries_NA1_4166568236.pkl\n",
      "wrote /Users/doba/Documents/TechnikumWien/3. Semester/Solution Deployment & Communication/dsc-final-project-epic-ml-visualizer/dsc_data/tobiasfate/match_participant_summaries_NA1_4166563128.pkl\n",
      "wrote /Users/doba/Documents/TechnikumWien/3. Semester/Solution Deployment & Communication/dsc-final-project-epic-ml-visualizer/dsc_data/tobiasfate/match_participant_summaries_NA1_4166554911.pkl\n",
      "wrote /Users/doba/Documents/TechnikumWien/3. Semester/Solution Deployment & Communication/dsc-final-project-epic-ml-visualizer/dsc_data/tobiasfate/match_participant_summaries_NA1_4165927815.pkl\n",
      "wrote /Users/doba/Documents/TechnikumWien/3. Semester/Solution Deployment & Communication/dsc-final-project-epic-ml-visualizer/dsc_data/tobiasfate/match_participant_summaries_NA1_4165922398.pkl\n",
      "wrote /Users/doba/Documents/TechnikumWien/3. Semester/Solution Deployment & Communication/dsc-final-project-epic-ml-visualizer/dsc_data/tobiasfate/match_participant_summaries_NA1_4167141393.pkl\n",
      "wrote /Users/doba/Documents/TechnikumWien/3. Semester/Solution Deployment & Communication/dsc-final-project-epic-ml-visualizer/dsc_data/tobiasfate/match_participant_summaries_NA1_4167084198.pkl\n",
      "wrote /Users/doba/Documents/TechnikumWien/3. Semester/Solution Deployment & Communication/dsc-final-project-epic-ml-visualizer/dsc_data/tobiasfate/match_participant_summaries_NA1_4167078694.pkl\n",
      "wrote /Users/doba/Documents/TechnikumWien/3. Semester/Solution Deployment & Communication/dsc-final-project-epic-ml-visualizer/dsc_data/tobiasfate/match_participant_summaries_NA1_4167051417.pkl\n",
      "wrote /Users/doba/Documents/TechnikumWien/3. Semester/Solution Deployment & Communication/dsc-final-project-epic-ml-visualizer/dsc_data/tobiasfate/match_participant_summaries_NA1_4166941630.pkl\n",
      "wrote /Users/doba/Documents/TechnikumWien/3. Semester/Solution Deployment & Communication/dsc-final-project-epic-ml-visualizer/dsc_data/tobiasfate/match_participant_summaries_NA1_4166896812.pkl\n",
      "wrote /Users/doba/Documents/TechnikumWien/3. Semester/Solution Deployment & Communication/dsc-final-project-epic-ml-visualizer/dsc_data/tobiasfate/match_participant_summaries_NA1_4166832935.pkl\n",
      "wrote /Users/doba/Documents/TechnikumWien/3. Semester/Solution Deployment & Communication/dsc-final-project-epic-ml-visualizer/dsc_data/tobiasfate/match_participant_summaries_NA1_4166817965.pkl\n",
      "wrote /Users/doba/Documents/TechnikumWien/3. Semester/Solution Deployment & Communication/dsc-final-project-epic-ml-visualizer/dsc_data/tobiasfate/match_participant_summaries_NA1_4081624340.pkl\n",
      "wrote /Users/doba/Documents/TechnikumWien/3. Semester/Solution Deployment & Communication/dsc-final-project-epic-ml-visualizer/dsc_data/tobiasfate/match_participant_summaries_NA1_4081579604.pkl\n",
      "wrote /Users/doba/Documents/TechnikumWien/3. Semester/Solution Deployment & Communication/dsc-final-project-epic-ml-visualizer/dsc_data/tobiasfate/match_participant_summaries_NA1_4081375553.pkl\n",
      "wrote /Users/doba/Documents/TechnikumWien/3. Semester/Solution Deployment & Communication/dsc-final-project-epic-ml-visualizer/dsc_data/tobiasfate/match_participant_summaries_NA1_4081392599.pkl\n",
      "wrote /Users/doba/Documents/TechnikumWien/3. Semester/Solution Deployment & Communication/dsc-final-project-epic-ml-visualizer/dsc_data/tobiasfate/match_participant_summaries_NA1_4081370825.pkl\n",
      "wrote /Users/doba/Documents/TechnikumWien/3. Semester/Solution Deployment & Communication/dsc-final-project-epic-ml-visualizer/dsc_data/tobiasfate/match_participant_summaries_NA1_4081347519.pkl\n",
      "wrote /Users/doba/Documents/TechnikumWien/3. Semester/Solution Deployment & Communication/dsc-final-project-epic-ml-visualizer/dsc_data/tobiasfate/match_participant_summaries_NA1_4081307165.pkl\n",
      "wrote /Users/doba/Documents/TechnikumWien/3. Semester/Solution Deployment & Communication/dsc-final-project-epic-ml-visualizer/dsc_data/tobiasfate/match_participant_summaries_NA1_4081315391.pkl\n",
      "wrote /Users/doba/Documents/TechnikumWien/3. Semester/Solution Deployment & Communication/dsc-final-project-epic-ml-visualizer/dsc_data/tobiasfate/match_participant_summaries_NA1_4081362826.pkl\n",
      "wrote /Users/doba/Documents/TechnikumWien/3. Semester/Solution Deployment & Communication/dsc-final-project-epic-ml-visualizer/dsc_data/tobiasfate/match_participant_summaries_NA1_4081322273.pkl\n",
      "wrote /Users/doba/Documents/TechnikumWien/3. Semester/Solution Deployment & Communication/dsc-final-project-epic-ml-visualizer/dsc_data/tobiasfate/match_participant_summaries_NA1_4081350583.pkl\n"
     ]
    },
    {
     "name": "stdout",
     "output_type": "stream",
     "text": [
      "wrote /Users/doba/Documents/TechnikumWien/3. Semester/Solution Deployment & Communication/dsc-final-project-epic-ml-visualizer/dsc_data/tobiasfate/match_participant_summaries_NA1_4081298888.pkl\n",
      "wrote /Users/doba/Documents/TechnikumWien/3. Semester/Solution Deployment & Communication/dsc-final-project-epic-ml-visualizer/dsc_data/tobiasfate/match_participant_summaries_NA1_4080918526.pkl\n",
      "wrote /Users/doba/Documents/TechnikumWien/3. Semester/Solution Deployment & Communication/dsc-final-project-epic-ml-visualizer/dsc_data/tobiasfate/match_participant_summaries_NA1_4080885402.pkl\n",
      "wrote /Users/doba/Documents/TechnikumWien/3. Semester/Solution Deployment & Communication/dsc-final-project-epic-ml-visualizer/dsc_data/tobiasfate/match_participant_summaries_NA1_4080848287.pkl\n",
      "wrote /Users/doba/Documents/TechnikumWien/3. Semester/Solution Deployment & Communication/dsc-final-project-epic-ml-visualizer/dsc_data/tobiasfate/match_participant_summaries_NA1_4080660913.pkl\n",
      "wrote /Users/doba/Documents/TechnikumWien/3. Semester/Solution Deployment & Communication/dsc-final-project-epic-ml-visualizer/dsc_data/tobiasfate/match_participant_summaries_NA1_4080577212.pkl\n",
      "wrote /Users/doba/Documents/TechnikumWien/3. Semester/Solution Deployment & Communication/dsc-final-project-epic-ml-visualizer/dsc_data/tobiasfate/match_participant_summaries_NA1_4080573084.pkl\n",
      "wrote /Users/doba/Documents/TechnikumWien/3. Semester/Solution Deployment & Communication/dsc-final-project-epic-ml-visualizer/dsc_data/tobiasfate/match_participant_summaries_NA1_4080550359.pkl\n",
      "wrote /Users/doba/Documents/TechnikumWien/3. Semester/Solution Deployment & Communication/dsc-final-project-epic-ml-visualizer/dsc_data/tobiasfate/match_timeline_NA1_4031221294.pkl\n",
      "wrote /Users/doba/Documents/TechnikumWien/3. Semester/Solution Deployment & Communication/dsc-final-project-epic-ml-visualizer/dsc_data/tobiasfate/match_timeline_NA1_4033488515.pkl\n",
      "wrote /Users/doba/Documents/TechnikumWien/3. Semester/Solution Deployment & Communication/dsc-final-project-epic-ml-visualizer/dsc_data/tobiasfate/match_timeline_NA1_4033596036.pkl\n",
      "wrote /Users/doba/Documents/TechnikumWien/3. Semester/Solution Deployment & Communication/dsc-final-project-epic-ml-visualizer/dsc_data/tobiasfate/match_timeline_NA1_4034134889.pkl\n",
      "wrote /Users/doba/Documents/TechnikumWien/3. Semester/Solution Deployment & Communication/dsc-final-project-epic-ml-visualizer/dsc_data/tobiasfate/match_timeline_NA1_4047445107.pkl\n",
      "wrote /Users/doba/Documents/TechnikumWien/3. Semester/Solution Deployment & Communication/dsc-final-project-epic-ml-visualizer/dsc_data/tobiasfate/match_timeline_NA1_4080550359.pkl\n",
      "wrote /Users/doba/Documents/TechnikumWien/3. Semester/Solution Deployment & Communication/dsc-final-project-epic-ml-visualizer/dsc_data/tobiasfate/match_timeline_NA1_4080573084.pkl\n",
      "wrote /Users/doba/Documents/TechnikumWien/3. Semester/Solution Deployment & Communication/dsc-final-project-epic-ml-visualizer/dsc_data/tobiasfate/match_timeline_NA1_4080577212.pkl\n",
      "wrote /Users/doba/Documents/TechnikumWien/3. Semester/Solution Deployment & Communication/dsc-final-project-epic-ml-visualizer/dsc_data/tobiasfate/match_timeline_NA1_4080660913.pkl\n",
      "wrote /Users/doba/Documents/TechnikumWien/3. Semester/Solution Deployment & Communication/dsc-final-project-epic-ml-visualizer/dsc_data/tobiasfate/match_timeline_NA1_4080848287.pkl\n",
      "wrote /Users/doba/Documents/TechnikumWien/3. Semester/Solution Deployment & Communication/dsc-final-project-epic-ml-visualizer/dsc_data/tobiasfate/match_timeline_NA1_4080885402.pkl\n",
      "wrote /Users/doba/Documents/TechnikumWien/3. Semester/Solution Deployment & Communication/dsc-final-project-epic-ml-visualizer/dsc_data/tobiasfate/match_timeline_NA1_4080918526.pkl\n",
      "wrote /Users/doba/Documents/TechnikumWien/3. Semester/Solution Deployment & Communication/dsc-final-project-epic-ml-visualizer/dsc_data/tobiasfate/match_timeline_NA1_4081298888.pkl\n",
      "wrote /Users/doba/Documents/TechnikumWien/3. Semester/Solution Deployment & Communication/dsc-final-project-epic-ml-visualizer/dsc_data/tobiasfate/match_timeline_NA1_4081307165.pkl\n",
      "wrote /Users/doba/Documents/TechnikumWien/3. Semester/Solution Deployment & Communication/dsc-final-project-epic-ml-visualizer/dsc_data/tobiasfate/match_timeline_NA1_4081315391.pkl\n",
      "wrote /Users/doba/Documents/TechnikumWien/3. Semester/Solution Deployment & Communication/dsc-final-project-epic-ml-visualizer/dsc_data/tobiasfate/match_timeline_NA1_4081322273.pkl\n",
      "wrote /Users/doba/Documents/TechnikumWien/3. Semester/Solution Deployment & Communication/dsc-final-project-epic-ml-visualizer/dsc_data/tobiasfate/match_timeline_NA1_4081347519.pkl\n",
      "wrote /Users/doba/Documents/TechnikumWien/3. Semester/Solution Deployment & Communication/dsc-final-project-epic-ml-visualizer/dsc_data/tobiasfate/match_timeline_NA1_4081350583.pkl\n",
      "wrote /Users/doba/Documents/TechnikumWien/3. Semester/Solution Deployment & Communication/dsc-final-project-epic-ml-visualizer/dsc_data/tobiasfate/match_timeline_NA1_4081362826.pkl\n",
      "wrote /Users/doba/Documents/TechnikumWien/3. Semester/Solution Deployment & Communication/dsc-final-project-epic-ml-visualizer/dsc_data/tobiasfate/match_timeline_NA1_4081370825.pkl\n",
      "wrote /Users/doba/Documents/TechnikumWien/3. Semester/Solution Deployment & Communication/dsc-final-project-epic-ml-visualizer/dsc_data/tobiasfate/match_timeline_NA1_4081375553.pkl\n",
      "wrote /Users/doba/Documents/TechnikumWien/3. Semester/Solution Deployment & Communication/dsc-final-project-epic-ml-visualizer/dsc_data/tobiasfate/match_timeline_NA1_4081392599.pkl\n",
      "wrote /Users/doba/Documents/TechnikumWien/3. Semester/Solution Deployment & Communication/dsc-final-project-epic-ml-visualizer/dsc_data/tobiasfate/match_timeline_NA1_4081579604.pkl\n",
      "wrote /Users/doba/Documents/TechnikumWien/3. Semester/Solution Deployment & Communication/dsc-final-project-epic-ml-visualizer/dsc_data/tobiasfate/match_timeline_NA1_4081624340.pkl\n",
      "wrote /Users/doba/Documents/TechnikumWien/3. Semester/Solution Deployment & Communication/dsc-final-project-epic-ml-visualizer/dsc_data/tobiasfate/match_timeline_NA1_4084522676.pkl\n",
      "wrote /Users/doba/Documents/TechnikumWien/3. Semester/Solution Deployment & Communication/dsc-final-project-epic-ml-visualizer/dsc_data/tobiasfate/match_timeline_NA1_4086247142.pkl\n",
      "wrote /Users/doba/Documents/TechnikumWien/3. Semester/Solution Deployment & Communication/dsc-final-project-epic-ml-visualizer/dsc_data/tobiasfate/match_timeline_NA1_4161375973.pkl\n",
      "wrote /Users/doba/Documents/TechnikumWien/3. Semester/Solution Deployment & Communication/dsc-final-project-epic-ml-visualizer/dsc_data/tobiasfate/match_timeline_NA1_4161383123.pkl\n",
      "wrote /Users/doba/Documents/TechnikumWien/3. Semester/Solution Deployment & Communication/dsc-final-project-epic-ml-visualizer/dsc_data/tobiasfate/match_timeline_NA1_4165922398.pkl\n",
      "wrote /Users/doba/Documents/TechnikumWien/3. Semester/Solution Deployment & Communication/dsc-final-project-epic-ml-visualizer/dsc_data/tobiasfate/match_timeline_NA1_4165927815.pkl\n",
      "wrote /Users/doba/Documents/TechnikumWien/3. Semester/Solution Deployment & Communication/dsc-final-project-epic-ml-visualizer/dsc_data/tobiasfate/match_timeline_NA1_4166554911.pkl\n",
      "wrote /Users/doba/Documents/TechnikumWien/3. Semester/Solution Deployment & Communication/dsc-final-project-epic-ml-visualizer/dsc_data/tobiasfate/match_timeline_NA1_4166563128.pkl\n",
      "wrote /Users/doba/Documents/TechnikumWien/3. Semester/Solution Deployment & Communication/dsc-final-project-epic-ml-visualizer/dsc_data/tobiasfate/match_timeline_NA1_4166568236.pkl\n",
      "wrote /Users/doba/Documents/TechnikumWien/3. Semester/Solution Deployment & Communication/dsc-final-project-epic-ml-visualizer/dsc_data/tobiasfate/match_timeline_NA1_4166576153.pkl\n",
      "wrote /Users/doba/Documents/TechnikumWien/3. Semester/Solution Deployment & Communication/dsc-final-project-epic-ml-visualizer/dsc_data/tobiasfate/match_timeline_NA1_4166612138.pkl\n",
      "wrote /Users/doba/Documents/TechnikumWien/3. Semester/Solution Deployment & Communication/dsc-final-project-epic-ml-visualizer/dsc_data/tobiasfate/match_timeline_NA1_4166639836.pkl\n",
      "wrote /Users/doba/Documents/TechnikumWien/3. Semester/Solution Deployment & Communication/dsc-final-project-epic-ml-visualizer/dsc_data/tobiasfate/match_timeline_NA1_4166643581.pkl\n"
     ]
    },
    {
     "name": "stdout",
     "output_type": "stream",
     "text": [
      "wrote /Users/doba/Documents/TechnikumWien/3. Semester/Solution Deployment & Communication/dsc-final-project-epic-ml-visualizer/dsc_data/tobiasfate/match_timeline_NA1_4166666165.pkl\n",
      "wrote /Users/doba/Documents/TechnikumWien/3. Semester/Solution Deployment & Communication/dsc-final-project-epic-ml-visualizer/dsc_data/tobiasfate/match_timeline_NA1_4166679015.pkl\n",
      "wrote /Users/doba/Documents/TechnikumWien/3. Semester/Solution Deployment & Communication/dsc-final-project-epic-ml-visualizer/dsc_data/tobiasfate/match_timeline_NA1_4166754410.pkl\n",
      "wrote /Users/doba/Documents/TechnikumWien/3. Semester/Solution Deployment & Communication/dsc-final-project-epic-ml-visualizer/dsc_data/tobiasfate/match_timeline_NA1_4166758441.pkl\n",
      "wrote /Users/doba/Documents/TechnikumWien/3. Semester/Solution Deployment & Communication/dsc-final-project-epic-ml-visualizer/dsc_data/tobiasfate/match_timeline_NA1_4166761418.pkl\n",
      "wrote /Users/doba/Documents/TechnikumWien/3. Semester/Solution Deployment & Communication/dsc-final-project-epic-ml-visualizer/dsc_data/tobiasfate/match_timeline_NA1_4166817965.pkl\n",
      "wrote /Users/doba/Documents/TechnikumWien/3. Semester/Solution Deployment & Communication/dsc-final-project-epic-ml-visualizer/dsc_data/tobiasfate/match_timeline_NA1_4166832935.pkl\n",
      "wrote /Users/doba/Documents/TechnikumWien/3. Semester/Solution Deployment & Communication/dsc-final-project-epic-ml-visualizer/dsc_data/tobiasfate/match_timeline_NA1_4166896812.pkl\n",
      "wrote /Users/doba/Documents/TechnikumWien/3. Semester/Solution Deployment & Communication/dsc-final-project-epic-ml-visualizer/dsc_data/tobiasfate/match_timeline_NA1_4166941630.pkl\n",
      "wrote /Users/doba/Documents/TechnikumWien/3. Semester/Solution Deployment & Communication/dsc-final-project-epic-ml-visualizer/dsc_data/tobiasfate/match_timeline_NA1_4167051417.pkl\n",
      "wrote /Users/doba/Documents/TechnikumWien/3. Semester/Solution Deployment & Communication/dsc-final-project-epic-ml-visualizer/dsc_data/tobiasfate/match_timeline_NA1_4167078694.pkl\n",
      "wrote /Users/doba/Documents/TechnikumWien/3. Semester/Solution Deployment & Communication/dsc-final-project-epic-ml-visualizer/dsc_data/tobiasfate/match_timeline_NA1_4167084198.pkl\n",
      "wrote /Users/doba/Documents/TechnikumWien/3. Semester/Solution Deployment & Communication/dsc-final-project-epic-ml-visualizer/dsc_data/tobiasfate/match_timeline_NA1_4167141393.pkl\n"
     ]
    }
   ],
   "source": [
    "tf_matches, tf_summaries, tf_timelines = write_50_lol_matches('tobiasfate')"
   ]
  },
  {
   "cell_type": "code",
   "execution_count": 7,
   "id": "eb5e29ba",
   "metadata": {
    "pycharm": {
     "name": "#%%\n"
    }
   },
   "outputs": [
    {
     "name": "stdout",
     "output_type": "stream",
     "text": [
      "wrote /Users/doba/Documents/TechnikumWien/3. Semester/Solution Deployment & Communication/dsc-final-project-epic-ml-visualizer/dsc_data/noway4u_sir/match_summaries.pkl\n",
      "wrote /Users/doba/Documents/TechnikumWien/3. Semester/Solution Deployment & Communication/dsc-final-project-epic-ml-visualizer/dsc_data/noway4u_sir/match_participant_summaries_NA1_4112918754.pkl\n",
      "wrote /Users/doba/Documents/TechnikumWien/3. Semester/Solution Deployment & Communication/dsc-final-project-epic-ml-visualizer/dsc_data/noway4u_sir/match_participant_summaries_NA1_4113114496.pkl\n",
      "wrote /Users/doba/Documents/TechnikumWien/3. Semester/Solution Deployment & Communication/dsc-final-project-epic-ml-visualizer/dsc_data/noway4u_sir/match_participant_summaries_NA1_4113054688.pkl\n",
      "wrote /Users/doba/Documents/TechnikumWien/3. Semester/Solution Deployment & Communication/dsc-final-project-epic-ml-visualizer/dsc_data/noway4u_sir/match_participant_summaries_NA1_4113031259.pkl\n",
      "wrote /Users/doba/Documents/TechnikumWien/3. Semester/Solution Deployment & Communication/dsc-final-project-epic-ml-visualizer/dsc_data/noway4u_sir/match_participant_summaries_NA1_4114353407.pkl\n",
      "wrote /Users/doba/Documents/TechnikumWien/3. Semester/Solution Deployment & Communication/dsc-final-project-epic-ml-visualizer/dsc_data/noway4u_sir/match_participant_summaries_NA1_4114410624.pkl\n",
      "wrote /Users/doba/Documents/TechnikumWien/3. Semester/Solution Deployment & Communication/dsc-final-project-epic-ml-visualizer/dsc_data/noway4u_sir/match_participant_summaries_NA1_4114896489.pkl\n",
      "wrote /Users/doba/Documents/TechnikumWien/3. Semester/Solution Deployment & Communication/dsc-final-project-epic-ml-visualizer/dsc_data/noway4u_sir/match_participant_summaries_NA1_4114384279.pkl\n",
      "wrote /Users/doba/Documents/TechnikumWien/3. Semester/Solution Deployment & Communication/dsc-final-project-epic-ml-visualizer/dsc_data/noway4u_sir/match_participant_summaries_NA1_4115509715.pkl\n",
      "wrote /Users/doba/Documents/TechnikumWien/3. Semester/Solution Deployment & Communication/dsc-final-project-epic-ml-visualizer/dsc_data/noway4u_sir/match_participant_summaries_NA1_4114572094.pkl\n",
      "wrote /Users/doba/Documents/TechnikumWien/3. Semester/Solution Deployment & Communication/dsc-final-project-epic-ml-visualizer/dsc_data/noway4u_sir/match_participant_summaries_NA1_4115483709.pkl\n",
      "wrote /Users/doba/Documents/TechnikumWien/3. Semester/Solution Deployment & Communication/dsc-final-project-epic-ml-visualizer/dsc_data/noway4u_sir/match_participant_summaries_NA1_4116741548.pkl\n",
      "wrote /Users/doba/Documents/TechnikumWien/3. Semester/Solution Deployment & Communication/dsc-final-project-epic-ml-visualizer/dsc_data/noway4u_sir/match_participant_summaries_NA1_4116748183.pkl\n",
      "wrote /Users/doba/Documents/TechnikumWien/3. Semester/Solution Deployment & Communication/dsc-final-project-epic-ml-visualizer/dsc_data/noway4u_sir/match_participant_summaries_NA1_4115495602.pkl\n",
      "wrote /Users/doba/Documents/TechnikumWien/3. Semester/Solution Deployment & Communication/dsc-final-project-epic-ml-visualizer/dsc_data/noway4u_sir/match_participant_summaries_NA1_4116366488.pkl\n",
      "wrote /Users/doba/Documents/TechnikumWien/3. Semester/Solution Deployment & Communication/dsc-final-project-epic-ml-visualizer/dsc_data/noway4u_sir/match_participant_summaries_NA1_4117096306.pkl\n",
      "wrote /Users/doba/Documents/TechnikumWien/3. Semester/Solution Deployment & Communication/dsc-final-project-epic-ml-visualizer/dsc_data/noway4u_sir/match_participant_summaries_NA1_4117881867.pkl\n",
      "wrote /Users/doba/Documents/TechnikumWien/3. Semester/Solution Deployment & Communication/dsc-final-project-epic-ml-visualizer/dsc_data/noway4u_sir/match_participant_summaries_NA1_4118145454.pkl\n",
      "wrote /Users/doba/Documents/TechnikumWien/3. Semester/Solution Deployment & Communication/dsc-final-project-epic-ml-visualizer/dsc_data/noway4u_sir/match_participant_summaries_NA1_4117897084.pkl\n",
      "wrote /Users/doba/Documents/TechnikumWien/3. Semester/Solution Deployment & Communication/dsc-final-project-epic-ml-visualizer/dsc_data/noway4u_sir/match_participant_summaries_NA1_4118140558.pkl\n",
      "wrote /Users/doba/Documents/TechnikumWien/3. Semester/Solution Deployment & Communication/dsc-final-project-epic-ml-visualizer/dsc_data/noway4u_sir/match_participant_summaries_NA1_4117985954.pkl\n",
      "wrote /Users/doba/Documents/TechnikumWien/3. Semester/Solution Deployment & Communication/dsc-final-project-epic-ml-visualizer/dsc_data/noway4u_sir/match_participant_summaries_NA1_4117971821.pkl\n",
      "wrote /Users/doba/Documents/TechnikumWien/3. Semester/Solution Deployment & Communication/dsc-final-project-epic-ml-visualizer/dsc_data/noway4u_sir/match_participant_summaries_NA1_4119907297.pkl\n",
      "wrote /Users/doba/Documents/TechnikumWien/3. Semester/Solution Deployment & Communication/dsc-final-project-epic-ml-visualizer/dsc_data/noway4u_sir/match_participant_summaries_NA1_4119487449.pkl\n",
      "wrote /Users/doba/Documents/TechnikumWien/3. Semester/Solution Deployment & Communication/dsc-final-project-epic-ml-visualizer/dsc_data/noway4u_sir/match_participant_summaries_NA1_4119985066.pkl\n",
      "wrote /Users/doba/Documents/TechnikumWien/3. Semester/Solution Deployment & Communication/dsc-final-project-epic-ml-visualizer/dsc_data/noway4u_sir/match_participant_summaries_NA1_4119673297.pkl\n",
      "wrote /Users/doba/Documents/TechnikumWien/3. Semester/Solution Deployment & Communication/dsc-final-project-epic-ml-visualizer/dsc_data/noway4u_sir/match_participant_summaries_NA1_4119588134.pkl\n",
      "wrote /Users/doba/Documents/TechnikumWien/3. Semester/Solution Deployment & Communication/dsc-final-project-epic-ml-visualizer/dsc_data/noway4u_sir/match_participant_summaries_NA1_4119412825.pkl\n",
      "wrote /Users/doba/Documents/TechnikumWien/3. Semester/Solution Deployment & Communication/dsc-final-project-epic-ml-visualizer/dsc_data/noway4u_sir/match_participant_summaries_NA1_4119574152.pkl\n",
      "wrote /Users/doba/Documents/TechnikumWien/3. Semester/Solution Deployment & Communication/dsc-final-project-epic-ml-visualizer/dsc_data/noway4u_sir/match_participant_summaries_NA1_4120457571.pkl\n",
      "wrote /Users/doba/Documents/TechnikumWien/3. Semester/Solution Deployment & Communication/dsc-final-project-epic-ml-visualizer/dsc_data/noway4u_sir/match_participant_summaries_NA1_4121986304.pkl\n",
      "wrote /Users/doba/Documents/TechnikumWien/3. Semester/Solution Deployment & Communication/dsc-final-project-epic-ml-visualizer/dsc_data/noway4u_sir/match_participant_summaries_NA1_4121902442.pkl\n",
      "wrote /Users/doba/Documents/TechnikumWien/3. Semester/Solution Deployment & Communication/dsc-final-project-epic-ml-visualizer/dsc_data/noway4u_sir/match_participant_summaries_NA1_4121786986.pkl\n",
      "wrote /Users/doba/Documents/TechnikumWien/3. Semester/Solution Deployment & Communication/dsc-final-project-epic-ml-visualizer/dsc_data/noway4u_sir/match_participant_summaries_NA1_4121510202.pkl\n",
      "wrote /Users/doba/Documents/TechnikumWien/3. Semester/Solution Deployment & Communication/dsc-final-project-epic-ml-visualizer/dsc_data/noway4u_sir/match_participant_summaries_NA1_4119331516.pkl\n",
      "wrote /Users/doba/Documents/TechnikumWien/3. Semester/Solution Deployment & Communication/dsc-final-project-epic-ml-visualizer/dsc_data/noway4u_sir/match_participant_summaries_NA1_4121616007.pkl\n",
      "wrote /Users/doba/Documents/TechnikumWien/3. Semester/Solution Deployment & Communication/dsc-final-project-epic-ml-visualizer/dsc_data/noway4u_sir/match_participant_summaries_NA1_4121512011.pkl\n",
      "wrote /Users/doba/Documents/TechnikumWien/3. Semester/Solution Deployment & Communication/dsc-final-project-epic-ml-visualizer/dsc_data/noway4u_sir/match_participant_summaries_NA1_4120666300.pkl\n",
      "wrote /Users/doba/Documents/TechnikumWien/3. Semester/Solution Deployment & Communication/dsc-final-project-epic-ml-visualizer/dsc_data/noway4u_sir/match_participant_summaries_NA1_4120580479.pkl\n",
      "wrote /Users/doba/Documents/TechnikumWien/3. Semester/Solution Deployment & Communication/dsc-final-project-epic-ml-visualizer/dsc_data/noway4u_sir/match_participant_summaries_NA1_4120734190.pkl\n",
      "wrote /Users/doba/Documents/TechnikumWien/3. Semester/Solution Deployment & Communication/dsc-final-project-epic-ml-visualizer/dsc_data/noway4u_sir/match_participant_summaries_NA1_4123022615.pkl\n",
      "wrote /Users/doba/Documents/TechnikumWien/3. Semester/Solution Deployment & Communication/dsc-final-project-epic-ml-visualizer/dsc_data/noway4u_sir/match_participant_summaries_NA1_4122855882.pkl\n"
     ]
    },
    {
     "name": "stdout",
     "output_type": "stream",
     "text": [
      "wrote /Users/doba/Documents/TechnikumWien/3. Semester/Solution Deployment & Communication/dsc-final-project-epic-ml-visualizer/dsc_data/noway4u_sir/match_participant_summaries_NA1_4122872258.pkl\n",
      "wrote /Users/doba/Documents/TechnikumWien/3. Semester/Solution Deployment & Communication/dsc-final-project-epic-ml-visualizer/dsc_data/noway4u_sir/match_participant_summaries_NA1_4122840220.pkl\n",
      "wrote /Users/doba/Documents/TechnikumWien/3. Semester/Solution Deployment & Communication/dsc-final-project-epic-ml-visualizer/dsc_data/noway4u_sir/match_participant_summaries_NA1_4122101140.pkl\n",
      "wrote /Users/doba/Documents/TechnikumWien/3. Semester/Solution Deployment & Communication/dsc-final-project-epic-ml-visualizer/dsc_data/noway4u_sir/match_participant_summaries_NA1_4121762938.pkl\n",
      "wrote /Users/doba/Documents/TechnikumWien/3. Semester/Solution Deployment & Communication/dsc-final-project-epic-ml-visualizer/dsc_data/noway4u_sir/match_participant_summaries_NA1_4120609128.pkl\n",
      "wrote /Users/doba/Documents/TechnikumWien/3. Semester/Solution Deployment & Communication/dsc-final-project-epic-ml-visualizer/dsc_data/noway4u_sir/match_participant_summaries_NA1_4123006893.pkl\n",
      "wrote /Users/doba/Documents/TechnikumWien/3. Semester/Solution Deployment & Communication/dsc-final-project-epic-ml-visualizer/dsc_data/noway4u_sir/match_participant_summaries_NA1_4123010103.pkl\n",
      "wrote /Users/doba/Documents/TechnikumWien/3. Semester/Solution Deployment & Communication/dsc-final-project-epic-ml-visualizer/dsc_data/noway4u_sir/match_participant_summaries_NA1_4123093726.pkl\n",
      "wrote /Users/doba/Documents/TechnikumWien/3. Semester/Solution Deployment & Communication/dsc-final-project-epic-ml-visualizer/dsc_data/noway4u_sir/match_timeline_NA1_4112918754.pkl\n",
      "wrote /Users/doba/Documents/TechnikumWien/3. Semester/Solution Deployment & Communication/dsc-final-project-epic-ml-visualizer/dsc_data/noway4u_sir/match_timeline_NA1_4113031259.pkl\n",
      "wrote /Users/doba/Documents/TechnikumWien/3. Semester/Solution Deployment & Communication/dsc-final-project-epic-ml-visualizer/dsc_data/noway4u_sir/match_timeline_NA1_4113054688.pkl\n",
      "wrote /Users/doba/Documents/TechnikumWien/3. Semester/Solution Deployment & Communication/dsc-final-project-epic-ml-visualizer/dsc_data/noway4u_sir/match_timeline_NA1_4113114496.pkl\n",
      "wrote /Users/doba/Documents/TechnikumWien/3. Semester/Solution Deployment & Communication/dsc-final-project-epic-ml-visualizer/dsc_data/noway4u_sir/match_timeline_NA1_4114353407.pkl\n",
      "wrote /Users/doba/Documents/TechnikumWien/3. Semester/Solution Deployment & Communication/dsc-final-project-epic-ml-visualizer/dsc_data/noway4u_sir/match_timeline_NA1_4114384279.pkl\n",
      "wrote /Users/doba/Documents/TechnikumWien/3. Semester/Solution Deployment & Communication/dsc-final-project-epic-ml-visualizer/dsc_data/noway4u_sir/match_timeline_NA1_4114410624.pkl\n",
      "wrote /Users/doba/Documents/TechnikumWien/3. Semester/Solution Deployment & Communication/dsc-final-project-epic-ml-visualizer/dsc_data/noway4u_sir/match_timeline_NA1_4114572094.pkl\n",
      "wrote /Users/doba/Documents/TechnikumWien/3. Semester/Solution Deployment & Communication/dsc-final-project-epic-ml-visualizer/dsc_data/noway4u_sir/match_timeline_NA1_4114896489.pkl\n",
      "wrote /Users/doba/Documents/TechnikumWien/3. Semester/Solution Deployment & Communication/dsc-final-project-epic-ml-visualizer/dsc_data/noway4u_sir/match_timeline_NA1_4115483709.pkl\n",
      "wrote /Users/doba/Documents/TechnikumWien/3. Semester/Solution Deployment & Communication/dsc-final-project-epic-ml-visualizer/dsc_data/noway4u_sir/match_timeline_NA1_4115495602.pkl\n",
      "wrote /Users/doba/Documents/TechnikumWien/3. Semester/Solution Deployment & Communication/dsc-final-project-epic-ml-visualizer/dsc_data/noway4u_sir/match_timeline_NA1_4115509715.pkl\n",
      "wrote /Users/doba/Documents/TechnikumWien/3. Semester/Solution Deployment & Communication/dsc-final-project-epic-ml-visualizer/dsc_data/noway4u_sir/match_timeline_NA1_4116366488.pkl\n",
      "wrote /Users/doba/Documents/TechnikumWien/3. Semester/Solution Deployment & Communication/dsc-final-project-epic-ml-visualizer/dsc_data/noway4u_sir/match_timeline_NA1_4116741548.pkl\n",
      "wrote /Users/doba/Documents/TechnikumWien/3. Semester/Solution Deployment & Communication/dsc-final-project-epic-ml-visualizer/dsc_data/noway4u_sir/match_timeline_NA1_4116748183.pkl\n",
      "wrote /Users/doba/Documents/TechnikumWien/3. Semester/Solution Deployment & Communication/dsc-final-project-epic-ml-visualizer/dsc_data/noway4u_sir/match_timeline_NA1_4117096306.pkl\n",
      "wrote /Users/doba/Documents/TechnikumWien/3. Semester/Solution Deployment & Communication/dsc-final-project-epic-ml-visualizer/dsc_data/noway4u_sir/match_timeline_NA1_4117881867.pkl\n",
      "wrote /Users/doba/Documents/TechnikumWien/3. Semester/Solution Deployment & Communication/dsc-final-project-epic-ml-visualizer/dsc_data/noway4u_sir/match_timeline_NA1_4117897084.pkl\n",
      "wrote /Users/doba/Documents/TechnikumWien/3. Semester/Solution Deployment & Communication/dsc-final-project-epic-ml-visualizer/dsc_data/noway4u_sir/match_timeline_NA1_4117971821.pkl\n",
      "wrote /Users/doba/Documents/TechnikumWien/3. Semester/Solution Deployment & Communication/dsc-final-project-epic-ml-visualizer/dsc_data/noway4u_sir/match_timeline_NA1_4117985954.pkl\n",
      "wrote /Users/doba/Documents/TechnikumWien/3. Semester/Solution Deployment & Communication/dsc-final-project-epic-ml-visualizer/dsc_data/noway4u_sir/match_timeline_NA1_4118140558.pkl\n",
      "wrote /Users/doba/Documents/TechnikumWien/3. Semester/Solution Deployment & Communication/dsc-final-project-epic-ml-visualizer/dsc_data/noway4u_sir/match_timeline_NA1_4118145454.pkl\n",
      "wrote /Users/doba/Documents/TechnikumWien/3. Semester/Solution Deployment & Communication/dsc-final-project-epic-ml-visualizer/dsc_data/noway4u_sir/match_timeline_NA1_4119331516.pkl\n",
      "wrote /Users/doba/Documents/TechnikumWien/3. Semester/Solution Deployment & Communication/dsc-final-project-epic-ml-visualizer/dsc_data/noway4u_sir/match_timeline_NA1_4119412825.pkl\n",
      "wrote /Users/doba/Documents/TechnikumWien/3. Semester/Solution Deployment & Communication/dsc-final-project-epic-ml-visualizer/dsc_data/noway4u_sir/match_timeline_NA1_4119487449.pkl\n",
      "wrote /Users/doba/Documents/TechnikumWien/3. Semester/Solution Deployment & Communication/dsc-final-project-epic-ml-visualizer/dsc_data/noway4u_sir/match_timeline_NA1_4119574152.pkl\n",
      "wrote /Users/doba/Documents/TechnikumWien/3. Semester/Solution Deployment & Communication/dsc-final-project-epic-ml-visualizer/dsc_data/noway4u_sir/match_timeline_NA1_4119588134.pkl\n",
      "wrote /Users/doba/Documents/TechnikumWien/3. Semester/Solution Deployment & Communication/dsc-final-project-epic-ml-visualizer/dsc_data/noway4u_sir/match_timeline_NA1_4119673297.pkl\n",
      "wrote /Users/doba/Documents/TechnikumWien/3. Semester/Solution Deployment & Communication/dsc-final-project-epic-ml-visualizer/dsc_data/noway4u_sir/match_timeline_NA1_4119907297.pkl\n",
      "wrote /Users/doba/Documents/TechnikumWien/3. Semester/Solution Deployment & Communication/dsc-final-project-epic-ml-visualizer/dsc_data/noway4u_sir/match_timeline_NA1_4119985066.pkl\n",
      "wrote /Users/doba/Documents/TechnikumWien/3. Semester/Solution Deployment & Communication/dsc-final-project-epic-ml-visualizer/dsc_data/noway4u_sir/match_timeline_NA1_4120457571.pkl\n",
      "wrote /Users/doba/Documents/TechnikumWien/3. Semester/Solution Deployment & Communication/dsc-final-project-epic-ml-visualizer/dsc_data/noway4u_sir/match_timeline_NA1_4120580479.pkl\n",
      "wrote /Users/doba/Documents/TechnikumWien/3. Semester/Solution Deployment & Communication/dsc-final-project-epic-ml-visualizer/dsc_data/noway4u_sir/match_timeline_NA1_4120609128.pkl\n",
      "wrote /Users/doba/Documents/TechnikumWien/3. Semester/Solution Deployment & Communication/dsc-final-project-epic-ml-visualizer/dsc_data/noway4u_sir/match_timeline_NA1_4120666300.pkl\n",
      "wrote /Users/doba/Documents/TechnikumWien/3. Semester/Solution Deployment & Communication/dsc-final-project-epic-ml-visualizer/dsc_data/noway4u_sir/match_timeline_NA1_4120734190.pkl\n",
      "wrote /Users/doba/Documents/TechnikumWien/3. Semester/Solution Deployment & Communication/dsc-final-project-epic-ml-visualizer/dsc_data/noway4u_sir/match_timeline_NA1_4121510202.pkl\n",
      "wrote /Users/doba/Documents/TechnikumWien/3. Semester/Solution Deployment & Communication/dsc-final-project-epic-ml-visualizer/dsc_data/noway4u_sir/match_timeline_NA1_4121512011.pkl\n"
     ]
    },
    {
     "name": "stdout",
     "output_type": "stream",
     "text": [
      "wrote /Users/doba/Documents/TechnikumWien/3. Semester/Solution Deployment & Communication/dsc-final-project-epic-ml-visualizer/dsc_data/noway4u_sir/match_timeline_NA1_4121616007.pkl\n",
      "wrote /Users/doba/Documents/TechnikumWien/3. Semester/Solution Deployment & Communication/dsc-final-project-epic-ml-visualizer/dsc_data/noway4u_sir/match_timeline_NA1_4121762938.pkl\n",
      "wrote /Users/doba/Documents/TechnikumWien/3. Semester/Solution Deployment & Communication/dsc-final-project-epic-ml-visualizer/dsc_data/noway4u_sir/match_timeline_NA1_4121786986.pkl\n",
      "wrote /Users/doba/Documents/TechnikumWien/3. Semester/Solution Deployment & Communication/dsc-final-project-epic-ml-visualizer/dsc_data/noway4u_sir/match_timeline_NA1_4121902442.pkl\n",
      "wrote /Users/doba/Documents/TechnikumWien/3. Semester/Solution Deployment & Communication/dsc-final-project-epic-ml-visualizer/dsc_data/noway4u_sir/match_timeline_NA1_4121986304.pkl\n",
      "wrote /Users/doba/Documents/TechnikumWien/3. Semester/Solution Deployment & Communication/dsc-final-project-epic-ml-visualizer/dsc_data/noway4u_sir/match_timeline_NA1_4122101140.pkl\n",
      "wrote /Users/doba/Documents/TechnikumWien/3. Semester/Solution Deployment & Communication/dsc-final-project-epic-ml-visualizer/dsc_data/noway4u_sir/match_timeline_NA1_4122840220.pkl\n",
      "wrote /Users/doba/Documents/TechnikumWien/3. Semester/Solution Deployment & Communication/dsc-final-project-epic-ml-visualizer/dsc_data/noway4u_sir/match_timeline_NA1_4122855882.pkl\n",
      "wrote /Users/doba/Documents/TechnikumWien/3. Semester/Solution Deployment & Communication/dsc-final-project-epic-ml-visualizer/dsc_data/noway4u_sir/match_timeline_NA1_4122872258.pkl\n",
      "wrote /Users/doba/Documents/TechnikumWien/3. Semester/Solution Deployment & Communication/dsc-final-project-epic-ml-visualizer/dsc_data/noway4u_sir/match_timeline_NA1_4123006893.pkl\n",
      "wrote /Users/doba/Documents/TechnikumWien/3. Semester/Solution Deployment & Communication/dsc-final-project-epic-ml-visualizer/dsc_data/noway4u_sir/match_timeline_NA1_4123010103.pkl\n",
      "wrote /Users/doba/Documents/TechnikumWien/3. Semester/Solution Deployment & Communication/dsc-final-project-epic-ml-visualizer/dsc_data/noway4u_sir/match_timeline_NA1_4123022615.pkl\n",
      "wrote /Users/doba/Documents/TechnikumWien/3. Semester/Solution Deployment & Communication/dsc-final-project-epic-ml-visualizer/dsc_data/noway4u_sir/match_timeline_NA1_4123093726.pkl\n"
     ]
    }
   ],
   "source": [
    "nw_matches, nw_summaries, nw_timelines = write_50_lol_matches('noway4u_sir')"
   ]
  },
  {
   "cell_type": "markdown",
   "id": "8664e4df",
   "metadata": {},
   "source": [
    "<a id='findchats'></a>\n",
    "## Step 2: Read Chat from matches of whole gaming session | ([Jump to Contents](#content))"
   ]
  },
  {
   "cell_type": "code",
   "execution_count": 56,
   "id": "4842aabc",
   "metadata": {},
   "outputs": [],
   "source": [
    "# helper functions for reading chat data\n",
    "\n",
    "def map_chatlog_row(text: str):\n",
    "    try:\n",
    "        splitted = text.split(': ', 1)\n",
    "        if len(splitted) == 1:\n",
    "            return None\n",
    "\n",
    "        if len(splitted) != 2:\n",
    "            index_date_end = text.index(']')\n",
    "            time = text[1: index_date_end]\n",
    "            time = time.replace(' ', 'T')\n",
    "            channel_start_idx = text.index(' ', index_date_end + 1)\n",
    "            channel_end_idx = text.index(' ', channel_start_idx + 1)\n",
    "            channel = text[channel_start_idx + 1:channel_end_idx]\n",
    "            channel = channel[1:]\n",
    "            text = text[channel_end_idx:]\n",
    "            text = text.strip()\n",
    "            return {'datetime': time, 'channel': channel, 'text': text}\n",
    "        else:\n",
    "            left = splitted[0]\n",
    "            right = splitted[1]\n",
    "\n",
    "            lefties = left.split(\" \")\n",
    "            if len(lefties) == 4:\n",
    "                time = f'{lefties[0][1:]}T{lefties[1][:-1]}'\n",
    "                channel = lefties[2][1:]\n",
    "                username = lefties[3]\n",
    "            else:\n",
    "                time = lefties[0][1:-1]\n",
    "                channel = lefties[1][1:]\n",
    "                username = lefties[2]\n",
    "\n",
    "            text = right.strip()\n",
    "\n",
    "            return {'datetime': time, 'channel': channel, 'author_name':username, 'text': text}\n",
    "    except Exception as e:\n",
    "        _logger.error(f\"invalid format of line '{text}\")\n",
    "        raise e\n",
    "        \n",
    "        \n",
    "def ts_from_str(dt_str) -> int:\n",
    "    dt_str = dt_str.replace(' ', 'T')\n",
    "    if '.' not in dt_str:\n",
    "        dt_str = dt_str + \".0\"\n",
    "    dt = strptime(dt_str, '%Y-%m-%dT%H:%M:%S.%f')[0:6]\n",
    "    return int(datetime(*dt).replace(tzinfo=timezone.utc).timestamp())\n",
    "\n",
    "def utc_datetime_from_ts(ts) -> datetime:\n",
    "    return datetime.utcfromtimestamp(ts)"
   ]
  },
  {
   "cell_type": "code",
   "execution_count": 57,
   "id": "5307350e",
   "metadata": {
    "pycharm": {
     "name": "#%%\n"
    }
   },
   "outputs": [],
   "source": [
    "def get_channel_path(playername):\n",
    "    rawdata_path = Path('/Users/doba/Documents/epicml_data/dataservice_instance/rawdata')\n",
    "    return rawdata_path.joinpath(playername)\n",
    "\n",
    "def get_logfiles_by_pattern(channel_path, log_patterns):\n",
    "    return [channel_path.joinpath(file) for pattern in log_patterns for file in os.listdir(channel_path) if pattern in file]\n"
   ]
  },
  {
   "cell_type": "code",
   "execution_count": 58,
   "id": "a009a3b7",
   "metadata": {},
   "outputs": [],
   "source": [
    "## Functions to read raw log files for matches\n",
    "def convert_match_start_end_summaries(match_summaries):\n",
    "    match_ids = []\n",
    "    durations = []\n",
    "    start_dates = []\n",
    "    end_dates = []\n",
    "    for match in match_summaries:\n",
    "        match_ids.append(match['matchId'])\n",
    "        durations.append(match['gameDuration_ms'])\n",
    "        start_dates.append(match['gameStartTimestamp_date'])\n",
    "        if match['gameDuration_ms'] < 10000:\n",
    "            end_dates.append(match['gameStartTimestamp_date'] + timedelta(seconds=match['gameDuration_ms']))\n",
    "        else:\n",
    "            end_dates.append(match['gameStartTimestamp_date'] + timedelta(milliseconds=match['gameDuration_ms']))\n",
    "    df_matches = pd.DataFrame({\n",
    "        'matchId': match_ids,\n",
    "        'duration_ms': durations,\n",
    "        'start_date': start_dates,\n",
    "        'end_date': end_dates\n",
    "    })\n",
    "    df_matches.set_index('start_date', inplace=True)\n",
    "    df_matches.sort_index(inplace=True)\n",
    "    df_matches['start_log_file_pattern'] = df_matches.index.map(lambda x: x.strftime(\"%y_%m_%d.log\"))\n",
    "    df_matches['end_log_file_pattern'] = df_matches.loc[:, 'end_date'].map(lambda x: x.strftime(\"%y_%m_%d.log\"))\n",
    "    return df_matches\n",
    "\n",
    "tf_matches_dt_summ = convert_match_start_end_summaries(tf_summaries)\n",
    "nw_matches_dt_summ = convert_match_start_end_summaries(nw_summaries)"
   ]
  },
  {
   "cell_type": "code",
   "execution_count": 59,
   "id": "4703b44f",
   "metadata": {},
   "outputs": [
    {
     "data": {
      "text/html": [
       "<div>\n",
       "<style scoped>\n",
       "    .dataframe tbody tr th:only-of-type {\n",
       "        vertical-align: middle;\n",
       "    }\n",
       "\n",
       "    .dataframe tbody tr th {\n",
       "        vertical-align: top;\n",
       "    }\n",
       "\n",
       "    .dataframe thead th {\n",
       "        text-align: right;\n",
       "    }\n",
       "</style>\n",
       "<table border=\"1\" class=\"dataframe\">\n",
       "  <thead>\n",
       "    <tr style=\"text-align: right;\">\n",
       "      <th></th>\n",
       "      <th>matchId</th>\n",
       "      <th>duration_ms</th>\n",
       "      <th>end_date</th>\n",
       "      <th>start_log_file_pattern</th>\n",
       "      <th>end_log_file_pattern</th>\n",
       "    </tr>\n",
       "    <tr>\n",
       "      <th>start_date</th>\n",
       "      <th></th>\n",
       "      <th></th>\n",
       "      <th></th>\n",
       "      <th></th>\n",
       "      <th></th>\n",
       "    </tr>\n",
       "  </thead>\n",
       "  <tbody>\n",
       "    <tr>\n",
       "      <th>2021-09-03 16:05:49.349</th>\n",
       "      <td>NA1_4031221294</td>\n",
       "      <td>1292339</td>\n",
       "      <td>2021-09-03 16:27:21.688</td>\n",
       "      <td>21_09_03.log</td>\n",
       "      <td>21_09_03.log</td>\n",
       "    </tr>\n",
       "    <tr>\n",
       "      <th>2021-09-05 21:39:06.064</th>\n",
       "      <td>NA1_4033488515</td>\n",
       "      <td>1302948</td>\n",
       "      <td>2021-09-05 22:00:49.012</td>\n",
       "      <td>21_09_05.log</td>\n",
       "      <td>21_09_05.log</td>\n",
       "    </tr>\n",
       "    <tr>\n",
       "      <th>2021-09-06 00:06:31.904</th>\n",
       "      <td>NA1_4033596036</td>\n",
       "      <td>1894085</td>\n",
       "      <td>2021-09-06 00:38:05.989</td>\n",
       "      <td>21_09_06.log</td>\n",
       "      <td>21_09_06.log</td>\n",
       "    </tr>\n",
       "    <tr>\n",
       "      <th>2021-09-06 13:56:00.508</th>\n",
       "      <td>NA1_4034134889</td>\n",
       "      <td>1473624</td>\n",
       "      <td>2021-09-06 14:20:34.132</td>\n",
       "      <td>21_09_06.log</td>\n",
       "      <td>21_09_06.log</td>\n",
       "    </tr>\n",
       "    <tr>\n",
       "      <th>2021-09-20 02:55:09.143</th>\n",
       "      <td>NA1_4047445107</td>\n",
       "      <td>1333140</td>\n",
       "      <td>2021-09-20 03:17:22.283</td>\n",
       "      <td>21_09_20.log</td>\n",
       "      <td>21_09_20.log</td>\n",
       "    </tr>\n",
       "    <tr>\n",
       "      <th>2021-10-24 17:43:07.182</th>\n",
       "      <td>NA1_4080550359</td>\n",
       "      <td>1355</td>\n",
       "      <td>2021-10-24 18:05:42.182</td>\n",
       "      <td>21_10_24.log</td>\n",
       "      <td>21_10_24.log</td>\n",
       "    </tr>\n",
       "    <tr>\n",
       "      <th>2021-10-24 18:20:57.804</th>\n",
       "      <td>NA1_4080573084</td>\n",
       "      <td>2160</td>\n",
       "      <td>2021-10-24 18:56:57.804</td>\n",
       "      <td>21_10_24.log</td>\n",
       "      <td>21_10_24.log</td>\n",
       "    </tr>\n",
       "    <tr>\n",
       "      <th>2021-10-24 19:04:03.763</th>\n",
       "      <td>NA1_4080577212</td>\n",
       "      <td>958</td>\n",
       "      <td>2021-10-24 19:20:01.763</td>\n",
       "      <td>21_10_24.log</td>\n",
       "      <td>21_10_24.log</td>\n",
       "    </tr>\n",
       "    <tr>\n",
       "      <th>2021-10-24 19:42:17.084</th>\n",
       "      <td>NA1_4080660913</td>\n",
       "      <td>1765</td>\n",
       "      <td>2021-10-24 20:11:42.084</td>\n",
       "      <td>21_10_24.log</td>\n",
       "      <td>21_10_24.log</td>\n",
       "    </tr>\n",
       "    <tr>\n",
       "      <th>2021-10-25 00:46:38.530</th>\n",
       "      <td>NA1_4080848287</td>\n",
       "      <td>1975</td>\n",
       "      <td>2021-10-25 01:19:33.530</td>\n",
       "      <td>21_10_25.log</td>\n",
       "      <td>21_10_25.log</td>\n",
       "    </tr>\n",
       "    <tr>\n",
       "      <th>2021-10-25 01:29:55.950</th>\n",
       "      <td>NA1_4080885402</td>\n",
       "      <td>1322</td>\n",
       "      <td>2021-10-25 01:51:57.950</td>\n",
       "      <td>21_10_25.log</td>\n",
       "      <td>21_10_25.log</td>\n",
       "    </tr>\n",
       "    <tr>\n",
       "      <th>2021-10-25 01:57:15.787</th>\n",
       "      <td>NA1_4080918526</td>\n",
       "      <td>1597</td>\n",
       "      <td>2021-10-25 02:23:52.787</td>\n",
       "      <td>21_10_25.log</td>\n",
       "      <td>21_10_25.log</td>\n",
       "    </tr>\n",
       "    <tr>\n",
       "      <th>2021-10-25 11:35:11.316</th>\n",
       "      <td>NA1_4081298888</td>\n",
       "      <td>1781</td>\n",
       "      <td>2021-10-25 12:04:52.316</td>\n",
       "      <td>21_10_25.log</td>\n",
       "      <td>21_10_25.log</td>\n",
       "    </tr>\n",
       "    <tr>\n",
       "      <th>2021-10-25 12:14:59.801</th>\n",
       "      <td>NA1_4081350583</td>\n",
       "      <td>1363</td>\n",
       "      <td>2021-10-25 12:37:42.801</td>\n",
       "      <td>21_10_25.log</td>\n",
       "      <td>21_10_25.log</td>\n",
       "    </tr>\n",
       "    <tr>\n",
       "      <th>2021-10-25 12:43:58.902</th>\n",
       "      <td>NA1_4081322273</td>\n",
       "      <td>1601</td>\n",
       "      <td>2021-10-25 13:10:39.902</td>\n",
       "      <td>21_10_25.log</td>\n",
       "      <td>21_10_25.log</td>\n",
       "    </tr>\n",
       "    <tr>\n",
       "      <th>2021-10-25 13:22:32.738</th>\n",
       "      <td>NA1_4081362826</td>\n",
       "      <td>1131</td>\n",
       "      <td>2021-10-25 13:41:23.738</td>\n",
       "      <td>21_10_25.log</td>\n",
       "      <td>21_10_25.log</td>\n",
       "    </tr>\n",
       "    <tr>\n",
       "      <th>2021-10-25 13:53:01.432</th>\n",
       "      <td>NA1_4081315391</td>\n",
       "      <td>1600</td>\n",
       "      <td>2021-10-25 14:19:41.432</td>\n",
       "      <td>21_10_25.log</td>\n",
       "      <td>21_10_25.log</td>\n",
       "    </tr>\n",
       "    <tr>\n",
       "      <th>2021-10-25 14:26:22.419</th>\n",
       "      <td>NA1_4081307165</td>\n",
       "      <td>1229</td>\n",
       "      <td>2021-10-25 14:46:51.419</td>\n",
       "      <td>21_10_25.log</td>\n",
       "      <td>21_10_25.log</td>\n",
       "    </tr>\n",
       "    <tr>\n",
       "      <th>2021-10-25 15:01:01.525</th>\n",
       "      <td>NA1_4081347519</td>\n",
       "      <td>1647</td>\n",
       "      <td>2021-10-25 15:28:28.525</td>\n",
       "      <td>21_10_25.log</td>\n",
       "      <td>21_10_25.log</td>\n",
       "    </tr>\n",
       "    <tr>\n",
       "      <th>2021-10-25 15:38:47.031</th>\n",
       "      <td>NA1_4081370825</td>\n",
       "      <td>2236</td>\n",
       "      <td>2021-10-25 16:16:03.031</td>\n",
       "      <td>21_10_25.log</td>\n",
       "      <td>21_10_25.log</td>\n",
       "    </tr>\n",
       "    <tr>\n",
       "      <th>2021-10-25 16:23:51.878</th>\n",
       "      <td>NA1_4081392599</td>\n",
       "      <td>1421</td>\n",
       "      <td>2021-10-25 16:47:32.878</td>\n",
       "      <td>21_10_25.log</td>\n",
       "      <td>21_10_25.log</td>\n",
       "    </tr>\n",
       "    <tr>\n",
       "      <th>2021-10-25 17:00:45.140</th>\n",
       "      <td>NA1_4081375553</td>\n",
       "      <td>2205</td>\n",
       "      <td>2021-10-25 17:37:30.140</td>\n",
       "      <td>21_10_25.log</td>\n",
       "      <td>21_10_25.log</td>\n",
       "    </tr>\n",
       "    <tr>\n",
       "      <th>2021-10-25 22:17:39.255</th>\n",
       "      <td>NA1_4081579604</td>\n",
       "      <td>1231</td>\n",
       "      <td>2021-10-25 22:38:10.255</td>\n",
       "      <td>21_10_25.log</td>\n",
       "      <td>21_10_25.log</td>\n",
       "    </tr>\n",
       "    <tr>\n",
       "      <th>2021-10-25 22:50:25.629</th>\n",
       "      <td>NA1_4081624340</td>\n",
       "      <td>1828</td>\n",
       "      <td>2021-10-25 23:20:53.629</td>\n",
       "      <td>21_10_25.log</td>\n",
       "      <td>21_10_25.log</td>\n",
       "    </tr>\n",
       "    <tr>\n",
       "      <th>2021-10-28 21:57:16.036</th>\n",
       "      <td>NA1_4084522676</td>\n",
       "      <td>1698</td>\n",
       "      <td>2021-10-28 22:25:34.036</td>\n",
       "      <td>21_10_28.log</td>\n",
       "      <td>21_10_28.log</td>\n",
       "    </tr>\n",
       "    <tr>\n",
       "      <th>2021-10-30 19:03:46.488</th>\n",
       "      <td>NA1_4086247142</td>\n",
       "      <td>1671</td>\n",
       "      <td>2021-10-30 19:31:37.488</td>\n",
       "      <td>21_10_30.log</td>\n",
       "      <td>21_10_30.log</td>\n",
       "    </tr>\n",
       "    <tr>\n",
       "      <th>2022-01-02 08:04:25.307</th>\n",
       "      <td>NA1_4161383123</td>\n",
       "      <td>991</td>\n",
       "      <td>2022-01-02 08:20:56.307</td>\n",
       "      <td>22_01_02.log</td>\n",
       "      <td>22_01_02.log</td>\n",
       "    </tr>\n",
       "    <tr>\n",
       "      <th>2022-01-02 08:28:46.795</th>\n",
       "      <td>NA1_4161375973</td>\n",
       "      <td>2187</td>\n",
       "      <td>2022-01-02 09:05:13.795</td>\n",
       "      <td>22_01_02.log</td>\n",
       "      <td>22_01_02.log</td>\n",
       "    </tr>\n",
       "    <tr>\n",
       "      <th>2022-01-05 23:56:15.736</th>\n",
       "      <td>NA1_4165922398</td>\n",
       "      <td>1585</td>\n",
       "      <td>2022-01-06 00:22:40.736</td>\n",
       "      <td>22_01_05.log</td>\n",
       "      <td>22_01_06.log</td>\n",
       "    </tr>\n",
       "    <tr>\n",
       "      <th>2022-01-06 00:28:36.281</th>\n",
       "      <td>NA1_4165927815</td>\n",
       "      <td>1211</td>\n",
       "      <td>2022-01-06 00:48:47.281</td>\n",
       "      <td>22_01_06.log</td>\n",
       "      <td>22_01_06.log</td>\n",
       "    </tr>\n",
       "    <tr>\n",
       "      <th>2022-01-06 12:34:59.321</th>\n",
       "      <td>NA1_4166563128</td>\n",
       "      <td>1501</td>\n",
       "      <td>2022-01-06 13:00:00.321</td>\n",
       "      <td>22_01_06.log</td>\n",
       "      <td>22_01_06.log</td>\n",
       "    </tr>\n",
       "    <tr>\n",
       "      <th>2022-01-06 13:06:49.896</th>\n",
       "      <td>NA1_4166554911</td>\n",
       "      <td>1331</td>\n",
       "      <td>2022-01-06 13:29:00.896</td>\n",
       "      <td>22_01_06.log</td>\n",
       "      <td>22_01_06.log</td>\n",
       "    </tr>\n",
       "    <tr>\n",
       "      <th>2022-01-06 13:34:27.662</th>\n",
       "      <td>NA1_4166576153</td>\n",
       "      <td>1245</td>\n",
       "      <td>2022-01-06 13:55:12.662</td>\n",
       "      <td>22_01_06.log</td>\n",
       "      <td>22_01_06.log</td>\n",
       "    </tr>\n",
       "    <tr>\n",
       "      <th>2022-01-06 14:12:58.088</th>\n",
       "      <td>NA1_4166568236</td>\n",
       "      <td>1381</td>\n",
       "      <td>2022-01-06 14:35:59.088</td>\n",
       "      <td>22_01_06.log</td>\n",
       "      <td>22_01_06.log</td>\n",
       "    </tr>\n",
       "    <tr>\n",
       "      <th>2022-01-06 14:42:33.804</th>\n",
       "      <td>NA1_4166639836</td>\n",
       "      <td>1333</td>\n",
       "      <td>2022-01-06 15:04:46.804</td>\n",
       "      <td>22_01_06.log</td>\n",
       "      <td>22_01_06.log</td>\n",
       "    </tr>\n",
       "    <tr>\n",
       "      <th>2022-01-06 15:11:33.778</th>\n",
       "      <td>NA1_4166612138</td>\n",
       "      <td>1290</td>\n",
       "      <td>2022-01-06 15:33:03.778</td>\n",
       "      <td>22_01_06.log</td>\n",
       "      <td>22_01_06.log</td>\n",
       "    </tr>\n",
       "    <tr>\n",
       "      <th>2022-01-06 15:38:39.906</th>\n",
       "      <td>NA1_4166643581</td>\n",
       "      <td>2401</td>\n",
       "      <td>2022-01-06 16:18:40.906</td>\n",
       "      <td>22_01_06.log</td>\n",
       "      <td>22_01_06.log</td>\n",
       "    </tr>\n",
       "    <tr>\n",
       "      <th>2022-01-06 18:06:00.231</th>\n",
       "      <td>NA1_4166666165</td>\n",
       "      <td>1365</td>\n",
       "      <td>2022-01-06 18:28:45.231</td>\n",
       "      <td>22_01_06.log</td>\n",
       "      <td>22_01_06.log</td>\n",
       "    </tr>\n",
       "    <tr>\n",
       "      <th>2022-01-06 18:35:07.998</th>\n",
       "      <td>NA1_4166679015</td>\n",
       "      <td>1321</td>\n",
       "      <td>2022-01-06 18:57:08.998</td>\n",
       "      <td>22_01_06.log</td>\n",
       "      <td>22_01_06.log</td>\n",
       "    </tr>\n",
       "    <tr>\n",
       "      <th>2022-01-06 19:02:16.092</th>\n",
       "      <td>NA1_4166761418</td>\n",
       "      <td>1186</td>\n",
       "      <td>2022-01-06 19:22:02.092</td>\n",
       "      <td>22_01_06.log</td>\n",
       "      <td>22_01_06.log</td>\n",
       "    </tr>\n",
       "    <tr>\n",
       "      <th>2022-01-06 19:29:35.928</th>\n",
       "      <td>NA1_4166754410</td>\n",
       "      <td>1688</td>\n",
       "      <td>2022-01-06 19:57:43.928</td>\n",
       "      <td>22_01_06.log</td>\n",
       "      <td>22_01_06.log</td>\n",
       "    </tr>\n",
       "    <tr>\n",
       "      <th>2022-01-06 20:05:54.383</th>\n",
       "      <td>NA1_4166758441</td>\n",
       "      <td>1724</td>\n",
       "      <td>2022-01-06 20:34:38.383</td>\n",
       "      <td>22_01_06.log</td>\n",
       "      <td>22_01_06.log</td>\n",
       "    </tr>\n",
       "    <tr>\n",
       "      <th>2022-01-06 20:44:24.363</th>\n",
       "      <td>NA1_4166832935</td>\n",
       "      <td>1774</td>\n",
       "      <td>2022-01-06 21:13:58.363</td>\n",
       "      <td>22_01_06.log</td>\n",
       "      <td>22_01_06.log</td>\n",
       "    </tr>\n",
       "    <tr>\n",
       "      <th>2022-01-06 21:19:59.417</th>\n",
       "      <td>NA1_4166817965</td>\n",
       "      <td>1618</td>\n",
       "      <td>2022-01-06 21:46:57.417</td>\n",
       "      <td>22_01_06.log</td>\n",
       "      <td>22_01_06.log</td>\n",
       "    </tr>\n",
       "    <tr>\n",
       "      <th>2022-01-06 22:24:25.581</th>\n",
       "      <td>NA1_4166896812</td>\n",
       "      <td>1410</td>\n",
       "      <td>2022-01-06 22:47:55.581</td>\n",
       "      <td>22_01_06.log</td>\n",
       "      <td>22_01_06.log</td>\n",
       "    </tr>\n",
       "    <tr>\n",
       "      <th>2022-01-06 22:54:38.245</th>\n",
       "      <td>NA1_4166941630</td>\n",
       "      <td>1478</td>\n",
       "      <td>2022-01-06 23:19:16.245</td>\n",
       "      <td>22_01_06.log</td>\n",
       "      <td>22_01_06.log</td>\n",
       "    </tr>\n",
       "    <tr>\n",
       "      <th>2022-01-07 00:53:07.981</th>\n",
       "      <td>NA1_4167051417</td>\n",
       "      <td>1896</td>\n",
       "      <td>2022-01-07 01:24:43.981</td>\n",
       "      <td>22_01_07.log</td>\n",
       "      <td>22_01_07.log</td>\n",
       "    </tr>\n",
       "    <tr>\n",
       "      <th>2022-01-07 01:31:01.923</th>\n",
       "      <td>NA1_4167078694</td>\n",
       "      <td>982</td>\n",
       "      <td>2022-01-07 01:47:23.923</td>\n",
       "      <td>22_01_07.log</td>\n",
       "      <td>22_01_07.log</td>\n",
       "    </tr>\n",
       "    <tr>\n",
       "      <th>2022-01-07 01:53:04.914</th>\n",
       "      <td>NA1_4167084198</td>\n",
       "      <td>1621</td>\n",
       "      <td>2022-01-07 02:20:05.914</td>\n",
       "      <td>22_01_07.log</td>\n",
       "      <td>22_01_07.log</td>\n",
       "    </tr>\n",
       "    <tr>\n",
       "      <th>2022-01-07 02:26:41.732</th>\n",
       "      <td>NA1_4167141393</td>\n",
       "      <td>1217</td>\n",
       "      <td>2022-01-07 02:46:58.732</td>\n",
       "      <td>22_01_07.log</td>\n",
       "      <td>22_01_07.log</td>\n",
       "    </tr>\n",
       "  </tbody>\n",
       "</table>\n",
       "</div>"
      ],
      "text/plain": [
       "                                matchId  duration_ms                end_date  \\\n",
       "start_date                                                                     \n",
       "2021-09-03 16:05:49.349  NA1_4031221294      1292339 2021-09-03 16:27:21.688   \n",
       "2021-09-05 21:39:06.064  NA1_4033488515      1302948 2021-09-05 22:00:49.012   \n",
       "2021-09-06 00:06:31.904  NA1_4033596036      1894085 2021-09-06 00:38:05.989   \n",
       "2021-09-06 13:56:00.508  NA1_4034134889      1473624 2021-09-06 14:20:34.132   \n",
       "2021-09-20 02:55:09.143  NA1_4047445107      1333140 2021-09-20 03:17:22.283   \n",
       "2021-10-24 17:43:07.182  NA1_4080550359         1355 2021-10-24 18:05:42.182   \n",
       "2021-10-24 18:20:57.804  NA1_4080573084         2160 2021-10-24 18:56:57.804   \n",
       "2021-10-24 19:04:03.763  NA1_4080577212          958 2021-10-24 19:20:01.763   \n",
       "2021-10-24 19:42:17.084  NA1_4080660913         1765 2021-10-24 20:11:42.084   \n",
       "2021-10-25 00:46:38.530  NA1_4080848287         1975 2021-10-25 01:19:33.530   \n",
       "2021-10-25 01:29:55.950  NA1_4080885402         1322 2021-10-25 01:51:57.950   \n",
       "2021-10-25 01:57:15.787  NA1_4080918526         1597 2021-10-25 02:23:52.787   \n",
       "2021-10-25 11:35:11.316  NA1_4081298888         1781 2021-10-25 12:04:52.316   \n",
       "2021-10-25 12:14:59.801  NA1_4081350583         1363 2021-10-25 12:37:42.801   \n",
       "2021-10-25 12:43:58.902  NA1_4081322273         1601 2021-10-25 13:10:39.902   \n",
       "2021-10-25 13:22:32.738  NA1_4081362826         1131 2021-10-25 13:41:23.738   \n",
       "2021-10-25 13:53:01.432  NA1_4081315391         1600 2021-10-25 14:19:41.432   \n",
       "2021-10-25 14:26:22.419  NA1_4081307165         1229 2021-10-25 14:46:51.419   \n",
       "2021-10-25 15:01:01.525  NA1_4081347519         1647 2021-10-25 15:28:28.525   \n",
       "2021-10-25 15:38:47.031  NA1_4081370825         2236 2021-10-25 16:16:03.031   \n",
       "2021-10-25 16:23:51.878  NA1_4081392599         1421 2021-10-25 16:47:32.878   \n",
       "2021-10-25 17:00:45.140  NA1_4081375553         2205 2021-10-25 17:37:30.140   \n",
       "2021-10-25 22:17:39.255  NA1_4081579604         1231 2021-10-25 22:38:10.255   \n",
       "2021-10-25 22:50:25.629  NA1_4081624340         1828 2021-10-25 23:20:53.629   \n",
       "2021-10-28 21:57:16.036  NA1_4084522676         1698 2021-10-28 22:25:34.036   \n",
       "2021-10-30 19:03:46.488  NA1_4086247142         1671 2021-10-30 19:31:37.488   \n",
       "2022-01-02 08:04:25.307  NA1_4161383123          991 2022-01-02 08:20:56.307   \n",
       "2022-01-02 08:28:46.795  NA1_4161375973         2187 2022-01-02 09:05:13.795   \n",
       "2022-01-05 23:56:15.736  NA1_4165922398         1585 2022-01-06 00:22:40.736   \n",
       "2022-01-06 00:28:36.281  NA1_4165927815         1211 2022-01-06 00:48:47.281   \n",
       "2022-01-06 12:34:59.321  NA1_4166563128         1501 2022-01-06 13:00:00.321   \n",
       "2022-01-06 13:06:49.896  NA1_4166554911         1331 2022-01-06 13:29:00.896   \n",
       "2022-01-06 13:34:27.662  NA1_4166576153         1245 2022-01-06 13:55:12.662   \n",
       "2022-01-06 14:12:58.088  NA1_4166568236         1381 2022-01-06 14:35:59.088   \n",
       "2022-01-06 14:42:33.804  NA1_4166639836         1333 2022-01-06 15:04:46.804   \n",
       "2022-01-06 15:11:33.778  NA1_4166612138         1290 2022-01-06 15:33:03.778   \n",
       "2022-01-06 15:38:39.906  NA1_4166643581         2401 2022-01-06 16:18:40.906   \n",
       "2022-01-06 18:06:00.231  NA1_4166666165         1365 2022-01-06 18:28:45.231   \n",
       "2022-01-06 18:35:07.998  NA1_4166679015         1321 2022-01-06 18:57:08.998   \n",
       "2022-01-06 19:02:16.092  NA1_4166761418         1186 2022-01-06 19:22:02.092   \n",
       "2022-01-06 19:29:35.928  NA1_4166754410         1688 2022-01-06 19:57:43.928   \n",
       "2022-01-06 20:05:54.383  NA1_4166758441         1724 2022-01-06 20:34:38.383   \n",
       "2022-01-06 20:44:24.363  NA1_4166832935         1774 2022-01-06 21:13:58.363   \n",
       "2022-01-06 21:19:59.417  NA1_4166817965         1618 2022-01-06 21:46:57.417   \n",
       "2022-01-06 22:24:25.581  NA1_4166896812         1410 2022-01-06 22:47:55.581   \n",
       "2022-01-06 22:54:38.245  NA1_4166941630         1478 2022-01-06 23:19:16.245   \n",
       "2022-01-07 00:53:07.981  NA1_4167051417         1896 2022-01-07 01:24:43.981   \n",
       "2022-01-07 01:31:01.923  NA1_4167078694          982 2022-01-07 01:47:23.923   \n",
       "2022-01-07 01:53:04.914  NA1_4167084198         1621 2022-01-07 02:20:05.914   \n",
       "2022-01-07 02:26:41.732  NA1_4167141393         1217 2022-01-07 02:46:58.732   \n",
       "\n",
       "                        start_log_file_pattern end_log_file_pattern  \n",
       "start_date                                                           \n",
       "2021-09-03 16:05:49.349           21_09_03.log         21_09_03.log  \n",
       "2021-09-05 21:39:06.064           21_09_05.log         21_09_05.log  \n",
       "2021-09-06 00:06:31.904           21_09_06.log         21_09_06.log  \n",
       "2021-09-06 13:56:00.508           21_09_06.log         21_09_06.log  \n",
       "2021-09-20 02:55:09.143           21_09_20.log         21_09_20.log  \n",
       "2021-10-24 17:43:07.182           21_10_24.log         21_10_24.log  \n",
       "2021-10-24 18:20:57.804           21_10_24.log         21_10_24.log  \n",
       "2021-10-24 19:04:03.763           21_10_24.log         21_10_24.log  \n",
       "2021-10-24 19:42:17.084           21_10_24.log         21_10_24.log  \n",
       "2021-10-25 00:46:38.530           21_10_25.log         21_10_25.log  \n",
       "2021-10-25 01:29:55.950           21_10_25.log         21_10_25.log  \n",
       "2021-10-25 01:57:15.787           21_10_25.log         21_10_25.log  \n",
       "2021-10-25 11:35:11.316           21_10_25.log         21_10_25.log  \n",
       "2021-10-25 12:14:59.801           21_10_25.log         21_10_25.log  \n",
       "2021-10-25 12:43:58.902           21_10_25.log         21_10_25.log  \n",
       "2021-10-25 13:22:32.738           21_10_25.log         21_10_25.log  \n",
       "2021-10-25 13:53:01.432           21_10_25.log         21_10_25.log  \n",
       "2021-10-25 14:26:22.419           21_10_25.log         21_10_25.log  \n",
       "2021-10-25 15:01:01.525           21_10_25.log         21_10_25.log  \n",
       "2021-10-25 15:38:47.031           21_10_25.log         21_10_25.log  \n",
       "2021-10-25 16:23:51.878           21_10_25.log         21_10_25.log  \n",
       "2021-10-25 17:00:45.140           21_10_25.log         21_10_25.log  \n",
       "2021-10-25 22:17:39.255           21_10_25.log         21_10_25.log  \n",
       "2021-10-25 22:50:25.629           21_10_25.log         21_10_25.log  \n",
       "2021-10-28 21:57:16.036           21_10_28.log         21_10_28.log  \n",
       "2021-10-30 19:03:46.488           21_10_30.log         21_10_30.log  \n",
       "2022-01-02 08:04:25.307           22_01_02.log         22_01_02.log  \n",
       "2022-01-02 08:28:46.795           22_01_02.log         22_01_02.log  \n",
       "2022-01-05 23:56:15.736           22_01_05.log         22_01_06.log  \n",
       "2022-01-06 00:28:36.281           22_01_06.log         22_01_06.log  \n",
       "2022-01-06 12:34:59.321           22_01_06.log         22_01_06.log  \n",
       "2022-01-06 13:06:49.896           22_01_06.log         22_01_06.log  \n",
       "2022-01-06 13:34:27.662           22_01_06.log         22_01_06.log  \n",
       "2022-01-06 14:12:58.088           22_01_06.log         22_01_06.log  \n",
       "2022-01-06 14:42:33.804           22_01_06.log         22_01_06.log  \n",
       "2022-01-06 15:11:33.778           22_01_06.log         22_01_06.log  \n",
       "2022-01-06 15:38:39.906           22_01_06.log         22_01_06.log  \n",
       "2022-01-06 18:06:00.231           22_01_06.log         22_01_06.log  \n",
       "2022-01-06 18:35:07.998           22_01_06.log         22_01_06.log  \n",
       "2022-01-06 19:02:16.092           22_01_06.log         22_01_06.log  \n",
       "2022-01-06 19:29:35.928           22_01_06.log         22_01_06.log  \n",
       "2022-01-06 20:05:54.383           22_01_06.log         22_01_06.log  \n",
       "2022-01-06 20:44:24.363           22_01_06.log         22_01_06.log  \n",
       "2022-01-06 21:19:59.417           22_01_06.log         22_01_06.log  \n",
       "2022-01-06 22:24:25.581           22_01_06.log         22_01_06.log  \n",
       "2022-01-06 22:54:38.245           22_01_06.log         22_01_06.log  \n",
       "2022-01-07 00:53:07.981           22_01_07.log         22_01_07.log  \n",
       "2022-01-07 01:31:01.923           22_01_07.log         22_01_07.log  \n",
       "2022-01-07 01:53:04.914           22_01_07.log         22_01_07.log  \n",
       "2022-01-07 02:26:41.732           22_01_07.log         22_01_07.log  "
      ]
     },
     "execution_count": 59,
     "metadata": {},
     "output_type": "execute_result"
    }
   ],
   "source": [
    "tf_matches_dt_summ"
   ]
  },
  {
   "cell_type": "code",
   "execution_count": 60,
   "id": "343c0204",
   "metadata": {},
   "outputs": [
    {
     "data": {
      "text/plain": [
       "['Nightbot',\n",
       " 'Streamlabs',\n",
       " 'StreamElements',\n",
       " 'Fossabot',\n",
       " 'Moobot',\n",
       " 'Botisimo',\n",
       " 'Wizebot',\n",
       " 'Deepbot',\n",
       " 'Phantombot']"
      ]
     },
     "execution_count": 60,
     "metadata": {},
     "output_type": "execute_result"
    }
   ],
   "source": [
    "from shared.common.analyzer.twitch_logs import possible_botlist\n",
    "possible_botlist"
   ]
  },
  {
   "cell_type": "code",
   "execution_count": 61,
   "id": "12460942",
   "metadata": {},
   "outputs": [],
   "source": [
    "def nearest(items, pivot):\n",
    "    time_diff = np.abs(items - pivot)\n",
    "    return time_diff.argmin(0)\n",
    "\n",
    "def read_chat_of_matches(playername, matches_dt_summ):\n",
    "    start_patterns = matches_dt_summ['start_log_file_pattern']\n",
    "    end_patterns = matches_dt_summ['end_log_file_pattern']\n",
    "    log_patterns = pd.concat([start_patterns, end_patterns]).unique()\n",
    "    \n",
    "    channel_path = get_channel_path(playername)\n",
    "\n",
    "    raw_messages = []\n",
    "    for file in get_logfiles_by_pattern(channel_path, log_patterns):\n",
    "        with open(file, 'r') as log_file:\n",
    "            for line in log_file:\n",
    "                if len(line) > 0:\n",
    "                    chat_row = map_chatlog_row(line)\n",
    "                    if chat_row is None:\n",
    "                        continue\n",
    "                    raw_messages.append(chat_row)\n",
    "\n",
    "    df_raw_messages = pd.DataFrame(raw_messages)\n",
    "    df_raw_messages['datetime'] = pd.to_datetime(df_raw_messages['datetime'])\n",
    "    df_raw_messages['channel'] = df_raw_messages['channel'].str.lower()\n",
    "    df_raw_messages['author_name'] = df_raw_messages['author_name'].str.lower()\n",
    "    df_raw_messages['text'] = df_raw_messages['text'].str.lower()\n",
    "    df_raw_messages.set_index('datetime', inplace=True)\n",
    "    \n",
    "    \n",
    "    df_raw_messages.drop(['author_id'], axis=1, inplace=True, errors = 'ignore')\n",
    "    \n",
    "    \n",
    "    \n",
    "    df_chat_messages = df_raw_messages.copy()\n",
    "    df_chat_messages['matchId'] = None\n",
    "    df_chat_messages['timecategory'] = 'NO_MATCH'\n",
    "\n",
    "    df_col_locs = [df_chat_messages.columns.get_loc(\"matchId\"), df_chat_messages.columns.get_loc(\"timecategory\")]\n",
    "\n",
    "    for index, row in matches_dt_summ.iterrows():\n",
    "        start_ts = index.round('1s')\n",
    "        end_ts = (row['end_date'] + timedelta(seconds=1)).round('1s')\n",
    "        matchId = row['matchId']\n",
    "        start_pre_match_ts = (start_ts - timedelta(seconds=60)).replace(microsecond=0)\n",
    "        start_pre_match_iloc = nearest(df_chat_messages.index, start_pre_match_ts)\n",
    "        start_match_iloc = nearest(df_chat_messages.index, start_ts)\n",
    "        end_match_iloc = nearest(df_chat_messages.index, end_ts)\n",
    "        end_post_match_ts = (end_ts + timedelta(seconds=60)).replace(microsecond=0)\n",
    "        end_post_match_iloc = nearest(df_chat_messages.index, end_post_match_ts)\n",
    "\n",
    "\n",
    "        df_chat_messages.iloc[start_pre_match_iloc:start_match_iloc, df_col_locs] = [matchId, 'BEFORE_MATCH']\n",
    "\n",
    "        df_chat_messages.iloc[start_match_iloc:end_match_iloc, df_col_locs] = [matchId, 'DURING_MATCH']\n",
    "\n",
    "        df_chat_messages.iloc[end_match_iloc:end_post_match_iloc, df_col_locs] = [matchId, 'AFTER_MATCH']\n",
    "\n",
    "    # Add feature is_chatbot\n",
    "    bots_lowercase = [bot.lower() for bot in possible_botlist]\n",
    "    df_chat_messages['chatbot'] = df_chat_messages['author_name'].apply(lambda x: x.lower() in bots_lowercase)\n",
    "    \n",
    "    # Add feature Personal-Message\n",
    "    df_chat_messages['personal_msg'] = df_chat_messages['text'].apply(lambda x: x.startswith('@') and not x.startswith(f'@{playername}') and ' ' in x)\n",
    "    \n",
    "    # Add Feature command\n",
    "    df_chat_messages['command'] = df_chat_messages['text'].apply(lambda x: x.startswith('!'))\n",
    "    \n",
    "    # only return rows before/in or after a match\n",
    "    return df_chat_messages[~df_chat_messages['matchId'].isna()]"
   ]
  },
  {
   "cell_type": "markdown",
   "id": "60680d41",
   "metadata": {},
   "source": [
    "The 'ugly' join with nearest is needed, because both dataframes do not have an index with a fixed frequency. So there are leaks in the index of both dataframes."
   ]
  },
  {
   "cell_type": "code",
   "execution_count": 63,
   "id": "37d2a0ac",
   "metadata": {},
   "outputs": [],
   "source": [
    "tf_chat_df = read_chat_of_matches('tobiasfate', tf_matches_dt_summ)\n",
    "nw_chat_df = read_chat_of_matches('noway4u_sir', nw_matches_dt_summ)"
   ]
  },
  {
   "cell_type": "code",
   "execution_count": 64,
   "id": "584e6b05",
   "metadata": {},
   "outputs": [
    {
     "data": {
      "text/html": [
       "<div>\n",
       "<style scoped>\n",
       "    .dataframe tbody tr th:only-of-type {\n",
       "        vertical-align: middle;\n",
       "    }\n",
       "\n",
       "    .dataframe tbody tr th {\n",
       "        vertical-align: top;\n",
       "    }\n",
       "\n",
       "    .dataframe thead th {\n",
       "        text-align: right;\n",
       "    }\n",
       "</style>\n",
       "<table border=\"1\" class=\"dataframe\">\n",
       "  <thead>\n",
       "    <tr style=\"text-align: right;\">\n",
       "      <th></th>\n",
       "      <th>channel</th>\n",
       "      <th>author_name</th>\n",
       "      <th>text</th>\n",
       "      <th>matchId</th>\n",
       "      <th>timecategory</th>\n",
       "      <th>chatbot</th>\n",
       "      <th>personal_msg</th>\n",
       "      <th>command</th>\n",
       "    </tr>\n",
       "    <tr>\n",
       "      <th>datetime</th>\n",
       "      <th></th>\n",
       "      <th></th>\n",
       "      <th></th>\n",
       "      <th></th>\n",
       "      <th></th>\n",
       "      <th></th>\n",
       "      <th></th>\n",
       "      <th></th>\n",
       "    </tr>\n",
       "  </thead>\n",
       "  <tbody>\n",
       "    <tr>\n",
       "      <th>2021-11-22 16:50:52.374</th>\n",
       "      <td>noway4u_sir</td>\n",
       "      <td>pissnelkf</td>\n",
       "      <td>vittalice</td>\n",
       "      <td>NA1_4112918754</td>\n",
       "      <td>BEFORE_MATCH</td>\n",
       "      <td>False</td>\n",
       "      <td>False</td>\n",
       "      <td>False</td>\n",
       "    </tr>\n",
       "    <tr>\n",
       "      <th>2021-11-22 16:50:52.649</th>\n",
       "      <td>noway4u_sir</td>\n",
       "      <td>ein_chonas</td>\n",
       "      <td>@noway4u_sir rune reduziert dank as die cooldowns</td>\n",
       "      <td>NA1_4112918754</td>\n",
       "      <td>BEFORE_MATCH</td>\n",
       "      <td>False</td>\n",
       "      <td>False</td>\n",
       "      <td>False</td>\n",
       "    </tr>\n",
       "    <tr>\n",
       "      <th>2021-11-22 16:50:53.262</th>\n",
       "      <td>noway4u_sir</td>\n",
       "      <td>rumpel6</td>\n",
       "      <td>guten abend meister</td>\n",
       "      <td>NA1_4112918754</td>\n",
       "      <td>BEFORE_MATCH</td>\n",
       "      <td>False</td>\n",
       "      <td>False</td>\n",
       "      <td>False</td>\n",
       "    </tr>\n",
       "    <tr>\n",
       "      <th>2021-11-22 16:50:54.160</th>\n",
       "      <td>noway4u_sir</td>\n",
       "      <td>smugruler</td>\n",
       "      <td>kein alacritiy mit lethal tempo</td>\n",
       "      <td>NA1_4112918754</td>\n",
       "      <td>BEFORE_MATCH</td>\n",
       "      <td>False</td>\n",
       "      <td>False</td>\n",
       "      <td>False</td>\n",
       "    </tr>\n",
       "    <tr>\n",
       "      <th>2021-11-22 16:50:54.596</th>\n",
       "      <td>noway4u_sir</td>\n",
       "      <td>razzor2709</td>\n",
       "      <td>@lachflashfaiiils darfst nix verkaufen was dir...</td>\n",
       "      <td>NA1_4112918754</td>\n",
       "      <td>BEFORE_MATCH</td>\n",
       "      <td>False</td>\n",
       "      <td>True</td>\n",
       "      <td>False</td>\n",
       "    </tr>\n",
       "    <tr>\n",
       "      <th>...</th>\n",
       "      <td>...</td>\n",
       "      <td>...</td>\n",
       "      <td>...</td>\n",
       "      <td>...</td>\n",
       "      <td>...</td>\n",
       "      <td>...</td>\n",
       "      <td>...</td>\n",
       "      <td>...</td>\n",
       "    </tr>\n",
       "    <tr>\n",
       "      <th>2021-11-28 23:36:04.838</th>\n",
       "      <td>noway4u_sir</td>\n",
       "      <td>qumw123</td>\n",
       "      <td>jute nacht</td>\n",
       "      <td>NA1_4120734190</td>\n",
       "      <td>AFTER_MATCH</td>\n",
       "      <td>False</td>\n",
       "      <td>False</td>\n",
       "      <td>False</td>\n",
       "    </tr>\n",
       "    <tr>\n",
       "      <th>2021-11-28 23:36:05.224</th>\n",
       "      <td>noway4u_sir</td>\n",
       "      <td>isnugud</td>\n",
       "      <td>nowaylove2 nowaylove2 nowaylove2</td>\n",
       "      <td>NA1_4120734190</td>\n",
       "      <td>AFTER_MATCH</td>\n",
       "      <td>False</td>\n",
       "      <td>False</td>\n",
       "      <td>False</td>\n",
       "    </tr>\n",
       "    <tr>\n",
       "      <th>2021-11-28 23:36:05.889</th>\n",
       "      <td>noway4u_sir</td>\n",
       "      <td>siakar</td>\n",
       "      <td>nowaylove2 nowaylove2 nowaylove2</td>\n",
       "      <td>NA1_4120734190</td>\n",
       "      <td>AFTER_MATCH</td>\n",
       "      <td>False</td>\n",
       "      <td>False</td>\n",
       "      <td>False</td>\n",
       "    </tr>\n",
       "    <tr>\n",
       "      <th>2021-11-28 23:36:08.398</th>\n",
       "      <td>noway4u_sir</td>\n",
       "      <td>theawesomefupp</td>\n",
       "      <td>&lt;3</td>\n",
       "      <td>NA1_4120734190</td>\n",
       "      <td>AFTER_MATCH</td>\n",
       "      <td>False</td>\n",
       "      <td>False</td>\n",
       "      <td>False</td>\n",
       "    </tr>\n",
       "    <tr>\n",
       "      <th>2021-11-28 23:36:10.904</th>\n",
       "      <td>noway4u_sir</td>\n",
       "      <td>spiritixy</td>\n",
       "      <td>nacht :)</td>\n",
       "      <td>NA1_4120734190</td>\n",
       "      <td>AFTER_MATCH</td>\n",
       "      <td>False</td>\n",
       "      <td>False</td>\n",
       "      <td>False</td>\n",
       "    </tr>\n",
       "  </tbody>\n",
       "</table>\n",
       "<p>33153 rows × 8 columns</p>\n",
       "</div>"
      ],
      "text/plain": [
       "                             channel     author_name  \\\n",
       "datetime                                               \n",
       "2021-11-22 16:50:52.374  noway4u_sir       pissnelkf   \n",
       "2021-11-22 16:50:52.649  noway4u_sir      ein_chonas   \n",
       "2021-11-22 16:50:53.262  noway4u_sir         rumpel6   \n",
       "2021-11-22 16:50:54.160  noway4u_sir       smugruler   \n",
       "2021-11-22 16:50:54.596  noway4u_sir      razzor2709   \n",
       "...                              ...             ...   \n",
       "2021-11-28 23:36:04.838  noway4u_sir         qumw123   \n",
       "2021-11-28 23:36:05.224  noway4u_sir         isnugud   \n",
       "2021-11-28 23:36:05.889  noway4u_sir          siakar   \n",
       "2021-11-28 23:36:08.398  noway4u_sir  theawesomefupp   \n",
       "2021-11-28 23:36:10.904  noway4u_sir       spiritixy   \n",
       "\n",
       "                                                                      text  \\\n",
       "datetime                                                                     \n",
       "2021-11-22 16:50:52.374                                          vittalice   \n",
       "2021-11-22 16:50:52.649  @noway4u_sir rune reduziert dank as die cooldowns   \n",
       "2021-11-22 16:50:53.262                                guten abend meister   \n",
       "2021-11-22 16:50:54.160                    kein alacritiy mit lethal tempo   \n",
       "2021-11-22 16:50:54.596  @lachflashfaiiils darfst nix verkaufen was dir...   \n",
       "...                                                                    ...   \n",
       "2021-11-28 23:36:04.838                                         jute nacht   \n",
       "2021-11-28 23:36:05.224                   nowaylove2 nowaylove2 nowaylove2   \n",
       "2021-11-28 23:36:05.889                   nowaylove2 nowaylove2 nowaylove2   \n",
       "2021-11-28 23:36:08.398                                                 <3   \n",
       "2021-11-28 23:36:10.904                                           nacht :)   \n",
       "\n",
       "                                matchId  timecategory  chatbot  personal_msg  \\\n",
       "datetime                                                                       \n",
       "2021-11-22 16:50:52.374  NA1_4112918754  BEFORE_MATCH    False         False   \n",
       "2021-11-22 16:50:52.649  NA1_4112918754  BEFORE_MATCH    False         False   \n",
       "2021-11-22 16:50:53.262  NA1_4112918754  BEFORE_MATCH    False         False   \n",
       "2021-11-22 16:50:54.160  NA1_4112918754  BEFORE_MATCH    False         False   \n",
       "2021-11-22 16:50:54.596  NA1_4112918754  BEFORE_MATCH    False          True   \n",
       "...                                 ...           ...      ...           ...   \n",
       "2021-11-28 23:36:04.838  NA1_4120734190   AFTER_MATCH    False         False   \n",
       "2021-11-28 23:36:05.224  NA1_4120734190   AFTER_MATCH    False         False   \n",
       "2021-11-28 23:36:05.889  NA1_4120734190   AFTER_MATCH    False         False   \n",
       "2021-11-28 23:36:08.398  NA1_4120734190   AFTER_MATCH    False         False   \n",
       "2021-11-28 23:36:10.904  NA1_4120734190   AFTER_MATCH    False         False   \n",
       "\n",
       "                         command  \n",
       "datetime                          \n",
       "2021-11-22 16:50:52.374    False  \n",
       "2021-11-22 16:50:52.649    False  \n",
       "2021-11-22 16:50:53.262    False  \n",
       "2021-11-22 16:50:54.160    False  \n",
       "2021-11-22 16:50:54.596    False  \n",
       "...                          ...  \n",
       "2021-11-28 23:36:04.838    False  \n",
       "2021-11-28 23:36:05.224    False  \n",
       "2021-11-28 23:36:05.889    False  \n",
       "2021-11-28 23:36:08.398    False  \n",
       "2021-11-28 23:36:10.904    False  \n",
       "\n",
       "[33153 rows x 8 columns]"
      ]
     },
     "execution_count": 64,
     "metadata": {},
     "output_type": "execute_result"
    }
   ],
   "source": [
    "nw_chat_df"
   ]
  },
  {
   "cell_type": "code",
   "execution_count": 66,
   "id": "134da4f6",
   "metadata": {},
   "outputs": [
    {
     "name": "stdout",
     "output_type": "stream",
     "text": [
      "wrote /Users/doba/Documents/TechnikumWien/3. Semester/Solution Deployment & Communication/dsc-final-project-epic-ml-visualizer/dsc_data/noway4u_sir/chat_df.pkl\n"
     ]
    }
   ],
   "source": [
    "write_prepared_df_file(nw_chat_df, 'noway4u_sir', 'chat_df')"
   ]
  },
  {
   "cell_type": "code",
   "execution_count": 71,
   "id": "e7a8bd1f",
   "metadata": {},
   "outputs": [
    {
     "name": "stdout",
     "output_type": "stream",
     "text": [
      "read /Users/doba/Documents/TechnikumWien/3. Semester/Solution Deployment & Communication/dsc-final-project-epic-ml-visualizer/dsc_data/noway4u_sir/chat_df.pkl\n"
     ]
    },
    {
     "data": {
      "text/html": [
       "<div>\n",
       "<style scoped>\n",
       "    .dataframe tbody tr th:only-of-type {\n",
       "        vertical-align: middle;\n",
       "    }\n",
       "\n",
       "    .dataframe tbody tr th {\n",
       "        vertical-align: top;\n",
       "    }\n",
       "\n",
       "    .dataframe thead th {\n",
       "        text-align: right;\n",
       "    }\n",
       "</style>\n",
       "<table border=\"1\" class=\"dataframe\">\n",
       "  <thead>\n",
       "    <tr style=\"text-align: right;\">\n",
       "      <th></th>\n",
       "      <th>channel</th>\n",
       "      <th>author_name</th>\n",
       "      <th>text</th>\n",
       "      <th>matchId</th>\n",
       "      <th>timecategory</th>\n",
       "      <th>chatbot</th>\n",
       "      <th>personal_msg</th>\n",
       "      <th>command</th>\n",
       "    </tr>\n",
       "    <tr>\n",
       "      <th>datetime</th>\n",
       "      <th></th>\n",
       "      <th></th>\n",
       "      <th></th>\n",
       "      <th></th>\n",
       "      <th></th>\n",
       "      <th></th>\n",
       "      <th></th>\n",
       "      <th></th>\n",
       "    </tr>\n",
       "  </thead>\n",
       "  <tbody>\n",
       "    <tr>\n",
       "      <th>2021-11-22 16:50:52.374</th>\n",
       "      <td>noway4u_sir</td>\n",
       "      <td>pissnelkf</td>\n",
       "      <td>vittalice</td>\n",
       "      <td>NA1_4112918754</td>\n",
       "      <td>BEFORE_MATCH</td>\n",
       "      <td>False</td>\n",
       "      <td>False</td>\n",
       "      <td>False</td>\n",
       "    </tr>\n",
       "    <tr>\n",
       "      <th>2021-11-22 16:50:52.649</th>\n",
       "      <td>noway4u_sir</td>\n",
       "      <td>ein_chonas</td>\n",
       "      <td>@noway4u_sir rune reduziert dank as die cooldowns</td>\n",
       "      <td>NA1_4112918754</td>\n",
       "      <td>BEFORE_MATCH</td>\n",
       "      <td>False</td>\n",
       "      <td>False</td>\n",
       "      <td>False</td>\n",
       "    </tr>\n",
       "    <tr>\n",
       "      <th>2021-11-22 16:50:53.262</th>\n",
       "      <td>noway4u_sir</td>\n",
       "      <td>rumpel6</td>\n",
       "      <td>guten abend meister</td>\n",
       "      <td>NA1_4112918754</td>\n",
       "      <td>BEFORE_MATCH</td>\n",
       "      <td>False</td>\n",
       "      <td>False</td>\n",
       "      <td>False</td>\n",
       "    </tr>\n",
       "    <tr>\n",
       "      <th>2021-11-22 16:50:54.160</th>\n",
       "      <td>noway4u_sir</td>\n",
       "      <td>smugruler</td>\n",
       "      <td>kein alacritiy mit lethal tempo</td>\n",
       "      <td>NA1_4112918754</td>\n",
       "      <td>BEFORE_MATCH</td>\n",
       "      <td>False</td>\n",
       "      <td>False</td>\n",
       "      <td>False</td>\n",
       "    </tr>\n",
       "    <tr>\n",
       "      <th>2021-11-22 16:50:54.596</th>\n",
       "      <td>noway4u_sir</td>\n",
       "      <td>razzor2709</td>\n",
       "      <td>@lachflashfaiiils darfst nix verkaufen was dir...</td>\n",
       "      <td>NA1_4112918754</td>\n",
       "      <td>BEFORE_MATCH</td>\n",
       "      <td>False</td>\n",
       "      <td>True</td>\n",
       "      <td>False</td>\n",
       "    </tr>\n",
       "    <tr>\n",
       "      <th>...</th>\n",
       "      <td>...</td>\n",
       "      <td>...</td>\n",
       "      <td>...</td>\n",
       "      <td>...</td>\n",
       "      <td>...</td>\n",
       "      <td>...</td>\n",
       "      <td>...</td>\n",
       "      <td>...</td>\n",
       "    </tr>\n",
       "    <tr>\n",
       "      <th>2021-11-28 23:36:04.838</th>\n",
       "      <td>noway4u_sir</td>\n",
       "      <td>qumw123</td>\n",
       "      <td>jute nacht</td>\n",
       "      <td>NA1_4120734190</td>\n",
       "      <td>AFTER_MATCH</td>\n",
       "      <td>False</td>\n",
       "      <td>False</td>\n",
       "      <td>False</td>\n",
       "    </tr>\n",
       "    <tr>\n",
       "      <th>2021-11-28 23:36:05.224</th>\n",
       "      <td>noway4u_sir</td>\n",
       "      <td>isnugud</td>\n",
       "      <td>nowaylove2 nowaylove2 nowaylove2</td>\n",
       "      <td>NA1_4120734190</td>\n",
       "      <td>AFTER_MATCH</td>\n",
       "      <td>False</td>\n",
       "      <td>False</td>\n",
       "      <td>False</td>\n",
       "    </tr>\n",
       "    <tr>\n",
       "      <th>2021-11-28 23:36:05.889</th>\n",
       "      <td>noway4u_sir</td>\n",
       "      <td>siakar</td>\n",
       "      <td>nowaylove2 nowaylove2 nowaylove2</td>\n",
       "      <td>NA1_4120734190</td>\n",
       "      <td>AFTER_MATCH</td>\n",
       "      <td>False</td>\n",
       "      <td>False</td>\n",
       "      <td>False</td>\n",
       "    </tr>\n",
       "    <tr>\n",
       "      <th>2021-11-28 23:36:08.398</th>\n",
       "      <td>noway4u_sir</td>\n",
       "      <td>theawesomefupp</td>\n",
       "      <td>&lt;3</td>\n",
       "      <td>NA1_4120734190</td>\n",
       "      <td>AFTER_MATCH</td>\n",
       "      <td>False</td>\n",
       "      <td>False</td>\n",
       "      <td>False</td>\n",
       "    </tr>\n",
       "    <tr>\n",
       "      <th>2021-11-28 23:36:10.904</th>\n",
       "      <td>noway4u_sir</td>\n",
       "      <td>spiritixy</td>\n",
       "      <td>nacht :)</td>\n",
       "      <td>NA1_4120734190</td>\n",
       "      <td>AFTER_MATCH</td>\n",
       "      <td>False</td>\n",
       "      <td>False</td>\n",
       "      <td>False</td>\n",
       "    </tr>\n",
       "  </tbody>\n",
       "</table>\n",
       "<p>33153 rows × 8 columns</p>\n",
       "</div>"
      ],
      "text/plain": [
       "                             channel     author_name  \\\n",
       "datetime                                               \n",
       "2021-11-22 16:50:52.374  noway4u_sir       pissnelkf   \n",
       "2021-11-22 16:50:52.649  noway4u_sir      ein_chonas   \n",
       "2021-11-22 16:50:53.262  noway4u_sir         rumpel6   \n",
       "2021-11-22 16:50:54.160  noway4u_sir       smugruler   \n",
       "2021-11-22 16:50:54.596  noway4u_sir      razzor2709   \n",
       "...                              ...             ...   \n",
       "2021-11-28 23:36:04.838  noway4u_sir         qumw123   \n",
       "2021-11-28 23:36:05.224  noway4u_sir         isnugud   \n",
       "2021-11-28 23:36:05.889  noway4u_sir          siakar   \n",
       "2021-11-28 23:36:08.398  noway4u_sir  theawesomefupp   \n",
       "2021-11-28 23:36:10.904  noway4u_sir       spiritixy   \n",
       "\n",
       "                                                                      text  \\\n",
       "datetime                                                                     \n",
       "2021-11-22 16:50:52.374                                          vittalice   \n",
       "2021-11-22 16:50:52.649  @noway4u_sir rune reduziert dank as die cooldowns   \n",
       "2021-11-22 16:50:53.262                                guten abend meister   \n",
       "2021-11-22 16:50:54.160                    kein alacritiy mit lethal tempo   \n",
       "2021-11-22 16:50:54.596  @lachflashfaiiils darfst nix verkaufen was dir...   \n",
       "...                                                                    ...   \n",
       "2021-11-28 23:36:04.838                                         jute nacht   \n",
       "2021-11-28 23:36:05.224                   nowaylove2 nowaylove2 nowaylove2   \n",
       "2021-11-28 23:36:05.889                   nowaylove2 nowaylove2 nowaylove2   \n",
       "2021-11-28 23:36:08.398                                                 <3   \n",
       "2021-11-28 23:36:10.904                                           nacht :)   \n",
       "\n",
       "                                matchId  timecategory  chatbot  personal_msg  \\\n",
       "datetime                                                                       \n",
       "2021-11-22 16:50:52.374  NA1_4112918754  BEFORE_MATCH    False         False   \n",
       "2021-11-22 16:50:52.649  NA1_4112918754  BEFORE_MATCH    False         False   \n",
       "2021-11-22 16:50:53.262  NA1_4112918754  BEFORE_MATCH    False         False   \n",
       "2021-11-22 16:50:54.160  NA1_4112918754  BEFORE_MATCH    False         False   \n",
       "2021-11-22 16:50:54.596  NA1_4112918754  BEFORE_MATCH    False          True   \n",
       "...                                 ...           ...      ...           ...   \n",
       "2021-11-28 23:36:04.838  NA1_4120734190   AFTER_MATCH    False         False   \n",
       "2021-11-28 23:36:05.224  NA1_4120734190   AFTER_MATCH    False         False   \n",
       "2021-11-28 23:36:05.889  NA1_4120734190   AFTER_MATCH    False         False   \n",
       "2021-11-28 23:36:08.398  NA1_4120734190   AFTER_MATCH    False         False   \n",
       "2021-11-28 23:36:10.904  NA1_4120734190   AFTER_MATCH    False         False   \n",
       "\n",
       "                         command  \n",
       "datetime                          \n",
       "2021-11-22 16:50:52.374    False  \n",
       "2021-11-22 16:50:52.649    False  \n",
       "2021-11-22 16:50:53.262    False  \n",
       "2021-11-22 16:50:54.160    False  \n",
       "2021-11-22 16:50:54.596    False  \n",
       "...                          ...  \n",
       "2021-11-28 23:36:04.838    False  \n",
       "2021-11-28 23:36:05.224    False  \n",
       "2021-11-28 23:36:05.889    False  \n",
       "2021-11-28 23:36:08.398    False  \n",
       "2021-11-28 23:36:10.904    False  \n",
       "\n",
       "[33153 rows x 8 columns]"
      ]
     },
     "execution_count": 71,
     "metadata": {},
     "output_type": "execute_result"
    }
   ],
   "source": [
    "read_df = read_prepared_df_file('noway4u_sir', 'chat_df', 'datetime')\n",
    "read_df"
   ]
  },
  {
   "cell_type": "markdown",
   "id": "e087b35f",
   "metadata": {},
   "source": [
    "Es gibt einige Matches, wo es keinen Chat gibt!"
   ]
  },
  {
   "cell_type": "code",
   "execution_count": null,
   "id": "e34bad21",
   "metadata": {},
   "outputs": [],
   "source": [
    "# Export ends here!"
   ]
  },
  {
   "cell_type": "code",
   "execution_count": null,
   "id": "3028ff8a",
   "metadata": {},
   "outputs": [],
   "source": []
  },
  {
   "cell_type": "code",
   "execution_count": null,
   "id": "4f116ff6",
   "metadata": {},
   "outputs": [],
   "source": []
  },
  {
   "cell_type": "code",
   "execution_count": null,
   "id": "3f554b0d",
   "metadata": {},
   "outputs": [],
   "source": []
  },
  {
   "cell_type": "code",
   "execution_count": null,
   "id": "eed42785",
   "metadata": {},
   "outputs": [],
   "source": []
  },
  {
   "cell_type": "code",
   "execution_count": null,
   "id": "fba6081b",
   "metadata": {},
   "outputs": [],
   "source": []
  },
  {
   "cell_type": "code",
   "execution_count": null,
   "id": "ceff8d0a",
   "metadata": {},
   "outputs": [],
   "source": []
  },
  {
   "cell_type": "code",
   "execution_count": null,
   "id": "99fa7b2b",
   "metadata": {},
   "outputs": [],
   "source": []
  },
  {
   "cell_type": "code",
   "execution_count": null,
   "id": "9e8a60f8",
   "metadata": {},
   "outputs": [],
   "source": []
  },
  {
   "cell_type": "code",
   "execution_count": null,
   "id": "967868b5",
   "metadata": {},
   "outputs": [],
   "source": []
  },
  {
   "cell_type": "markdown",
   "id": "99ca4fa9",
   "metadata": {},
   "source": [
    "### Transform to word list without direct repetitions\n"
   ]
  },
  {
   "cell_type": "code",
   "execution_count": null,
   "id": "db655efe",
   "metadata": {
    "pycharm": {
     "name": "#%%\n"
    }
   },
   "outputs": [],
   "source": [
    "from shared.common.util.textreducer import chatmessage_pipeline"
   ]
  },
  {
   "cell_type": "code",
   "execution_count": null,
   "id": "aa48eae1",
   "metadata": {
    "pycharm": {
     "name": "#%%\n"
    }
   },
   "outputs": [],
   "source": [
    "df_session_chat_messages['deduplicated'] = df_session_chat_messages['text'].apply(chatmessage_pipeline)\n",
    "df_session_chat_messages"
   ]
  },
  {
   "cell_type": "markdown",
   "id": "6d87bf65",
   "metadata": {},
   "source": [
    "### Create word clouds with text by match type (pentakill (=epic), bad, good)"
   ]
  },
  {
   "cell_type": "code",
   "execution_count": null,
   "id": "a5d94b74",
   "metadata": {
    "pycharm": {
     "name": "#%%\n"
    }
   },
   "outputs": [],
   "source": [
    "words_pentakill_match = df_session_chat_messages[no_chatbot_comm_msg_mask & (df_session_chat_messages['matchId'] == match_id_pentakill)]['deduplicated'].str.cat(sep=' ')\n",
    "words_lost_min_kills_match = df_session_chat_messages[no_chatbot_comm_msg_mask & (df_session_chat_messages['matchId'] == match_id_lost_min_kills)]['deduplicated'].str.cat(sep=' ')\n",
    "words_win_max_killsprees_match = df_session_chat_messages[no_chatbot_comm_msg_mask & (df_session_chat_messages['matchId'] == match_id_win_max_killsprees)]['deduplicated'].str.cat(sep=' ')"
   ]
  },
  {
   "cell_type": "code",
   "execution_count": null,
   "id": "9eb727df",
   "metadata": {
    "pycharm": {
     "name": "#%%\n"
    }
   },
   "outputs": [],
   "source": [
    "wordcloud_pentakill = WordCloud(width= 3000, height = 2000, random_state=1, colormap='Pastel1', collocations=False, stopwords = STOPWORDS).generate(words_pentakill_match)\n",
    "wordcloud_lost_min_kills = WordCloud(width= 3000, height = 2000, random_state=1, colormap='Pastel1', collocations=False, stopwords = STOPWORDS).generate(words_lost_min_kills_match)\n",
    "wordcloud_win_max_killsprees = WordCloud(width= 3000, height = 2000, random_state=1, colormap='Pastel1', collocations=False, stopwords = STOPWORDS).generate(words_win_max_killsprees_match)"
   ]
  },
  {
   "cell_type": "code",
   "execution_count": null,
   "id": "ed7ff916",
   "metadata": {
    "pycharm": {
     "name": "#%%\n"
    }
   },
   "outputs": [],
   "source": [
    "with sns.plotting_context('talk'):\n",
    "    fig, ax = plt.subplots(figsize=(8, 16), nrows=3, ncols=1)\n",
    "    plt.tight_layout()\n",
    "    ax[0].set_title('Wordcloud Pentakill')\n",
    "    ax[0].imshow(wordcloud_pentakill)\n",
    "    ax[0].axis('off')\n",
    "\n",
    "    ax[1].set_title('Wordcloud Lost-Min-Kills')\n",
    "    ax[1].imshow(wordcloud_lost_min_kills)\n",
    "    ax[1].axis('off')\n",
    "    \n",
    "    ax[2].set_title('Wordcloud Win-Max-Killsprees')\n",
    "    ax[2].imshow(wordcloud_win_max_killsprees)\n",
    "    ax[2].axis('off')\n",
    "    plt.show()"
   ]
  },
  {
   "cell_type": "markdown",
   "id": "ed8b59ab",
   "metadata": {},
   "source": [
    "Nicht rein Englisch, sondern eher Twitchish. Es gibt noise, der auf den Channel hinweist (loltyler1, tyler, ...) und einige schimpfwörter. Daher müssen chatbot Nachrichten und commands der viewer ausgenommen werden."
   ]
  },
  {
   "cell_type": "markdown",
   "id": "5217b231",
   "metadata": {},
   "source": [
    "### Number of messages by chat user during matches from gaming session"
   ]
  },
  {
   "cell_type": "code",
   "execution_count": null,
   "id": "608667d0",
   "metadata": {
    "pycharm": {
     "name": "#%%\n"
    }
   },
   "outputs": [],
   "source": [
    "with sns.plotting_context('talk'):\n",
    "    f, ax = plt.subplots(1, 2, figsize = (20, 30))\n",
    "    f.tight_layout(pad=10.0)\n",
    "    messasges_by_user = df_session_chat_messages[(df_session_chat_messages['timecategory'] == 'DURING_MATCH')].groupby(['author_name']) \\\n",
    "                .size() \\\n",
    "                .reset_index(name='count') \\\n",
    "                .sort_values('count', ascending=False)\n",
    "\n",
    "    quantiles = messasges_by_user['count'].quantile([0.25,0.5,0.75,0.99])\n",
    "    num_messages_min = quantiles.index[-1]\n",
    "    \n",
    "\n",
    "    sns.barplot(ax=ax[0], y='author_name', x='count', data=messasges_by_user[messasges_by_user['count'] > quantiles.values[-1]])\n",
    "    ax[0].set_xlabel('Anzahl der Nachrichten')\n",
    "    ax[0].set_ylabel('')\n",
    "    ax[0].set_title(f'Chat messages by all Top {round((1 - num_messages_min) * 100)} % users')\n",
    "    \n",
    "    messasges_by_user = df_session_chat_messages[no_chatbot_comm_msg_mask & (df_session_chat_messages['timecategory'] == 'DURING_MATCH')].groupby(['author_name']) \\\n",
    "                .size() \\\n",
    "                .reset_index(name='count') \\\n",
    "                .sort_values('count', ascending=False)\n",
    "\n",
    "    quantiles = messasges_by_user['count'].quantile([0.25,0.5,0.75,0.95, 0.99])\n",
    "\n",
    "    num_messages_min = quantiles.index[-1]\n",
    "\n",
    "    sns.barplot(ax=ax[1], y='author_name', x='count', data=messasges_by_user[messasges_by_user['count'] > quantiles.values[-1]])\n",
    "    ax[1].set_xlabel('Anzahl der Nachrichten')\n",
    "    ax[1].set_ylabel('')\n",
    "    ax[1].set_title(f'Chat messages by Top {round((1 - num_messages_min) * 100)} % users without bot messages')\n"
   ]
  },
  {
   "cell_type": "markdown",
   "id": "c9c7b463",
   "metadata": {},
   "source": [
    "Die Chatbot Nachrichten (vor allem commands) beeinflussen die Counts schon, die Reihenfolgen der Top-Chatter kommen etwas durcheinander."
   ]
  },
  {
   "cell_type": "markdown",
   "id": "04ecebc1",
   "metadata": {},
   "source": [
    "<a id='loadtimelines'></a>\n",
    "## Step 3: Load Match Timelines from the previously selected Matches | ([Jump to Contents](#content))"
   ]
  },
  {
   "cell_type": "code",
   "execution_count": null,
   "id": "1d62184e",
   "metadata": {
    "pycharm": {
     "name": "#%%\n"
    }
   },
   "outputs": [],
   "source": [
    "if notebook_mode == 'DEV':\n",
    "    from riotwatcher import LolWatcher\n",
    "    riot_api = LolWatcher('I nearly shared it ;)') # Personal key\n",
    "    \n",
    "    match_timeline_pentakill = riot_api.match.timeline_by_match(region='AMERICAS', match_id=match_id_pentakill)\n",
    "    write_prepared_file(match_timeline_pentakill, 'match_timeline_pentakill')\n",
    "    \n",
    "    match_timeline_lost_min_kills = riot_api.match.timeline_by_match(region='AMERICAS', match_id=match_id_lost_min_kills)\n",
    "    write_prepared_file(match_timeline_lost_min_kills, 'match_timeline_lost_min_kills')\n",
    "    \n",
    "    match_timeline_win_max_killsprees = riot_api.match.timeline_by_match(region='AMERICAS', match_id=match_id_win_max_killsprees)\n",
    "    write_prepared_file(match_timeline_win_max_killsprees, 'match_timeline_win_max_killsprees')\n",
    "else:\n",
    "    match_timeline_pentakill = read_prepared_file('match_timeline_pentakill')\n",
    "    match_timeline_lost_min_kills = read_prepared_file('match_timeline_lost_min_kills')\n",
    "    match_timeline_win_max_killsprees = read_prepared_file('match_timeline_win_max_killsprees')\n",
    "\n",
    "\n",
    "match_timeline_pentakill['matchId'] = match_id_pentakill\n",
    "match_timeline_lost_min_kills['matchId'] = match_id_lost_min_kills\n",
    "match_timeline_win_max_killsprees['matchId'] = match_id_win_max_killsprees\n"
   ]
  },
  {
   "cell_type": "markdown",
   "id": "173f5de2",
   "metadata": {},
   "source": [
    "### Create Summoner-Of-Match-Map"
   ]
  },
  {
   "cell_type": "code",
   "execution_count": null,
   "id": "4c9b6e0d",
   "metadata": {
    "pycharm": {
     "name": "#%%\n"
    }
   },
   "outputs": [],
   "source": [
    "def create_match_summoner_dict(match_timeline):\n",
    "    match_summoner_puuids = [p['puuid'] for p in match_timeline['info']['participants']]\n",
    "    matchId = match_timeline['matchId']\n",
    "    \n",
    "    fname = f'summoners_of_match_{matchId}'\n",
    "    if notebook_mode == 'DEV':\n",
    "        summoners_of_match = list(db['lol_match_participant_summary'].find({\n",
    "        '$and': [\n",
    "            {\"puuid\": {'$in': match_summoner_puuids}}, \n",
    "            {\"matchId\": matchId}\n",
    "        ]}, {'puuid': 1, 'summonerName': 1}))\n",
    "        write_prepared_file(summoners_of_match, fname)\n",
    "    else:\n",
    "        summoners_of_match = read_prepared_file(fname)\n",
    "\n",
    "    participant_map = {'0': {'puuid': '-', 'name': 'Minions'}}\n",
    "    for p in match_timeline['info']['participants']:\n",
    "\n",
    "        participant_map[str(p['participantId'])] = {\n",
    "            'puuid': p['puuid'],\n",
    "            'name': [summ['summonerName'] for summ in summoners_of_match if summ['puuid'] == p['puuid']][0]\n",
    "        }\n",
    "    return participant_map"
   ]
  },
  {
   "cell_type": "code",
   "execution_count": null,
   "id": "d6bff1aa",
   "metadata": {
    "pycharm": {
     "name": "#%%\n"
    }
   },
   "outputs": [],
   "source": [
    "# Test Participant-Map\n",
    "create_match_summoner_dict(match_timeline_pentakill)"
   ]
  },
  {
   "cell_type": "code",
   "execution_count": null,
   "id": "f6cb8387",
   "metadata": {
    "pycharm": {
     "name": "#%%\n"
    }
   },
   "outputs": [],
   "source": [
    "import shared.common.util.datetimeutil as datetimeutil\n",
    "\n",
    "def calc_datetime(start_dt, delta_event):\n",
    "    return start_dt + timedelta(milliseconds = delta_event)\n",
    "\n",
    "def get_key_event_player(event_type):\n",
    "    if event_type in [\"ITEM_PURCHASED\", \"ITEM_DESTROYED\", \"ITEM_UNDO\", \"ITEM_SOLD\", \"SKILL_LEVEL_UP\", \"LEVEL_UP\", \"CHAMPION_TRANSFORM\"]:\n",
    "        return \"participantId\"\n",
    "    elif event_type in [\"CHAMPION_KILL\", \"CHAMPION_SPECIAL_KILL\", \"WARD_KILL\", \"ELITE_MONSTER_KILL\", \"BUILDING_KILL\", \"TURRET_PLATE_DESTROYED\"]:\n",
    "        return \"killerId\"\n",
    "    elif event_type in [\"WARD_PLACED\"]:\n",
    "        return \"creatorId\"\n",
    "    elif event_type in [\"PAUSE_END\", \"GAME_END\"]:\n",
    "        return None\n",
    "    else:\n",
    "        print(f\"could not find player key for event: {event_type}\")\n",
    "        return None\n",
    "\n",
    "def get_key_event_opponent(event_type):\n",
    "    if event_type in [\"CHAMPION_KILL\"]:\n",
    "        return \"victimId\"\n",
    "    elif event_type in [\"WARD_PLACED\", \"BUILDING_KILL\", \"CHAMPION_SPECIAL_KILL\", \"CHAMPION_TRANSFORM\", \"TURRET_PLATE_DESTROYED\", \"ELITE_MONSTER_KILL\", \"WARD_KILL\", \"ITEM_DESTROYED\", \"ITEM_UNDO\",  \"ITEM_PURCHASED\", \"ITEM_SOLD\", \"GAME_END\", \"PAUSE_END\", \"SKILL_LEVEL_UP\", \"LEVEL_UP\"]:\n",
    "        return None\n",
    "    else:\n",
    "        print(f\"could not find opponent key for event: {event_type}\")\n",
    "        return None\n",
    "    \n",
    "def is_event_for_every_player(event_type):\n",
    "    return event_type in [\"PAUSE_END\", \"GAME_END\"]\n",
    "\n",
    "def get_player_name(participant_map, player_num):\n",
    "        return participant_map[str(player_num)]['name']"
   ]
  },
  {
   "cell_type": "code",
   "execution_count": null,
   "id": "b76dd29c",
   "metadata": {
    "pycharm": {
     "name": "#%%\n"
    }
   },
   "outputs": [],
   "source": [
    "def create_match_timeline_df(match_timeline):\n",
    "    datetimes = []\n",
    "    event_types = []\n",
    "    event_players = []\n",
    "    event_opponents = []\n",
    "    event_assistings = []\n",
    "\n",
    "    participant_summary = create_match_summoner_dict(match_timeline)\n",
    "    \n",
    "    match_timeline_start = None\n",
    "    match_timeline_end = None\n",
    "    for frame in match_timeline['info']['frames']:\n",
    "        for event in frame['events']:\n",
    "            dt = None\n",
    "            event_delta = event['timestamp']\n",
    "            event_type = event['type']\n",
    "            event_assisting = None\n",
    "            event_player = None\n",
    "            player_key = get_key_event_player(event_type)\n",
    "            if player_key is not None:\n",
    "                event_player = get_player_name(participant_summary, event[player_key])\n",
    "\n",
    "            event_opponent=None\n",
    "            opponent_key = get_key_event_opponent(event_type)\n",
    "            if opponent_key is not None:\n",
    "                event_opponent = get_player_name(participant_summary, event[opponent_key])\n",
    "\n",
    "            if 'realTimestamp' in event:\n",
    "                if match_timeline_start is None:\n",
    "                    match_timeline_start = datetimeutil.utc_datetime_from_ts_millis(event['realTimestamp'])\n",
    "                    dt = match_timeline_start\n",
    "                else:\n",
    "                    match_timeline_end = datetimeutil.utc_datetime_from_ts_millis(event['realTimestamp'])\n",
    "                    dt = match_timeline_end\n",
    "            else:\n",
    "                dt = calc_datetime(match_timeline_start, event_delta)\n",
    "\n",
    "            if 'assistingParticipantIds' in event:\n",
    "                event_assisting = []\n",
    "                for id in event['assistingParticipantIds']:\n",
    "                    ass = get_player_name(participant_summary, id)\n",
    "                    event_assisting.append(ass)\n",
    "\n",
    "            if is_event_for_every_player(event_type):\n",
    "                for i in range(1, 11):\n",
    "                    datetimes.append(dt)\n",
    "                    event_types.append(event_type)\n",
    "                    event_players.append(get_player_name(participant_summary, i))\n",
    "                    event_opponents.append(event_opponent)\n",
    "                    event_assistings.append(event_assisting)\n",
    "            else:  \n",
    "                datetimes.append(dt)\n",
    "                event_types.append(event_type)\n",
    "                event_players.append(event_player)\n",
    "                event_opponents.append(event_opponent)\n",
    "                event_assistings.append(event_assisting)\n",
    "\n",
    "    match_timeline_df = pd.DataFrame({\n",
    "        'datetime': datetimes, \n",
    "        'event_types': event_types, \n",
    "        'event_summoner': event_players, \n",
    "        'event_opponents': event_opponents,\n",
    "        'event_assistings': event_assistings\n",
    "    })\n",
    "    match_timeline_df = match_timeline_df.set_index('datetime')\n",
    "    match_timeline_df['rounded'] = match_timeline_df.index.round('S')\n",
    "    match_timeline_df.sort_index(inplace=True)\n",
    "    return match_timeline_df"
   ]
  },
  {
   "cell_type": "code",
   "execution_count": null,
   "id": "474e3fa8",
   "metadata": {
    "pycharm": {
     "name": "#%%\n"
    }
   },
   "outputs": [],
   "source": [
    "df_timeline_pentakill = create_match_timeline_df(match_timeline_pentakill)"
   ]
  },
  {
   "cell_type": "code",
   "execution_count": null,
   "id": "5bf55307",
   "metadata": {
    "pycharm": {
     "name": "#%%\n"
    }
   },
   "outputs": [],
   "source": [
    "# Test fct\n",
    "df_timeline_pentakill.loc[~df_timeline_pentakill['event_assistings'].isnull()].head()"
   ]
  },
  {
   "cell_type": "code",
   "execution_count": null,
   "id": "fdf9f4ac",
   "metadata": {
    "pycharm": {
     "name": "#%%\n"
    }
   },
   "outputs": [],
   "source": [
    "# Test fct\n",
    "df_timeline_pentakill.loc[df_timeline_pentakill['event_summoner'] == 'Minions'].head()"
   ]
  },
  {
   "cell_type": "code",
   "execution_count": null,
   "id": "01b15a3f",
   "metadata": {
    "pycharm": {
     "name": "#%%\n"
    }
   },
   "outputs": [],
   "source": [
    "df_timeline_pentakill.info()"
   ]
  },
  {
   "cell_type": "code",
   "execution_count": null,
   "id": "664179ef",
   "metadata": {
    "pycharm": {
     "name": "#%%\n"
    }
   },
   "outputs": [],
   "source": [
    "df_timeline_lost_min_kills = create_match_timeline_df(match_timeline_lost_min_kills)\n",
    "df_timeline_win_max_killsprees = create_match_timeline_df(match_timeline_win_max_killsprees)"
   ]
  },
  {
   "cell_type": "markdown",
   "id": "770de89f",
   "metadata": {},
   "source": [
    "### Number of Events by player for all three matches"
   ]
  },
  {
   "cell_type": "code",
   "execution_count": null,
   "id": "fba8a8dc",
   "metadata": {
    "pycharm": {
     "name": "#%%\n"
    }
   },
   "outputs": [],
   "source": [
    "# Prepare orders by player and by event_type\n",
    "def get_events_by_player_desc_df(df_timeline, match_id):\n",
    "    df_match_participants = get_match_participant_df(match_id)\n",
    "\n",
    "    events_by_player_desc = df_timeline.groupby(['event_summoner']) \\\n",
    "                    .size() \\\n",
    "                    .reset_index(name='count') \\\n",
    "                    .sort_values('count', ascending=False)\n",
    "   \n",
    "    events_by_player_desc = events_by_player_desc.merge(df_match_participants[['summonerName', 'win']], how='inner', left_on = 'event_summoner', right_on = 'summonerName')\n",
    "    events_by_player_desc.drop(columns=['summonerName'], inplace=True)\n",
    "    return events_by_player_desc"
   ]
  },
  {
   "cell_type": "code",
   "execution_count": null,
   "id": "d83ee816",
   "metadata": {
    "pycharm": {
     "name": "#%%\n"
    }
   },
   "outputs": [],
   "source": [
    "df_events_by_player_pentakill = get_events_by_player_desc_df(df_timeline_pentakill, match_id_pentakill)\n",
    "df_events_by_player_lost_min_kills = get_events_by_player_desc_df(df_timeline_lost_min_kills, match_id_lost_min_kills)\n",
    "df_events_by_player_win_max_killsprees = get_events_by_player_desc_df(df_timeline_win_max_killsprees, match_id_win_max_killsprees)"
   ]
  },
  {
   "cell_type": "code",
   "execution_count": null,
   "id": "c9797e5f",
   "metadata": {
    "pycharm": {
     "name": "#%%\n"
    }
   },
   "outputs": [],
   "source": [
    "def plot_event_per_team(df_events_by_player, matchname):\n",
    "    with sns.plotting_context('talk'):\n",
    "        f, ax = plt.subplots(1, 2, figsize = (15, 5), gridspec_kw={'width_ratios': [2, 1]})\n",
    "        sns.barplot(ax=ax[0], y='event_summoner', x='count', data=df_events_by_player.sort_values('win'), hue='win', hue_order=[False,True])\n",
    "        ax[0].set_ylabel('')\n",
    "        ax[0].set_xlabel('Anzahl der Events')\n",
    "\n",
    "        df_events_by_player.groupby(['win']) \\\n",
    "                        .sum('count')\\\n",
    "                        .plot.pie(ax=ax[1], y='count', x='win', autopct=\"%.1f%%\", legend=False)\n",
    "        ax[1].set_ylabel('')\n",
    "\n",
    "        f.suptitle(f\"Events pro Team: Match {matchname}\")\n",
    "        plt.show()\n",
    "    "
   ]
  },
  {
   "cell_type": "code",
   "execution_count": null,
   "id": "4178f0f2",
   "metadata": {
    "pycharm": {
     "name": "#%%\n"
    }
   },
   "outputs": [],
   "source": [
    "plot_event_per_team(df_events_by_player_pentakill, \"Pentakill\")"
   ]
  },
  {
   "cell_type": "code",
   "execution_count": null,
   "id": "648108f1",
   "metadata": {
    "pycharm": {
     "name": "#%%\n"
    }
   },
   "outputs": [],
   "source": [
    "plot_event_per_team(df_events_by_player_lost_min_kills, \"Lost Min Kills\")"
   ]
  },
  {
   "cell_type": "code",
   "execution_count": null,
   "id": "e3d54c57",
   "metadata": {
    "pycharm": {
     "name": "#%%\n"
    }
   },
   "outputs": [],
   "source": [
    "plot_event_per_team(df_events_by_player_win_max_killsprees, \"Win max Killing Sprees\")"
   ]
  },
  {
   "cell_type": "code",
   "execution_count": null,
   "id": "872fa5e6",
   "metadata": {
    "pycharm": {
     "name": "#%%\n"
    }
   },
   "outputs": [],
   "source": [
    "def plot_event_count_per_player(df_events_by_player, matchname):\n",
    "    with sns.plotting_context('talk'):\n",
    "        f, ax = plt.subplots(figsize = (15, 5))\n",
    "\n",
    "        sns.barplot(ax=ax, y='event_summoner', x='count', data=df_events_by_player)\n",
    "        ax.set_title(f\"Events pro Team: Match {matchname}\")\n",
    "        ax.set_ylabel('')\n",
    "        ax.set_xlabel('Anzahl der Events')\n",
    "        plt.show()   "
   ]
  },
  {
   "cell_type": "code",
   "execution_count": null,
   "id": "29cf90dd",
   "metadata": {
    "pycharm": {
     "name": "#%%\n"
    }
   },
   "outputs": [],
   "source": [
    "plot_event_count_per_player(df_events_by_player_pentakill, \"Pentakill\")"
   ]
  },
  {
   "cell_type": "code",
   "execution_count": null,
   "id": "6fdecf60",
   "metadata": {
    "pycharm": {
     "name": "#%%\n"
    }
   },
   "outputs": [],
   "source": [
    "plot_event_count_per_player(df_events_by_player_lost_min_kills, \"Lost Min Kills\")"
   ]
  },
  {
   "cell_type": "code",
   "execution_count": null,
   "id": "c0e2e543",
   "metadata": {
    "pycharm": {
     "name": "#%%\n"
    }
   },
   "outputs": [],
   "source": [
    "plot_event_count_per_player(df_events_by_player_win_max_killsprees, \"Win max Killing Sprees\")\n"
   ]
  },
  {
   "cell_type": "markdown",
   "id": "f4301a8f",
   "metadata": {},
   "source": [
    "### Number of Events by event type for all three matches"
   ]
  },
  {
   "cell_type": "code",
   "execution_count": null,
   "id": "8cd0e50d",
   "metadata": {
    "pycharm": {
     "name": "#%%\n"
    }
   },
   "outputs": [],
   "source": [
    "def plot_events_by_type(df_timeline, matchname):\n",
    "    order_of_events_by_event_type_desc = df_timeline.groupby(['event_types']) \\\n",
    "                .size() \\\n",
    "                .reset_index(name='count') \\\n",
    "                .sort_values('count', ascending=False)['event_types'].values\n",
    "    \n",
    "    with sns.plotting_context('talk'):\n",
    "        f, ax = plt.subplots(figsize = (16,10))\n",
    "        sns.countplot(y=\"event_types\", hue=\"event_summoner\", order=order_of_events_by_event_type_desc, data=df_timeline, ax=ax)\n",
    "        ax.set_title(f'Anteil der User pro Event: Match {matchname}')\n",
    "        ax.set_ylabel('')\n",
    "        ax.set_xlabel('Anzahl der Events')\n",
    "        plt.show()"
   ]
  },
  {
   "cell_type": "code",
   "execution_count": null,
   "id": "619c0672",
   "metadata": {
    "pycharm": {
     "name": "#%%\n"
    }
   },
   "outputs": [],
   "source": [
    "plot_events_by_type(df_timeline_pentakill, \"Pentakill\")"
   ]
  },
  {
   "cell_type": "code",
   "execution_count": null,
   "id": "d7dafa28",
   "metadata": {
    "pycharm": {
     "name": "#%%\n"
    }
   },
   "outputs": [],
   "source": [
    "plot_events_by_type(df_timeline_lost_min_kills, \"Lost Min Kills\")"
   ]
  },
  {
   "cell_type": "code",
   "execution_count": null,
   "id": "c2193a66",
   "metadata": {
    "pycharm": {
     "name": "#%%\n"
    }
   },
   "outputs": [],
   "source": [
    "plot_events_by_type(df_timeline_win_max_killsprees, \"Win Max Killsprees\")"
   ]
  },
  {
   "cell_type": "markdown",
   "id": "d960dd3e",
   "metadata": {},
   "source": [
    "Not every match has every event-type. For example the CHAMPION_TRANSFORM event only occured in the min-Match.  \n",
    "The events of ITEM_PURCHASED and ITEM_DESTROYED as well as the LEVEL_UP events and the WARD_PLACED events occur very often.\n"
   ]
  },
  {
   "cell_type": "markdown",
   "id": "498969b2",
   "metadata": {},
   "source": [
    "<a id='visualizeboth'></a>\n",
    "## Step 4: Visualize game timeline data with chatmessage histogram | ([Jump to Contents](#content))\n",
    "\n",
    "We will combine the differnt data from the two different data sources and create a combined plot."
   ]
  },
  {
   "cell_type": "markdown",
   "id": "c0250ad6",
   "metadata": {},
   "source": [
    "### Prepare Chatmessages for our 3 matches\n"
   ]
  },
  {
   "cell_type": "code",
   "execution_count": null,
   "id": "33a2eea0",
   "metadata": {
    "pycharm": {
     "name": "#%%\n"
    }
   },
   "outputs": [],
   "source": [
    "def print_match_stats(messages_per_sec, df_timeline, matchname, df_events_by_player):\n",
    "    print(f\"+++ !!! +++ Stats of match {matchname} +++ !!! +++\")\n",
    "    print(f\"Events in the match: {len(df_timeline)}\")\n",
    "    print(f\"Number of messages total: {messages_per_sec['count_messages'].sum()}\")\n",
    "    print(\"---\")\n",
    "    print(\"Number of messages by timecategory:\")\n",
    "    print(messages_per_sec.groupby(['timecategory'])['count_messages'].sum())\n",
    "    print(\"---\")\n",
    "    print(\"Events by summoner:\")\n",
    "    print(df_events_by_player)"
   ]
  },
  {
   "cell_type": "code",
   "execution_count": null,
   "id": "b2061b00",
   "metadata": {
    "pycharm": {
     "name": "#%%\n"
    }
   },
   "outputs": [],
   "source": [
    "def create_messages_per_sec_df(df_session_chat_messages, matchId):\n",
    "    messages_per_sec = df_session_chat_messages.loc[(no_chatbot_comm_msg_mask) & (df_session_chat_messages['matchId'] == matchId)].resample(\"1S\").size()\n",
    "    timecategories_df = df_session_chat_messages['timecategory'].loc[~df_session_chat_messages.index.duplicated(keep = 'first')]\n",
    "    messages_per_sec = messages_per_sec.to_frame().join(timecategories_df)\n",
    "    messages_per_sec.columns = ['count_messages', 'timecategory']\n",
    "    messages_per_sec['timecategory'] = messages_per_sec['timecategory'].fillna(method=\"ffill\")\n",
    "    return messages_per_sec"
   ]
  },
  {
   "cell_type": "code",
   "execution_count": null,
   "id": "578f602e",
   "metadata": {
    "pycharm": {
     "name": "#%%\n"
    }
   },
   "outputs": [],
   "source": [
    "messages_per_sec_pentakill = create_messages_per_sec_df(df_session_chat_messages, match_id_pentakill)\n",
    "messages_per_sec_lost_min_kills = create_messages_per_sec_df(df_session_chat_messages, match_id_lost_min_kills)\n",
    "messages_per_sec_win_max_killsprees = create_messages_per_sec_df(df_session_chat_messages, match_id_win_max_killsprees)"
   ]
  },
  {
   "cell_type": "markdown",
   "id": "7e40c622",
   "metadata": {},
   "source": [
    "### Plot match-events and chat histogram\n",
    "\n"
   ]
  },
  {
   "cell_type": "markdown",
   "id": "c383af46",
   "metadata": {},
   "source": [
    "The following Plots consist of two subplots:\n",
    "    \n",
    "- The upper plot shows the events of the match with the type of event on the y-axis and the time when it occured on the x-axis.\n",
    "\n",
    "- The lower plot shows the histogram of the chat messages - the number of chat messages per second. The light blue parts of the histogram show messages before or after the match and the dark blue part of the histogram shows the count of messages during the match."
   ]
  },
  {
   "cell_type": "code",
   "execution_count": null,
   "id": "7753d577",
   "metadata": {
    "pycharm": {
     "name": "#%%\n"
    }
   },
   "outputs": [],
   "source": [
    "def plot_game_event_text_hist(messages_per_sec, df_timeline, summoner_name, matchname, only_kill = False):\n",
    "    # prepare active and passive player events\n",
    "    active_player = df_timeline.loc[df_timeline['event_summoner'] == summoner_name][['event_types', 'rounded']]\n",
    "    passive_player = df_timeline.loc[df_timeline['event_opponents'] == summoner_name][['rounded']]\n",
    "    passive_player['event_types'] = df_timeline.loc[df_timeline['event_opponents'] == summoner_name]['event_types'] + '_PASSIVE'\n",
    "\n",
    "    timeline_player = active_player.append(passive_player)\n",
    "    timeline_player.set_index('rounded', inplace=True)\n",
    "    timeline_player = timeline_player.sort_values('rounded')   \n",
    "    \n",
    "    if (only_kill):\n",
    "        timeline_player_filtered = timeline_player[timeline_player[\"event_types\"].str.contains('_KILL') == True]\n",
    "        plot_title = f'KILL- and Start/End-Events and Chat-Histogram for summoner {summoner_name}: Match {matchname}'\n",
    "    else:\n",
    "        timeline_player_filtered = timeline_player\n",
    "        plot_title = f'Events and Chat-Histogram for summoner {summoner_name}: Match {matchname}'\n",
    "    \n",
    "    f, ax = plt.subplots(2, 1, figsize = (20,7), gridspec_kw={'height_ratios': [5, 1]}, sharex=True)\n",
    "\n",
    "    # events unique of event timeline\n",
    "    events_unique = timeline_player_filtered['event_types'].unique()\n",
    "    events_unique = np.sort(events_unique)[::-1] # reverse\n",
    "\n",
    "    # plot histogram at bottom\n",
    "    baraxes = messages_per_sec.plot.bar(ax = ax[1], xticks=[], log=True, legend=False)\n",
    "    \n",
    "    v_counts = messages_per_sec['timecategory'].value_counts()\n",
    "    colors = np.repeat(['#0DA9FF', '#0000FF', '#0DA9FF'], [v_counts['BEFORE_MATCH'], v_counts['DURING_MATCH'], v_counts['AFTER_MATCH']])\n",
    "    for i, color in enumerate(colors):\n",
    "        baraxes.containers[0].patches[i].set_color(color)\n",
    "    \n",
    "    # set X axis labels\n",
    "    x_ticks = [messages_per_sec.index.get_loc(player_idx) for player_idx in timeline_player_filtered.index]\n",
    "    x_tick_labels = [str(messages_per_sec.index[idx].time()) for idx in x_ticks]\n",
    "\n",
    "    ax[1].set_xticks(x_ticks)\n",
    "    ax[1].set_xticklabels(labels=x_tick_labels, rotation=90)\n",
    "\n",
    "    # plot events at top\n",
    "    num_events = len(events_unique)\n",
    "    offsets = list(range(10, num_events * 10 + 1, 10))\n",
    "    colors = sns.color_palette(\"bright\", num_events).as_hex()\n",
    "    positions = []\n",
    "\n",
    "    for i, col in enumerate(events_unique):\n",
    "        positions.append([messages_per_sec.index.get_loc(idx) for idx in timeline_player_filtered[timeline_player_filtered['event_types'] == col].index])\n",
    "    \n",
    "    ax[0].eventplot(positions, colors=colors, lineoffsets=offsets, linelengths=10)\n",
    "\n",
    "    # set y labels of upper plot\n",
    "    ax[0].set_yticks(offsets)\n",
    "    ax[0].set_yticklabels(labels=events_unique)\n",
    "\n",
    "    ax[0].set_facecolor((.95, .95, .95, 0.95))\n",
    "    ax[1].set_facecolor((.95, .95, .95, 0.95))\n",
    "    plt.subplots_adjust(wspace=0, hspace=0)\n",
    "    \n",
    "    ax[0].set_title(plot_title)\n",
    "    plt.show()"
   ]
  },
  {
   "cell_type": "markdown",
   "id": "c106d2bd",
   "metadata": {},
   "source": [
    "### Plots from the Pentakill-Match"
   ]
  },
  {
   "cell_type": "markdown",
   "id": "a7dfe147",
   "metadata": {},
   "source": [
    "#### Game-Stats:"
   ]
  },
  {
   "cell_type": "code",
   "execution_count": null,
   "id": "74422b1c",
   "metadata": {
    "pycharm": {
     "name": "#%%\n"
    }
   },
   "outputs": [],
   "source": [
    "print_match_stats(messages_per_sec_pentakill, df_timeline_pentakill, 'Pentakill', df_events_by_player_pentakill)"
   ]
  },
  {
   "cell_type": "markdown",
   "id": "a0da7af5",
   "metadata": {},
   "source": [
    "#### Plots of Mammothman65 - The pentakiller (3rd most events in match)"
   ]
  },
  {
   "cell_type": "code",
   "execution_count": null,
   "id": "b99d4f3a",
   "metadata": {
    "pycharm": {
     "name": "#%%\n"
    }
   },
   "outputs": [],
   "source": [
    "plot_game_event_text_hist(messages_per_sec_pentakill, df_timeline_pentakill, 'MAMMOTHMAN65', 'Pentakill', only_kill=False)"
   ]
  },
  {
   "cell_type": "markdown",
   "id": "f3091753",
   "metadata": {},
   "source": [
    "There are a lot of messages in the end of the match. This is some seconds after the Pentakill (5 Champion-Kills, 4 Champion-Special-Kills)\n",
    "\n",
    "There are also a lot of messages when the player killed the first building and the first champion of the opponents.\n"
   ]
  },
  {
   "cell_type": "code",
   "execution_count": null,
   "id": "412117b9",
   "metadata": {
    "pycharm": {
     "name": "#%%\n"
    }
   },
   "outputs": [],
   "source": [
    "plot_game_event_text_hist(messages_per_sec_pentakill, df_timeline_pentakill, 'MAMMOTHMAN65', 'Pentakill', only_kill=True)"
   ]
  },
  {
   "cell_type": "markdown",
   "id": "954eb23c",
   "metadata": {},
   "source": [
    "Same plot as above - but less event-types on the y-axis of the first plot."
   ]
  },
  {
   "cell_type": "markdown",
   "id": "e376f32f",
   "metadata": {},
   "source": [
    "#### Plots of Yung Fappy - The player with the most events during the match"
   ]
  },
  {
   "cell_type": "code",
   "execution_count": null,
   "id": "f746a1d3",
   "metadata": {
    "pycharm": {
     "name": "#%%\n"
    }
   },
   "outputs": [],
   "source": [
    "plot_game_event_text_hist(messages_per_sec_pentakill, df_timeline_pentakill, 'Yung Fappy', 'Pentakill', only_kill=True)"
   ]
  },
  {
   "cell_type": "markdown",
   "id": "63d794c4",
   "metadata": {},
   "source": [
    "Only the last building kill of this player would result in a lot of chat messages. This summoner was not killed in the whole match (no CHAMPION_KILL_PASSIVE)"
   ]
  },
  {
   "cell_type": "markdown",
   "id": "a2558707",
   "metadata": {},
   "source": [
    "#### Plots of Kitzuo - The player with the second most events during the match"
   ]
  },
  {
   "cell_type": "code",
   "execution_count": null,
   "id": "3316eff5",
   "metadata": {
    "pycharm": {
     "name": "#%%\n"
    }
   },
   "outputs": [],
   "source": [
    "plot_game_event_text_hist(messages_per_sec_pentakill, df_timeline_pentakill, 'Kitzuo', 'Pentakill', only_kill = True)"
   ]
  },
  {
   "cell_type": "markdown",
   "id": "60cce565",
   "metadata": {},
   "source": [
    "At 5:46 the Champion Kill could have lead to reactions in the chat."
   ]
  },
  {
   "cell_type": "markdown",
   "id": "14eaf35d",
   "metadata": {},
   "source": [
    "#### Plots of Wishuwerehere2 - The player with the least events during the match"
   ]
  },
  {
   "cell_type": "code",
   "execution_count": null,
   "id": "6022803f",
   "metadata": {
    "pycharm": {
     "name": "#%%\n"
    }
   },
   "outputs": [],
   "source": [
    "plot_game_event_text_hist(messages_per_sec_pentakill, df_timeline_pentakill, 'Wishuwerehere2', 'Pentakill', only_kill = True)"
   ]
  }
 ],
 "metadata": {
  "kernelspec": {
   "display_name": "Python 3 (ipykernel)",
   "language": "python",
   "name": "python3"
  },
  "language_info": {
   "codemirror_mode": {
    "name": "ipython",
    "version": 3
   },
   "file_extension": ".py",
   "mimetype": "text/x-python",
   "name": "python",
   "nbconvert_exporter": "python",
   "pygments_lexer": "ipython3",
   "version": "3.8.9"
  }
 },
 "nbformat": 4,
 "nbformat_minor": 5
}
